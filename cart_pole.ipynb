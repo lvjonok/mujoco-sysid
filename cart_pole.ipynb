{
 "cells": [
  {
   "cell_type": "markdown",
   "metadata": {},
   "source": [
    "# Cart pole system identification example"
   ]
  },
  {
   "cell_type": "code",
   "execution_count": null,
   "metadata": {},
   "outputs": [],
   "source": [
    "import mujoco\n",
    "import copy\n",
    "import scipy\n",
    "import numpy as np\n",
    "from dm_control import mjcf\n",
    "\n",
    "np.random.seed(0)\n",
    "\n",
    "sim_model = mujoco.MjModel.from_xml_path(\"data/models/cart_pole/scene.xml\")\n",
    "sim_data = mujoco.MjData(sim_model)\n",
    "renderer = mujoco.Renderer(sim_model, height=480, width=640)"
   ]
  },
  {
   "cell_type": "markdown",
   "metadata": {},
   "source": [
    "# LQR for swing-up and balancing control of the cart-pole system\n"
   ]
  },
  {
   "cell_type": "code",
   "execution_count": null,
   "metadata": {},
   "outputs": [],
   "source": [
    "def compute_gains(model, data, configuration, Q, R):\n",
    "    # 1. Set configuration and find control that stabilizes it (ctrl0)\n",
    "    newdata = mujoco.MjData(model)\n",
    "    newdata = copy.copy(data)\n",
    "\n",
    "    mujoco.mj_resetData(model, newdata)\n",
    "    newdata.qpos = configuration\n",
    "    # compute the control\n",
    "    mujoco.mj_forward(model, newdata)\n",
    "    newdata.qacc = 0\n",
    "    mujoco.mj_inverse(model, newdata)\n",
    "\n",
    "    # define control and configuration to linearize around\n",
    "    print(newdata.qfrc_actuator)\n",
    "    ctrl0 = newdata.qfrc_inverse.copy() @ np.linalg.pinv(newdata.actuator_moment)\n",
    "    qpos0 = newdata.qpos.copy()\n",
    "\n",
    "    # 2. Compute LQR gains given weights\n",
    "    mujoco.mj_resetData(model, newdata)\n",
    "    newdata.ctrl = ctrl0\n",
    "    newdata.qpos = qpos0\n",
    "\n",
    "    # 3. Allocate the A and B matrices, compute them.\n",
    "    A = np.zeros((2 * model.nv, 2 * model.nv))\n",
    "    B = np.zeros((2 * model.nv, model.nu))\n",
    "    epsilon = 1e-6\n",
    "    flg_centered = True\n",
    "    mujoco.mjd_transitionFD(model, newdata, epsilon, flg_centered, A, B, None, None)\n",
    "\n",
    "    # Solve discrete Riccati equation.\n",
    "    P = scipy.linalg.solve_discrete_are(A, B, Q, R)\n",
    "\n",
    "    # Compute the feedback gain matrix K.\n",
    "    K = np.linalg.inv(R + B.T @ P @ B) @ B.T @ P @ A\n",
    "\n",
    "    return ctrl0, K"
   ]
  },
  {
   "cell_type": "code",
   "execution_count": null,
   "metadata": {},
   "outputs": [],
   "source": [
    "# Parameters.\n",
    "DURATION = 3  # seconds\n",
    "BALANCE_STD = 0.2  # actuator units\n",
    "\n",
    "dq = np.zeros(sim_model.nv)\n",
    "\n",
    "qpos0 = np.array([0, 2.05])\n",
    "target = np.array([0, np.pi])\n",
    "\n",
    "Q = np.diag([1, 1, 1, 1]) * 1e2\n",
    "R = np.eye(sim_model.nu)\n",
    "\n",
    "# ctrl0, K = compute_gains(uncertain_model, uncertain_data, target)\n",
    "ctrl0, K = compute_gains(sim_model, sim_data, target, Q, R)\n",
    "\n",
    "# Reset data, set initial pose.\n",
    "mujoco.mj_resetData(sim_model, sim_data)\n",
    "sim_data.qpos = qpos0\n",
    "\n",
    "qhist = []\n",
    "\n",
    "while sim_data.time < DURATION:\n",
    "    # Get state difference dx.\n",
    "    mujoco.mj_differentiatePos(sim_model, dq, 1, target, sim_data.qpos)\n",
    "    dx = np.hstack((dq, sim_data.qvel)).T\n",
    "\n",
    "    # LQR control law.\n",
    "    sim_data.ctrl = ctrl0 - K @ dx + np.random.randn(sim_model.nu) * BALANCE_STD\n",
    "\n",
    "    # Step the simulation.\n",
    "    mujoco.mj_step(sim_model, sim_data)\n",
    "\n",
    "    # Save history.\n",
    "    qhist.append(sim_data.qpos.copy())"
   ]
  },
  {
   "cell_type": "code",
   "execution_count": null,
   "metadata": {},
   "outputs": [],
   "source": [
    "import matplotlib.pyplot as plt\n",
    "\n",
    "qhist = np.array(qhist)\n",
    "plt.title(\"Stabilization of ideal model\")\n",
    "plt.plot(qhist[:, 0], label=\"x\")\n",
    "plt.plot(qhist[:, 1], label=\"theta\")\n",
    "\n",
    "plt.hlines(0, 0, len(qhist), color=\"black\", linestyle=\"--\")\n",
    "plt.hlines(np.pi, 0, len(qhist), color=\"black\", linestyle=\"--\")\n",
    "\n",
    "plt.grid()\n",
    "plt.legend()\n",
    "plt.show()"
   ]
  },
  {
   "cell_type": "markdown",
   "metadata": {},
   "source": [
    "# Try to balance the pole with the uncertain model\n",
    "\n",
    "We alter dynamical parameters of the cart-pole system as if we were unsure of them and made a guess\n"
   ]
  },
  {
   "cell_type": "code",
   "execution_count": null,
   "metadata": {},
   "outputs": [],
   "source": [
    "# create a model with uncertainty, with the same structure as the original model\n",
    "uncertain_model = mjcf.from_path(\"data/models/cart_pole/model.xml\")\n",
    "# change the mass of the cart\n",
    "cart = uncertain_model.find(\"body\", \"cart\")\n",
    "cart.inertial.mass = 1  # from 0.5 to 1.0\n",
    "\n",
    "# change the mass of the pole\n",
    "pole = uncertain_model.find(\"body\", \"pole\")\n",
    "pole.inertial.mass = 0.5  # from 0.1 to 0.5\n",
    "# change the length of the pole\n",
    "pole.inertial.pos[2] = -0.9  # from -0.5 to -0.9\n",
    "\n",
    "# create a model with uncertainty\n",
    "uncertain_model = mjcf.Physics.from_mjcf_model(uncertain_model).model._model\n",
    "uncertain_data = mujoco.MjData(uncertain_model)\n",
    "\n",
    "ctrl0, K = compute_gains(uncertain_model, uncertain_data, target, Q, R)\n",
    "\n",
    "# Reset data, set initial pose.\n",
    "mujoco.mj_resetData(sim_model, sim_data)\n",
    "sim_data.qpos = qpos0\n",
    "\n",
    "qhist_uncertain = []\n",
    "\n",
    "while sim_data.time < DURATION:\n",
    "    # Get state difference dx.\n",
    "    mujoco.mj_differentiatePos(sim_model, dq, 1, target, sim_data.qpos)\n",
    "    dx = np.hstack((dq, sim_data.qvel)).T\n",
    "\n",
    "    # LQR control law.\n",
    "    sim_data.ctrl = ctrl0 - K @ dx + np.random.randn(sim_model.nu) * BALANCE_STD\n",
    "\n",
    "    # Step the simulation.\n",
    "    mujoco.mj_step(sim_model, sim_data)\n",
    "\n",
    "    # Save history.\n",
    "    qhist_uncertain.append(sim_data.qpos.copy())"
   ]
  },
  {
   "cell_type": "code",
   "execution_count": null,
   "metadata": {},
   "outputs": [],
   "source": [
    "import matplotlib.pyplot as plt\n",
    "\n",
    "qhist_uncertain = np.array(qhist_uncertain)\n",
    "plt.title(\"Stabilization of uncertain model\")\n",
    "plt.plot(qhist[:, 0], label=\"x\")\n",
    "plt.plot(qhist[:, 1], label=\"$\\\\theta$\")\n",
    "plt.plot(qhist_uncertain[:, 0], label=\"$x_{uncertain}$\")\n",
    "plt.plot(qhist_uncertain[:, 1], label=\"$\\\\theta_{uncertain}$\")\n",
    "\n",
    "plt.hlines(0, 0, len(qhist), color=\"black\", linestyle=\"--\")\n",
    "plt.hlines(np.pi, 0, len(qhist), color=\"black\", linestyle=\"--\")\n",
    "\n",
    "plt.grid()\n",
    "plt.legend()\n",
    "plt.show()"
   ]
  },
  {
   "cell_type": "markdown",
   "metadata": {},
   "source": [
    "It is obvious that even though cart pole with uncertain model can still balance the pole, the controller performance is far from optimal.\n",
    "\n",
    "In order to tackle this problem, we can gather data from the uncertain model and use it to identify the system dynamics. Then, we can design a controller based on the identified model.\n"
   ]
  },
  {
   "cell_type": "markdown",
   "metadata": {},
   "source": [
    "# Random forcing and data gathering"
   ]
  },
  {
   "cell_type": "code",
   "execution_count": null,
   "metadata": {},
   "outputs": [],
   "source": [
    "# random forcing and measure data\n",
    "\n",
    "# Reset data, set initial pose.\n",
    "mujoco.mj_resetData(sim_model, sim_data)\n",
    "\n",
    "identification_data = {\n",
    "    \"qhist\": [],\n",
    "    \"vhist\": [],\n",
    "    \"dvhist\": [],\n",
    "    \"uhist\": [],\n",
    "}\n",
    "\n",
    "for i in range(3000):\n",
    "    identification_data[\"qhist\"].append(sim_data.qpos.copy())\n",
    "    identification_data[\"vhist\"].append(sim_data.qvel.copy())\n",
    "\n",
    "    u = np.random.randn(1) * 10\n",
    "    identification_data[\"uhist\"].append(u)\n",
    "\n",
    "    sim_data.ctrl = u\n",
    "    mujoco.mj_step(sim_model, sim_data)\n",
    "    identification_data[\"dvhist\"].append(sim_data.qacc.copy())\n",
    "\n",
    "identification_data[\"qhist\"] = np.array(identification_data[\"qhist\"])\n",
    "identification_data[\"vhist\"] = np.array(identification_data[\"vhist\"])\n",
    "identification_data[\"dvhist\"] = np.array(identification_data[\"dvhist\"])\n",
    "identification_data[\"uhist\"] = np.array(identification_data[\"uhist\"])"
   ]
  },
  {
   "cell_type": "markdown",
   "metadata": {},
   "source": [
    "# Formulate regressors of system dynamics\n",
    "\n",
    "$$\n",
    "\\begin{equation}\n",
    "\\begin{cases}\n",
    "\\left(M+m\\right){\\ddot {p}}-m L \\ddot{\\theta} \\cos \\theta +m L \\dot{\\theta }^{2}\\sin \\theta = u \\\\\n",
    "L \\ddot{\\theta}- g\\sin \\theta =\\ddot{p} \\cos \\theta \\\\\n",
    "\\end{cases}\n",
    "\\end{equation}\n",
    "$$\n",
    "\n",
    "where $\\theta$ is angle of the pendulum measured from the upper equilibrium and $p$ is position of cart\n",
    "\n",
    "In form of regressors where we find to estimate the parameters of the system, namely, $M$, $m$, $L$.\n",
    "\n",
    "$$\n",
    "\\begin{bmatrix}\n",
    "\\ddot{p} & - \\ddot{\\theta} \\cos \\theta + \\dot{\\theta}^2 \\sin \\theta & 0 \\\\\n",
    "0 & 0 & \\ddot{\\theta} \\\\\n",
    "\\end{bmatrix} \\begin{bmatrix}\n",
    "M + m \\\\\n",
    "mL \\\\\n",
    "L\n",
    "\\end{bmatrix} = \\begin{bmatrix}\n",
    "u \\\\\n",
    "g \\sin \\theta + \\ddot{p} \\cos \\theta \\\\\n",
    "\\end{bmatrix}\n",
    "$$\n",
    "\n",
    "Next, for each time step, we gather data to form the regressor matrix and the output vector.\n"
   ]
  },
  {
   "cell_type": "code",
   "execution_count": null,
   "metadata": {},
   "outputs": [],
   "source": [
    "# formulate regressor\n",
    "A = []\n",
    "b = []\n",
    "\n",
    "g = 9.81\n",
    "\n",
    "for i in range(1, len(qhist)):\n",
    "    q = identification_data[\"qhist\"][i]\n",
    "    v = identification_data[\"vhist\"][i]\n",
    "    dv = identification_data[\"dvhist\"][i]\n",
    "    u = identification_data[\"uhist\"][i]\n",
    "\n",
    "    regressor = [\n",
    "        [dv[0], -dv[1] * np.cos(q[1]) + v[1] ** 2 * np.sin(q[1]), 0],\n",
    "        [0, 0, dv[1]],\n",
    "    ]\n",
    "\n",
    "    A.extend(regressor)\n",
    "    b.extend(\n",
    "        [\n",
    "            u[0],\n",
    "            dv[0] * np.cos(q[1]) + g * np.sin(q[1]),\n",
    "        ]\n",
    "    )\n",
    "\n",
    "A = np.array(A)\n",
    "b = np.array(b)"
   ]
  },
  {
   "cell_type": "markdown",
   "metadata": {},
   "source": [
    "# From MJCF we obtain target values for the model"
   ]
  },
  {
   "cell_type": "code",
   "execution_count": null,
   "metadata": {},
   "outputs": [],
   "source": [
    "target_params = np.array([0.1 + 0.5, 0.5 * 0.1, 0.5])\n",
    "\n",
    "target_params"
   ]
  },
  {
   "cell_type": "markdown",
   "metadata": {},
   "source": [
    "# Identify the model\n"
   ]
  },
  {
   "cell_type": "code",
   "execution_count": null,
   "metadata": {},
   "outputs": [],
   "source": [
    "import mujoco.minimize as minimize\n",
    "\n",
    "result = minimize.least_squares(\n",
    "    np.zeros(3),\n",
    "    lambda x: (A @ x - b) ** 2,\n",
    ")\n",
    "\n",
    "identified_parameters = result[0]\n",
    "\n",
    "newL = identified_parameters[2]\n",
    "new_poleM = identified_parameters[1] / newL\n",
    "new_cartM = identified_parameters[0] - new_poleM\n",
    "\n",
    "identified_parameters"
   ]
  },
  {
   "cell_type": "markdown",
   "metadata": {},
   "source": [
    "Parameters are close to the real values. Try stabilize with them.\n"
   ]
  },
  {
   "cell_type": "code",
   "execution_count": null,
   "metadata": {},
   "outputs": [],
   "source": [
    "# create a model with identified parameters, with the same structure as the original model\n",
    "identified_model = mjcf.from_path(\"data/models/cart_pole/model.xml\")\n",
    "# change the mass of the cart\n",
    "cart = identified_model.find(\"body\", \"cart\")\n",
    "cart.inertial.mass = new_cartM\n",
    "\n",
    "# change the mass of the pole\n",
    "pole = identified_model.find(\"body\", \"pole\")\n",
    "pole.inertial.mass = new_poleM\n",
    "# change the length of the pole\n",
    "pole.inertial.pos[2] = -newL\n",
    "\n",
    "# create a model with uncertainty\n",
    "identified_model = mjcf.Physics.from_mjcf_model(identified_model).model._model\n",
    "identified_data = mujoco.MjData(identified_model)\n",
    "\n",
    "ctrl0, K = compute_gains(identified_model, identified_data, target, Q, R)\n",
    "\n",
    "# Reset data, set initial pose.\n",
    "mujoco.mj_resetData(sim_model, sim_data)\n",
    "sim_data.qpos = qpos0\n",
    "\n",
    "qhist_identified = []\n",
    "\n",
    "while sim_data.time < DURATION:\n",
    "    # Get state difference dx.\n",
    "    mujoco.mj_differentiatePos(sim_model, dq, 1, target, sim_data.qpos)\n",
    "    dx = np.hstack((dq, sim_data.qvel)).T\n",
    "\n",
    "    # LQR control law.\n",
    "    sim_data.ctrl = ctrl0 - K @ dx + np.random.randn(sim_model.nu) * BALANCE_STD\n",
    "\n",
    "    # Step the simulation.\n",
    "    mujoco.mj_step(sim_model, sim_data)\n",
    "\n",
    "    # Save history.\n",
    "    qhist_identified.append(sim_data.qpos.copy())"
   ]
  },
  {
   "cell_type": "code",
   "execution_count": null,
   "metadata": {},
   "outputs": [],
   "source": [
    "import matplotlib.pyplot as plt\n",
    "\n",
    "qhist_identified = np.array(qhist_identified)\n",
    "plt.title(\"Stabilization of identified model\")\n",
    "plt.plot(qhist[:, 0], label=\"x\", linestyle=\"--\")\n",
    "plt.plot(qhist[:, 1], label=\"$\\\\theta$\", linestyle=\"--\")\n",
    "plt.plot(qhist_identified[:, 0], label=\"$\\hat{x}$\")\n",
    "plt.plot(qhist_identified[:, 1], label=r\"$\\hat{\\theta}$\")\n",
    "plt.plot(qhist_uncertain[:, 0], label=\"$x_{uncertain}$\", alpha=0.5)\n",
    "plt.plot(qhist_uncertain[:, 1], label=r\"$\\theta_{uncertain}$\", alpha=0.5)\n",
    "\n",
    "plt.hlines(0, 0, len(qhist), color=\"black\", linestyle=\"--\")\n",
    "plt.hlines(np.pi, 0, len(qhist), color=\"black\", linestyle=\"--\")\n",
    "\n",
    "plt.grid()\n",
    "plt.legend()\n",
    "plt.show()"
   ]
  },
  {
   "cell_type": "markdown",
   "metadata": {},
   "source": [
    "# Conclusion:\n",
    "\n",
    "The system with identified parameters has better performance at stabilizing the pole than the system with uncertain parameters.\n"
   ]
  }
 ],
 "metadata": {
  "kernelspec": {
   "display_name": "venv",
   "language": "python",
   "name": "python3"
  },
  "language_info": {
   "codemirror_mode": {
    "name": "ipython",
    "version": 3
   },
   "file_extension": ".py",
   "mimetype": "text/x-python",
   "name": "python",
   "nbconvert_exporter": "python",
   "pygments_lexer": "ipython3",
   "version": "3.11.8"
  }
 },
 "nbformat": 4,
 "nbformat_minor": 2
}
