{
 "cells": [
  {
   "cell_type": "markdown",
   "metadata": {},
   "source": [
    "# This notebook shows system identification of Franka Emika Panda"
   ]
  },
  {
   "cell_type": "code",
   "execution_count": 1,
   "metadata": {},
   "outputs": [],
   "source": [
    "from mujoco_logger import SimLog\n",
    "from mujoco_sysid import mj_jointRegressor\n",
    "import mujoco\n",
    "from robot_descriptions.panda_mj_description import MJCF_PATH\n",
    "from robot_descriptions.panda_description import URDF_PATH\n",
    "import pinocchio as pin\n",
    "from scripts.utils import ActuatorMotor, update_actuator\n",
    "import numpy as np"
   ]
  },
  {
   "cell_type": "code",
   "execution_count": 2,
   "metadata": {},
   "outputs": [],
   "source": [
    "log = SimLog(\"data/panda_data.json\")"
   ]
  },
  {
   "cell_type": "code",
   "execution_count": 3,
   "metadata": {},
   "outputs": [
    {
     "data": {
      "text/plain": [
       "((5000, 7), (5000, 7), (5000, 7), (5000, 7))"
      ]
     },
     "execution_count": 3,
     "metadata": {},
     "output_type": "execute_result"
    }
   ],
   "source": [
    "# cut part of the data to disable the gripper\n",
    "q = log.data(\"qpos\")[:, :-2]\n",
    "v = log.data(\"qvel\")[:, :-2]\n",
    "dv = log.data(\"qacc\")[:, :-2]\n",
    "tau = log.data(\"ctrl\")[:, :-1]\n",
    "\n",
    "q.shape, v.shape, dv.shape, tau.shape"
   ]
  },
  {
   "cell_type": "code",
   "execution_count": 8,
   "metadata": {},
   "outputs": [],
   "source": [
    "model = mujoco.MjModel.from_xml_path(MJCF_PATH)\n",
    "data = mujoco.MjData(model)\n",
    "\n",
    "pinmodel = pin.buildModelFromUrdf(URDF_PATH)\n",
    "pindata = pin.Data(pinmodel)\n",
    "\n",
    "for actuator_id in range(model.nu):\n",
    "    actuator = ActuatorMotor()\n",
    "    update_actuator(model, actuator_id, actuator)\n",
    "\n",
    "A = np.zeros((5000 * 7, 7 * 10))\n",
    "b = np.zeros((5000 * 7,))\n",
    "\n",
    "for i in range(len(log)):\n",
    "    q_i = q[i]\n",
    "    v_i = v[i]\n",
    "    dv_i = dv[i]\n",
    "    tau_i = tau[i]\n",
    "\n",
    "    data.qpos[:-2] = q_i\n",
    "    data.qvel[:-2] = v_i\n",
    "    data.qacc[:-2] = dv_i\n",
    "\n",
    "    mujoco.mj_inverse(model, data)\n",
    "    mujoco.mj_rnePostConstraint(model, data)\n",
    "\n",
    "    # remove fingers from consideration with [:-2, :-20]\n",
    "    Ypin = pin.computeJointTorqueRegressor(\n",
    "        pinmodel, pindata, log.qpin[i], log.vpin[i], log.dv[i]\n",
    "    )[:-2, :-20]\n",
    "    Y = mj_jointRegressor(model, data)[:-2, :-20]\n",
    "\n",
    "    A[i * 7 : (i + 1) * 7, :] = Y\n",
    "    b[i * 7 : (i + 1) * 7] = tau_i\n",
    "\n",
    "    np.testing.assert_allclose(Y, Ypin, atol=1e-6, rtol=1e-6)"
   ]
  },
  {
   "cell_type": "code",
   "execution_count": 20,
   "metadata": {},
   "outputs": [
    {
     "name": "stdout",
     "output_type": "stream",
     "text": [
      "[ 0.    -0.     0.     0.     0.    -0.     0.     0.    -0.     0.844]\n",
      "[ 0.    -0.947 -2.421 -0.     0.593  0.31   0.252 -0.236  0.891 -2.707]\n",
      "[ 0.554  1.89   0.184  1.085 -0.589  1.288 -1.526  0.696 -0.006 -0.223]\n",
      "[ 0.698 -0.018  1.114 -0.077 -0.329 -0.15  -0.483  0.66   0.057  0.068]\n",
      "[ 1.081 -0.047 -0.086  0.901  0.214  0.294 -0.475 -0.035 -0.162 -0.025]\n",
      "[ 1.081 -0.935 -0.044  0.086 -0.043  0.038  0.232  0.181 -0.001  0.152]\n",
      "[ 1.002 -0.265  0.062  0.047  0.045 -0.059  0.063  0.034  0.094  0.044]\n"
     ]
    }
   ],
   "source": [
    "from mujoco import minimize\n",
    "\n",
    "np.set_printoptions(precision=3, suppress=True)\n",
    "\n",
    "for arr in np.hsplit(np.linalg.lstsq(A, b, rcond=None)[0], 7):\n",
    "    print(arr)"
   ]
  },
  {
   "cell_type": "code",
   "execution_count": 13,
   "metadata": {},
   "outputs": [
    {
     "name": "stdout",
     "output_type": "stream",
     "text": [
      "universe [ 0.63  -0.026 -0.     0.031  0.005 -0.     0.007  0.001  0.     0.005]\n",
      "panda_joint1 [ 4.971  0.019  0.01  -0.237  0.715 -0.     0.718  0.008  0.02   0.009]\n",
      "panda_joint2 [ 0.647 -0.002 -0.019  0.002  0.009 -0.004  0.028  0.01   0.001  0.027]\n",
      "panda_joint3 [ 3.229  0.089  0.127 -0.215  0.056 -0.008  0.053 -0.005 -0.004  0.018]\n",
      "panda_joint4 [ 3.588 -0.191  0.375  0.099  0.068  0.028  0.032  0.004 -0.002  0.078]\n",
      "panda_joint5 [ 1.226 -0.015  0.05  -0.047  0.039 -0.002  0.031 -0.005  0.002  0.011]\n",
      "panda_joint6 [ 1.667  0.1   -0.024 -0.018  0.002  0.002  0.011 -0.     0.     0.012]\n",
      "panda_joint7 [ 1.466  0.003  0.002  0.145  0.031  0.     0.028 -0.001 -0.001  0.007]\n",
      "panda_finger_joint1 [0.015 0.    0.    0.    0.    0.    0.    0.    0.    0.   ]\n",
      "panda_finger_joint2 [0.015 0.    0.    0.    0.    0.    0.    0.    0.    0.   ]\n"
     ]
    }
   ],
   "source": [
    "for i in range(pinmodel.nbodies):\n",
    "    print(pinmodel.names[i], pinmodel.inertias[i].toDynamicParameters())"
   ]
  },
  {
   "cell_type": "code",
   "execution_count": null,
   "metadata": {},
   "outputs": [],
   "source": []
  }
 ],
 "metadata": {
  "kernelspec": {
   "display_name": "venv",
   "language": "python",
   "name": "python3"
  },
  "language_info": {
   "codemirror_mode": {
    "name": "ipython",
    "version": 3
   },
   "file_extension": ".py",
   "mimetype": "text/x-python",
   "name": "python",
   "nbconvert_exporter": "python",
   "pygments_lexer": "ipython3",
   "version": "3.10.12"
  }
 },
 "nbformat": 4,
 "nbformat_minor": 2
}
