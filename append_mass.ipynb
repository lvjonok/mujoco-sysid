{
 "cells": [
  {
   "cell_type": "code",
   "execution_count": 1,
   "metadata": {},
   "outputs": [],
   "source": [
    "import mujoco\n",
    "import mediapy as media\n",
    "from dm_control import mjcf\n",
    "import numpy as np\n",
    "from robot_descriptions.panda_mj_description import MJCF_PATH\n",
    "from scripts.utils import update_actuator, ActuatorMotor\n",
    "\n",
    "# np.random.seed(0)"
   ]
  },
  {
   "cell_type": "code",
   "execution_count": 2,
   "metadata": {},
   "outputs": [
    {
     "data": {
      "text/plain": [
       "'/home/leo/.cache/robot_descriptions/mujoco_menagerie/franka_emika_panda/panda_nohand.xml'"
      ]
     },
     "execution_count": 2,
     "metadata": {},
     "output_type": "execute_result"
    }
   ],
   "source": [
    "MJCF_PATH = MJCF_PATH[: -len(\"panda.xml\")] + \"panda_nohand.xml\"\n",
    "\n",
    "MJCF_PATH"
   ]
  },
  {
   "cell_type": "code",
   "execution_count": 3,
   "metadata": {},
   "outputs": [
    {
     "data": {
      "text/plain": [
       "MJCF Element: <body name=\"link7\" pos=\"0.087999999999999995 0 0\" quat=\"1 1 0 0\">...</body>"
      ]
     },
     "execution_count": 3,
     "metadata": {},
     "output_type": "execute_result"
    }
   ],
   "source": [
    "# load the model\n",
    "mjcf_model = mjcf.from_path(MJCF_PATH, escape_separators=True)\n",
    "# append the body to the end-effector\n",
    "ee_body = mjcf_model.find(\"body\", \"link7\")\n",
    "\n",
    "ee_body"
   ]
  },
  {
   "cell_type": "code",
   "execution_count": 4,
   "metadata": {},
   "outputs": [],
   "source": [
    "# old model\n",
    "old_mjcf_model = mjcf.from_path(MJCF_PATH, escape_separators=True)\n",
    "# disable collisions for all the geoms\n",
    "for geom in old_mjcf_model.find_all(\"geom\"):\n",
    "    geom.conaffinity = 0\n",
    "    geom.contype = 0\n",
    "\n",
    "old_model = mjcf.Physics.from_mjcf_model(old_mjcf_model).model._model\n",
    "old_data = mujoco.MjData(old_model)\n",
    "body_offset = np.where(old_model.body_dofadr == 0)[0][0]\n",
    "\n",
    "# create new body\n",
    "rc = np.array([0.1, 0.05, -0.1])\n",
    "load_mass = ee_body.add(\"body\", name=\"load_mass\", pos=f\"{rc[0]} {rc[1]} {rc[2]}\")\n",
    "load_mass.add(\n",
    "    \"geom\", name=\"load_mass_geom\", type=\"sphere\", size=\"0.05\", rgba=\"0.8 0.2 0.2 1\"\n",
    ")\n",
    "\n",
    "M = 2.0\n",
    "# R = 0.0001\n",
    "I = 1e-3  # M * rc[0]**2\n",
    "\n",
    "load_mass.add(\n",
    "    \"inertial\", mass=f\"{M}\", pos=f\"0 0 0\", diaginertia=f\"{1e-3} {1e-3} {1e-3}\"\n",
    ")\n",
    "\n",
    "# disable collision for all the geoms\n",
    "for geom in mjcf_model.find_all(\"geom\"):\n",
    "    geom.conaffinity = 0\n",
    "    geom.contype = 0\n",
    "\n",
    "physics = mjcf.Physics.from_mjcf_model(mjcf_model)\n",
    "sim_model = physics.model._model\n",
    "sim_data = mujoco.MjData(sim_model)\n",
    "renderer = mujoco.Renderer(sim_model, height=480, width=640)"
   ]
  },
  {
   "cell_type": "code",
   "execution_count": 5,
   "metadata": {},
   "outputs": [
    {
     "data": {
      "text/html": [
       "<table class=\"show_images\" style=\"border-spacing:0px;\"><tr><td style=\"padding:1px;\"><img width=\"640\" height=\"480\" style=\"image-rendering:auto; object-fit:cover;\" src=\"data:image/png;base64,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\"/></td></tr></table>"
      ],
      "text/plain": [
       "<IPython.core.display.HTML object>"
      ]
     },
     "metadata": {},
     "output_type": "display_data"
    }
   ],
   "source": [
    "# Reset data, set initial pose.\n",
    "mujoco.mj_resetData(sim_model, sim_data)\n",
    "\n",
    "# Step the simulation.\n",
    "mujoco.mj_step(sim_model, sim_data)\n",
    "\n",
    "renderer.update_scene(sim_data)\n",
    "media.show_image(renderer.render())"
   ]
  },
  {
   "cell_type": "code",
   "execution_count": 6,
   "metadata": {},
   "outputs": [],
   "source": [
    "def staticload_joint_regressor(\n",
    "    mj_model, mj_data, ee_id, active_joints=7, body_offset=0\n",
    "):\n",
    "    accel = np.zeros(6)\n",
    "\n",
    "    mujoco.mj_rnePostConstraint(mj_model, mj_data)\n",
    "    mujoco.mj_objectAcceleration(mj_model, mj_data, 2, ee_id, accel, 1)\n",
    "    rotation = mj_data.xmat[ee_id + body_offset].reshape(3, 3).copy()\n",
    "\n",
    "    a1, a2, a3 = rotation.T @ np.array([0, 0, 9.81])  #\n",
    "\n",
    "    static_load_regressor = np.array(\n",
    "        [\n",
    "            [a1, 0, 0, 0],\n",
    "            [a2, 0, 0, 0],\n",
    "            [a3, 0, 0, 0],\n",
    "            [0, 0, a3, -a2],\n",
    "            [0, -a3, 0, a1],\n",
    "            [0, a2, -a1, 0],\n",
    "        ]\n",
    "    )\n",
    "\n",
    "    jac_lin = np.zeros((3, mj_model.nv))\n",
    "    jac_rot = np.zeros((3, mj_model.nv))\n",
    "    mujoco.mj_jacBody(mj_model, mj_data, jac_lin, jac_rot, ee_id + body_offset)\n",
    "    ee_local_jacobian = np.vstack(\n",
    "        (\n",
    "            rotation.T @ jac_lin[:, :active_joints],\n",
    "            rotation.T @ jac_rot[:, :active_joints],\n",
    "        )\n",
    "    )\n",
    "    joint_regressor = ee_local_jacobian.T @ static_load_regressor\n",
    "\n",
    "    return joint_regressor"
   ]
  },
  {
   "cell_type": "code",
   "execution_count": 7,
   "metadata": {},
   "outputs": [],
   "source": [
    "for actuator_id in range(sim_model.nu):\n",
    "    actuator = ActuatorMotor()\n",
    "    update_actuator(sim_model, actuator_id, actuator)\n",
    "\n",
    "# find limits except the last two fingers\n",
    "lower, upper = np.zeros(sim_model.nq), np.zeros(sim_model.nq)\n",
    "for jnt_idx in range(sim_model.nq):\n",
    "    lower[jnt_idx] = sim_model.joint(jnt_idx).range[0]\n",
    "    upper[jnt_idx] = sim_model.joint(jnt_idx).range[1]\n",
    "\n",
    "kp = 50\n",
    "kd = 10\n",
    "target_q = np.random.uniform(lower, upper)\n",
    "\n",
    "frames = []\n",
    "framerate = 25\n",
    "\n",
    "phase_time = 5.0\n",
    "num_of_phases = 30\n",
    "phases = 0\n",
    "old_data.time = 0\n",
    "sim_data.time = 0\n",
    "\n",
    "# print(sim_model.nq)\n",
    "load_joint_regressor = np.zeros(((sim_model.nq) * num_of_phases, 4))\n",
    "load_joint_force = np.zeros((sim_model.nq) * num_of_phases)\n",
    "active_joints = sim_model.nq\n",
    "\n",
    "while sim_data.time < num_of_phases * phase_time:\n",
    "    # PD controller\n",
    "    mujoco.mj_step(sim_model, sim_data)\n",
    "\n",
    "    target_acc = kp * (target_q - sim_data.qpos) + kd * (\n",
    "        np.zeros(sim_model.nv) - sim_data.qvel\n",
    "    )\n",
    "\n",
    "    # use old data to solve inverse dynamics\n",
    "    old_data.qpos = sim_data.qpos.copy()\n",
    "    old_data.qvel = sim_data.qvel.copy()\n",
    "    old_data.qacc = target_acc\n",
    "    mujoco.mj_inverse(old_model, old_data)\n",
    "    sol = old_data.qfrc_inverse\n",
    "\n",
    "    sim_data.ctrl = sol\n",
    "\n",
    "    if (\n",
    "        sim_data.time > phase_time * phases\n",
    "        and sim_data.time < num_of_phases * phase_time\n",
    "    ):\n",
    "        # print(load_force)\n",
    "        regressor = staticload_joint_regressor(\n",
    "            old_model, old_data, old_data.body(ee_body.name).id\n",
    "        ).copy()\n",
    "        load_joint_regressor[7 * phases : 7 * (phases + 1), :] = regressor\n",
    "\n",
    "        load_qforce = sol[:7] - old_data.qfrc_bias[:7]\n",
    "        load_joint_force[7 * phases : 7 * (phases + 1)] = load_qforce.copy()\n",
    "        actual_load_qforce = regressor @ np.array([M, *(M * rc)])\n",
    "\n",
    "        # print(load_qforce)\n",
    "        # print(actual_load_qforce)\n",
    "        # print()\n",
    "\n",
    "        phases += 1\n",
    "        target_q = np.random.uniform(lower, upper)\n",
    "\n",
    "\n",
    "#     if len(frames) < sim_data.time * framerate:\n",
    "#         renderer.update_scene(sim_data)\n",
    "#         frames.append(renderer.render())\n",
    "\n",
    "\n",
    "# media.show_video(frames, fps=framerate)"
   ]
  },
  {
   "cell_type": "code",
   "execution_count": 8,
   "metadata": {},
   "outputs": [
    {
     "data": {
      "text/plain": [
       "(2.0, array([ 0.1 ,  0.05, -0.1 ]))"
      ]
     },
     "execution_count": 8,
     "metadata": {},
     "output_type": "execute_result"
    }
   ],
   "source": [
    "M, rc"
   ]
  },
  {
   "cell_type": "code",
   "execution_count": 9,
   "metadata": {},
   "outputs": [
    {
     "data": {
      "text/plain": [
       "(1.9976023172657875, array([ 0.09827258,  0.04986133, -0.09827478]))"
      ]
     },
     "execution_count": 9,
     "metadata": {},
     "output_type": "execute_result"
    }
   ],
   "source": [
    "params_estimates = np.linalg.pinv(load_joint_regressor[7:, :]) @ load_joint_force[7:]\n",
    "mass = params_estimates[0]\n",
    "coordinate = params_estimates[1:] / mass\n",
    "mass, coordinate"
   ]
  },
  {
   "cell_type": "code",
   "execution_count": 10,
   "metadata": {},
   "outputs": [
    {
     "data": {
      "text/plain": [
       "1.718152100522178"
      ]
     },
     "execution_count": 10,
     "metadata": {},
     "output_type": "execute_result"
    }
   ],
   "source": [
    "# check the residual\n",
    "\n",
    "residual = load_joint_force[7:] - load_joint_regressor[7:, :] @ params_estimates\n",
    "np.linalg.norm(residual)"
   ]
  },
  {
   "cell_type": "code",
   "execution_count": 11,
   "metadata": {},
   "outputs": [
    {
     "name": "stdout",
     "output_type": "stream",
     "text": [
      "iter: 0    y: 5.552e+05  log10mu: -inf  ratio: 0.94     dx: 0.99     reduction: 5.2e+05\n",
      "iter: 1    y: 3.478e+04  log10mu: -inf  ratio: 0.94     dx: 0.49     reduction: 3.3e+04\n",
      "iter: 2    y: 2192       log10mu: -inf  ratio: 0.94     dx: 0.25     reduction: 2.1e+03\n",
      "iter: 3    y: 141.6      log10mu: -inf  ratio: 0.94     dx: 0.13     reduction: 1.3e+02\n",
      "iter: 4    y: 10.34      log10mu: -inf  ratio: 0.95     dx: 0.065    reduction: 8.9    \n",
      "iter: 5    y: 1.419      log10mu: -inf  ratio: 0.93     dx: 0.041    reduction: 0.8    \n",
      "iter: 6    y: 0.6162     log10mu: -inf  ratio: 0.75     dx: 0.016    reduction: 0.037  \n",
      "iter: 7    y: 0.5795     log10mu: -inf  ratio: 0.52     dx: 0.0039   reduction: 0.0011 \n",
      "iter: 8    y: 0.5784     log10mu: -inf  ratio: 0.5      dx: 0.0019   reduction: 0.00024\n",
      "iter: 9    y: 0.5782     log10mu: -inf  ratio: 0.5      dx: 0.00093  reduction: 6e-05  \n",
      "iter: 10   y: 0.5781     log10mu: -inf  ratio: 0.5      dx: 0.00047  reduction: 1.5e-05\n",
      "iter: 11   y: 0.5781     log10mu: -inf  ratio: 0.5      dx: 0.00023  reduction: 3.7e-06\n",
      "iter: 12   y: 0.5781     log10mu: -inf  ratio: 0.49     dx: 0.00012  reduction: 9.1e-07\n",
      "iter: 13   y: 0.5781     log10mu: -inf  ratio: 0.51     dx: 5.8e-05  reduction: 2.4e-07\n",
      "iter: 14   y: 0.5781     log10mu: -inf  ratio: 0.47     dx: 2.9e-05  reduction: 5.5e-08\n",
      "iter: 15   y: 0.5781     log10mu: -inf  ratio: 0.56     dx: 1.5e-05  reduction: 1.6e-08\n",
      "iter: 16   y: 0.5781     log10mu: -inf  ratio: 0.38     dx: 7.3e-06  reduction: 2.8e-09\n",
      "iter: 17   y: 0.5781     log10mu: -inf  ratio: 0.74     dx: 3.6e-06  reduction: 1.3e-09\n",
      "iter: 18   y: 0.5781     log10mu: -inf  ratio: 0.022    dx: 1.8e-06  reduction: 1e-11  \n",
      "iter: 19   y: 0.5781     log10mu: -6.0  ratio: 1.5      dx: 9.1e-07  reduction: 1.7e-10\n",
      "iter: 20   y: 0.5781     log10mu:  7.2  ratio: 0.095    dx: 8.6e-12  reduction: 1.1e-16\n",
      "Terminated after 20 iterations: norm(dx) < tol. y: 0.5781, Residual evals: 239\n",
      "total time 15.7ms of which residual 35.8%\n"
     ]
    },
    {
     "data": {
      "text/plain": [
       "(1.9871651668369628, array([ 0.08775949,  0.05180649, -0.08918887]))"
      ]
     },
     "execution_count": 11,
     "metadata": {},
     "output_type": "execute_result"
    }
   ],
   "source": [
    "import mujoco.minimize as minimize\n",
    "\n",
    "result = minimize.least_squares(\n",
    "    np.ones(4),\n",
    "    lambda x: (load_joint_regressor[7:] @ x - load_joint_force[7:]) ** 2,\n",
    ")\n",
    "estimates = result[0]\n",
    "mass = estimates[0]\n",
    "coordinate = estimates[1:] / mass\n",
    "mass, coordinate"
   ]
  },
  {
   "cell_type": "code",
   "execution_count": 12,
   "metadata": {},
   "outputs": [
    {
     "name": "stdout",
     "output_type": "stream",
     "text": [
      "joint 0 target: -2.17 actual: -2.13\n",
      "joint 1 target: -0.95 actual: -0.98\n",
      "joint 2 target: -2.68 actual: -2.80\n",
      "joint 3 target: -1.07 actual: -1.22\n",
      "joint 4 target: 0.44 actual: 0.38\n",
      "joint 5 target: 0.50 actual: 0.41\n",
      "joint 6 target: -0.46 actual: -0.30\n"
     ]
    }
   ],
   "source": [
    "for i in range(len(target_q)):\n",
    "    print(f\"joint {i} target: {target_q[i]:.2f} actual: {sim_data.qpos[i]:.2f}\")"
   ]
  }
 ],
 "metadata": {
  "kernelspec": {
   "display_name": "venv",
   "language": "python",
   "name": "python3"
  },
  "language_info": {
   "codemirror_mode": {
    "name": "ipython",
    "version": 3
   },
   "file_extension": ".py",
   "mimetype": "text/x-python",
   "name": "python",
   "nbconvert_exporter": "python",
   "pygments_lexer": "ipython3",
   "version": "3.11.8"
  }
 },
 "nbformat": 4,
 "nbformat_minor": 2
}
