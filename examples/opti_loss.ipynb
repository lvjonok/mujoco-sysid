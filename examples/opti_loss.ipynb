{
 "cells": [
  {
   "cell_type": "code",
   "execution_count": 1,
   "metadata": {},
   "outputs": [
    {
     "name": "stderr",
     "output_type": "stream",
     "text": [
      "An NVIDIA GPU may be present on this machine, but a CUDA-enabled jaxlib is not installed. Falling back to cpu.\n"
     ]
    }
   ],
   "source": [
    "import jax\n",
    "import jax.numpy as jnp\n",
    "import mujoco\n",
    "from mujoco import mjx\n",
    "from mujoco_logger import SimLog\n",
    "from robot_descriptions.skydio_x2_mj_description import MJCF_PATH\n",
    "import jaxlie\n",
    "from mujoco_sysid.mjx.convert import logchol2theta, theta2logchol\n",
    "from mujoco_sysid.mjx.parameters import get_dynamic_parameters, set_dynamic_parameters\n",
    "\n",
    "import matplotlib.pyplot as plt\n",
    "\n",
    "key = jax.random.PRNGKey(0)"
   ]
  },
  {
   "cell_type": "code",
   "execution_count": 2,
   "metadata": {},
   "outputs": [
    {
     "data": {
      "text/plain": [
       "Array([ 1.325   ,  0.      ,  0.      ,  0.0715  ,  0.04051 ,  0.      ,\n",
       "        0.02927 , -0.0021  ,  0.      ,  0.060528], dtype=float32)"
      ]
     },
     "execution_count": 2,
     "metadata": {},
     "output_type": "execute_result"
    }
   ],
   "source": [
    "model = mujoco.MjModel.from_xml_path(MJCF_PATH)\n",
    "mjx_model = mjx.put_model(model)\n",
    "\n",
    "data = mujoco.MjData(model)\n",
    "log = SimLog(\"quadrotor.json\")\n",
    "\n",
    "true_parameters = get_dynamic_parameters(model, 1)\n",
    "true_parameters\n"
   ]
  },
  {
   "cell_type": "code",
   "execution_count": 3,
   "metadata": {},
   "outputs": [
    {
     "data": {
      "text/plain": [
       "((1001, 13), (1001, 4))"
      ]
     },
     "execution_count": 3,
     "metadata": {},
     "output_type": "execute_result"
    }
   ],
   "source": [
    "log_qpos = jnp.array(log.data(\"qpos\"))\n",
    "log_qvel = jnp.array(log.data(\"qvel\"))\n",
    "log_x = jnp.concatenate([log_qpos, log_qvel], axis=-1)\n",
    "log_ctrl = jnp.array(log.data(\"ctrl\"))\n",
    "\n",
    "log_x.shape, log_ctrl.shape\n"
   ]
  },
  {
   "cell_type": "code",
   "execution_count": 4,
   "metadata": {},
   "outputs": [],
   "source": [
    "def diff_x(x1, x2):\n",
    "    # qpos = [x, y, z, qw, qx, qy, qz]\n",
    "    qpos1 = x1[:7]\n",
    "    qpos2 = x2[:7]\n",
    "    quat1 = qpos1[3:][jnp.array([3, 0, 1, 2])]\n",
    "    quat2 = qpos2[3:][jnp.array([3, 0, 1, 2])]\n",
    "    q1 = jaxlie.SO3.from_quaternion_xyzw(quat1)\n",
    "    q2 = jaxlie.SO3.from_quaternion_xyzw(quat2)\n",
    "\n",
    "    vel1 = x1[7:]\n",
    "    vel2 = x2[7:]\n",
    "\n",
    "    return jnp.concatenate(\n",
    "        [\n",
    "            qpos1[:3] - qpos2[:3],\n",
    "            jaxlie.SO3.log(q1.inverse() @ q2),\n",
    "            vel1 - vel2,\n",
    "        ]\n",
    "    )"
   ]
  },
  {
   "cell_type": "code",
   "execution_count": 5,
   "metadata": {},
   "outputs": [],
   "source": [
    "from mujoco_sysid.mjx.loss import create_compute_loss\n",
    "from mujoco_sysid.mjx.model import rollout, step\n",
    "\n",
    "step = jax.jit(step)\n",
    "\n",
    "# rollout = jax.jit(rollout)\n",
    "# compute_loss = jax.jit(compute_loss)"
   ]
  },
  {
   "cell_type": "code",
   "execution_count": 6,
   "metadata": {},
   "outputs": [
    {
     "data": {
      "text/plain": [
       "Array([ 0.02907295, -2.0457456 , -1.8591964 , -3.9478104 , -0.13209113,\n",
       "       -0.04564326, -0.13556199, -0.17725924,  0.21950667,  0.22415304],      dtype=float32)"
      ]
     },
     "execution_count": 6,
     "metadata": {},
     "output_type": "execute_result"
    }
   ],
   "source": [
    "horizon = 1  # horizon: we know all the measured data i - N to i\n",
    "\n",
    "theta_estimate = get_dynamic_parameters(model, 1)\n",
    "logchol = theta2logchol(theta_estimate)\n",
    "logchol += jax.random.normal(key, logchol.shape) * 0.3\n",
    "logchol_estimate = logchol\n",
    "\n",
    "# estimate = logchol # we optimize on logcholesky space\n",
    "\n",
    "logchol_estimate\n"
   ]
  },
  {
   "cell_type": "code",
   "execution_count": 7,
   "metadata": {},
   "outputs": [
    {
     "data": {
      "text/plain": [
       "(Array(0.21685232, dtype=float32),\n",
       " Array([-4.2706367e-01, -9.6768722e-02, -1.3716984e-01,  1.3185101e-02,\n",
       "         9.8154247e-01, -1.3037524e-01,  6.5588957e-01,  1.1920929e-07,\n",
       "        -2.3841858e-07,  0.0000000e+00], dtype=float32))"
      ]
     },
     "execution_count": 7,
     "metadata": {},
     "output_type": "execute_result"
    }
   ],
   "source": [
    "def error_step(logchol_estimate, mjx_model, x, ctrl):\n",
    "    theta_estimate = logchol2theta(logchol_estimate)\n",
    "    x_next = step(theta_estimate, mjx_model, x, ctrl)\n",
    "    return jnp.linalg.norm(diff_x(x_next, x), 2)\n",
    "\n",
    "\n",
    "jax.value_and_grad(error_step)(logchol_estimate, mjx_model, log_x[0], log_ctrl[0])"
   ]
  },
  {
   "cell_type": "code",
   "execution_count": 8,
   "metadata": {},
   "outputs": [
    {
     "data": {
      "text/plain": [
       "(Array(0.9799221, dtype=float32),\n",
       " Array([ 1.1851026e+00,  2.5155231e-01,  3.5932395e-01, -4.7413106e-03,\n",
       "        -3.3092239e+00,  8.9998448e-01, -1.6065929e+00, -2.3841858e-07,\n",
       "         0.0000000e+00,  0.0000000e+00], dtype=float32))"
      ]
     },
     "execution_count": 8,
     "metadata": {},
     "output_type": "execute_result"
    }
   ],
   "source": [
    "def error_rollout(logchol_estimate, mjx_model, x, ctrls, expected_x):\n",
    "    theta_estimate = logchol2theta(logchol_estimate)\n",
    "    x_hist = rollout(theta_estimate, mjx_model, x, ctrls)\n",
    "    return jnp.linalg.norm(diff_x(x_hist[-1], expected_x), 2)\n",
    "\n",
    "\n",
    "error_rollout_compiled = jax.jit(jax.value_and_grad(error_rollout))\n",
    "\n",
    "error_rollout_compiled(logchol_estimate, mjx_model, log_x[0], log_ctrl[:3], log_x[3])"
   ]
  },
  {
   "cell_type": "code",
   "execution_count": 9,
   "metadata": {},
   "outputs": [
    {
     "data": {
      "text/plain": [
       "(Array(0.9799221, dtype=float32),\n",
       " Array([ 1.1851026e+00,  2.5155231e-01,  3.5932395e-01, -4.7413106e-03,\n",
       "        -3.3092239e+00,  8.9998448e-01, -1.6065929e+00, -2.3841858e-07,\n",
       "         0.0000000e+00,  0.0000000e+00], dtype=float32))"
      ]
     },
     "execution_count": 9,
     "metadata": {},
     "output_type": "execute_result"
    }
   ],
   "source": [
    "error_rollout_compiled(logchol_estimate, mjx_model, log_x[0], log_ctrl[:3], log_x[3])\n"
   ]
  },
  {
   "cell_type": "code",
   "execution_count": 10,
   "metadata": {},
   "outputs": [
    {
     "data": {
      "text/plain": [
       "(Array(4.398834, dtype=float32),\n",
       " Array([-1.1211424e+01,  9.0352692e-02,  1.1775113e+00, -6.3438274e-02,\n",
       "        -7.4513948e-01, -2.0146542e+00, -5.2254528e-01, -6.4373016e-06,\n",
       "         6.6757202e-06,  5.7220459e-06], dtype=float32))"
      ]
     },
     "execution_count": 10,
     "metadata": {},
     "output_type": "execute_result"
    }
   ],
   "source": [
    "error_rollout_compiled(logchol_estimate, mjx_model, log_x[0], log_ctrl[:100], log_x[100])\n"
   ]
  },
  {
   "cell_type": "code",
   "execution_count": 11,
   "metadata": {},
   "outputs": [],
   "source": [
    "import optax\n",
    "\n",
    "start_learning_rate = 1e-3\n",
    "optimizer = optax.fromage(learning_rate=start_learning_rate)\n",
    "\n",
    "parameters = logchol_estimate\n",
    "opt_state = optimizer.init(parameters)"
   ]
  },
  {
   "cell_type": "code",
   "execution_count": 17,
   "metadata": {},
   "outputs": [],
   "source": [
    "horizon = 100\n",
    "\n",
    "for i in range(horizon, len(log)):\n",
    "    x_start = log_x[i - horizon]\n",
    "    ctrls = log_ctrl[i - horizon : i]\n",
    "\n",
    "    loss, grad = error_rollout_compiled(parameters, mjx_model, x_start, ctrls, log_x[i])\n",
    "\n",
    "    updates, opt_state = optimizer.update(grad, opt_state, parameters)\n",
    "    parameters = optax.apply_updates(parameters, updates)\n",
    "\n",
    "    # print(f\"Step {i}, loss: {loss}\")\n",
    "\n",
    "    # if i % 10 == 0:\n",
    "    #     print(f\"Step {i}, loss: {loss}\")\n",
    "    #     print(logchol2theta(parameters))"
   ]
  },
  {
   "cell_type": "code",
   "execution_count": 18,
   "metadata": {},
   "outputs": [
    {
     "name": "stdout",
     "output_type": "stream",
     "text": [
      "Optimized theta parameters: [ 1.3125805  -0.23245792  0.28787327  0.29397175  0.16218095  0.05153608\n",
      "  0.14185844  0.05439965 -0.06343957  0.17137577]\n",
      "True theta parameters: [ 1.325     0.        0.        0.0715    0.04051   0.        0.02927\n",
      " -0.0021    0.        0.060528]\n",
      "LogChol distance: 0.4429807960987091\n"
     ]
    }
   ],
   "source": [
    "print(f\"Optimized theta parameters: {logchol2theta(parameters)}\")\n",
    "print(f\"True theta parameters: {true_parameters}\")\n",
    "\n",
    "print(f\"LogChol distance: {jnp.linalg.norm(parameters - theta2logchol(true_parameters), 2)}\")"
   ]
  }
 ],
 "metadata": {
  "kernelspec": {
   "display_name": "venv",
   "language": "python",
   "name": "python3"
  },
  "language_info": {
   "codemirror_mode": {
    "name": "ipython",
    "version": 3
   },
   "file_extension": ".py",
   "mimetype": "text/x-python",
   "name": "python",
   "nbconvert_exporter": "python",
   "pygments_lexer": "ipython3",
   "version": "3.10.12"
  }
 },
 "nbformat": 4,
 "nbformat_minor": 2
}
