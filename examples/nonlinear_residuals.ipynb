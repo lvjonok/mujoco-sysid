{
 "cells": [
  {
   "cell_type": "code",
   "execution_count": 1,
   "metadata": {},
   "outputs": [],
   "source": [
    "import jax\n",
    "import jax.numpy as jnp\n",
    "import mujoco\n",
    "from mujoco import mjx\n",
    "from mujoco_logger import SimLog\n",
    "from robot_descriptions.skydio_x2_mj_description import MJCF_PATH\n",
    "\n",
    "from mujoco_sysid.mjx.convert import logchol2theta, theta2logchol\n",
    "from mujoco_sysid.mjx.parameters import get_dynamic_parameters, set_dynamic_parameters\n"
   ]
  },
  {
   "cell_type": "markdown",
   "metadata": {},
   "source": [
    "### What is the idea behind the notebook?\n",
    "\n",
    "- we have gathered some data from the quadrotor running in the simulator\n",
    "- we have an access to the full state and control inputs\n",
    "- we want to use this data in MJX to train a model that can identify the dynamical parameters of the quadrotor\n"
   ]
  },
  {
   "cell_type": "code",
   "execution_count": 2,
   "metadata": {},
   "outputs": [
    {
     "name": "stderr",
     "output_type": "stream",
     "text": [
      "An NVIDIA GPU may be present on this machine, but a CUDA-enabled jaxlib is not installed. Falling back to cpu.\n"
     ]
    },
    {
     "data": {
      "text/plain": [
       "Array([ 1.325   ,  0.      ,  0.      ,  0.0715  ,  0.04051 ,  0.      ,\n",
       "        0.02927 , -0.0021  ,  0.      ,  0.060528], dtype=float32)"
      ]
     },
     "execution_count": 2,
     "metadata": {},
     "output_type": "execute_result"
    }
   ],
   "source": [
    "model = mujoco.MjModel.from_xml_path(MJCF_PATH)\n",
    "data = mujoco.MjData(model)\n",
    "log = SimLog(\"quadrotor.json\")\n",
    "\n",
    "true_parameters = get_dynamic_parameters(model, 1)\n",
    "true_parameters"
   ]
  },
  {
   "cell_type": "code",
   "execution_count": 3,
   "metadata": {},
   "outputs": [],
   "source": [
    "mjx_model = mjx.put_model(model)\n",
    "\n",
    "\n",
    "def smart_step(acc, vel, pos, ctrl, parameters):\n",
    "    # update the parameters\n",
    "    new_model = set_dynamic_parameters(mjx_model, 1, parameters)\n",
    "    # new_model = mjx_model\n",
    "\n",
    "    mjx_data = mjx.make_data(new_model)\n",
    "    # set initial data for the step\n",
    "    mjx_data = mjx_data.replace(qacc=acc, qvel=vel, qpos=pos, ctrl=ctrl)\n",
    "    # step the simulation\n",
    "    mjx_data = mjx.step(new_model, mjx_data)\n",
    "    return mjx_data.qpos, mjx_data.qvel\n",
    "    # return mjx_data.qpos.at[0], mjx_data.qvel.at[0]\n",
    "\n",
    "\n",
    "smart_step = jax.jit(smart_step)"
   ]
  },
  {
   "cell_type": "code",
   "execution_count": 4,
   "metadata": {},
   "outputs": [
    {
     "name": "stdout",
     "output_type": "stream",
     "text": [
      "[-2.8813668e-04  2.7725861e-07  9.9750474e-02  9.9999642e-01\n",
      "  2.5690015e-06  2.6697947e-03  2.6182667e-07] [-2.8813669e-02  2.7725859e-05 -2.4952721e-02  5.1380089e-04\n",
      "  5.3395963e-01  5.2365394e-05] [-2.8813670e+00  2.7725860e-03 -2.4952722e+00  5.1380090e-02\n",
      "  5.3395962e+01  5.2365395e-03] [ 4.8408070e+00  4.8512077e+00 -5.7623768e-09 -5.7623768e-09]\n"
     ]
    }
   ],
   "source": [
    "pos = jnp.array(log.data(\"qpos\")[0])\n",
    "vel = jnp.array(log.data(\"qvel\")[0])\n",
    "acc = jnp.array(log.data(\"qacc\")[0])\n",
    "ctrl = jnp.array(log.data(\"ctrl\")[0])\n",
    "\n",
    "print(pos, vel, acc, ctrl)"
   ]
  },
  {
   "cell_type": "code",
   "execution_count": 6,
   "metadata": {},
   "outputs": [
    {
     "name": "stdout",
     "output_type": "stream",
     "text": [
      "pos [-8.60458879e-04  8.27660234e-07  9.92544927e-02  9.99967927e-01\n",
      "  7.70652416e-06  8.00899567e-03  7.87957120e-07]\n",
      "next_pos [-6.9424306e-04  1.5458909e-05  9.9253602e-02  9.9997908e-01\n",
      "  1.4327142e-04  6.4689084e-03 -7.6393530e-07]\n",
      "diff l2 0.0015550618\n"
     ]
    }
   ],
   "source": [
    "# now we add 1kg to the mass\n",
    "mass = true_parameters.at[0].get()\n",
    "# true_parameters = true_parameters.at[0].set(mass + 1)\n",
    "\n",
    "next_pos, next_vel = smart_step(acc, vel, pos, ctrl, true_parameters)\n",
    "\n",
    "print(\"pos\", log.data(\"qpos\")[1])\n",
    "print(\"next_pos\", next_pos)\n",
    "\n",
    "print(\"diff l2\", jnp.linalg.norm(log.data(\"qpos\")[1] - next_pos))"
   ]
  }
 ],
 "metadata": {
  "kernelspec": {
   "display_name": "venv",
   "language": "python",
   "name": "python3"
  },
  "language_info": {
   "codemirror_mode": {
    "name": "ipython",
    "version": 3
   },
   "file_extension": ".py",
   "mimetype": "text/x-python",
   "name": "python",
   "nbconvert_exporter": "python",
   "pygments_lexer": "ipython3",
   "version": "3.10.12"
  }
 },
 "nbformat": 4,
 "nbformat_minor": 2
}
