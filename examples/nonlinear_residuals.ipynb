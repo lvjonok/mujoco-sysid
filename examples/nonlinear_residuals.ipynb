{
 "cells": [
  {
   "cell_type": "code",
   "execution_count": 1,
   "metadata": {},
   "outputs": [],
   "source": [
    "import jax\n",
    "import jax.numpy as jnp\n",
    "import mujoco\n",
    "from mujoco import mjx\n",
    "from mujoco_logger import SimLog\n",
    "from robot_descriptions.skydio_x2_mj_description import MJCF_PATH\n",
    "\n",
    "from mujoco_sysid.mjx.convert import logchol2theta, theta2logchol\n",
    "from mujoco_sysid.mjx.parameters import get_dynamic_parameters, set_dynamic_parameters\n",
    "\n",
    "import matplotlib.pyplot as plt"
   ]
  },
  {
   "cell_type": "markdown",
   "metadata": {},
   "source": [
    "### What is the idea behind the notebook?\n",
    "\n",
    "- we have gathered some data from the quadrotor running in the simulator\n",
    "- we have an access to the full state and control inputs\n",
    "- we want to use this data in MJX to train a model that can identify the dynamical parameters of the quadrotor\n"
   ]
  },
  {
   "cell_type": "code",
   "execution_count": 2,
   "metadata": {},
   "outputs": [
    {
     "name": "stderr",
     "output_type": "stream",
     "text": [
      "An NVIDIA GPU may be present on this machine, but a CUDA-enabled jaxlib is not installed. Falling back to cpu.\n"
     ]
    },
    {
     "data": {
      "text/plain": [
       "Array([ 1.325   ,  0.      ,  0.      ,  0.0715  ,  0.04051 ,  0.      ,\n",
       "        0.02927 , -0.0021  ,  0.      ,  0.060528], dtype=float32)"
      ]
     },
     "execution_count": 2,
     "metadata": {},
     "output_type": "execute_result"
    }
   ],
   "source": [
    "model = mujoco.MjModel.from_xml_path(MJCF_PATH)\n",
    "data = mujoco.MjData(model)\n",
    "log = SimLog(\"quadrotor.json\")\n",
    "\n",
    "true_parameters = get_dynamic_parameters(model, 1)\n",
    "true_parameters"
   ]
  },
  {
   "cell_type": "code",
   "execution_count": 3,
   "metadata": {},
   "outputs": [
    {
     "data": {
      "text/plain": [
       "((1001, 7), (1001, 6), (1001, 4))"
      ]
     },
     "execution_count": 3,
     "metadata": {},
     "output_type": "execute_result"
    }
   ],
   "source": [
    "log_qpos = jnp.array(log.data(\"qpos\"))\n",
    "log_qvel = jnp.array(log.data(\"qvel\"))\n",
    "log_ctrl = jnp.array(log.data(\"ctrl\"))\n",
    "\n",
    "log_qpos.shape, log_qvel.shape, log_ctrl.shape"
   ]
  },
  {
   "cell_type": "code",
   "execution_count": 4,
   "metadata": {},
   "outputs": [
    {
     "data": {
      "text/plain": [
       "(Array([[ 0.0000000e+00,  0.0000000e+00,  0.0000000e+00, -3.1506685e-14,\n",
       "         -3.7471137e-12, -2.4804585e-15],\n",
       "        [-5.7232217e-04,  5.5040164e-07, -4.9597770e-04,  1.0275190e-05,\n",
       "          1.0678568e-02, -1.0522764e-06],\n",
       "        [-1.4207972e-03,  1.3654253e-06, -1.2307838e-03,  2.5685131e-05,\n",
       "          2.6694240e-02, -2.6480805e-06],\n",
       "        ...,\n",
       "        [ 3.9635710e-02, -2.3915130e-01,  3.0338511e-02, -1.9615057e-01,\n",
       "         -6.3093685e-02,  1.5923199e-01],\n",
       "        [ 4.6400912e-02, -2.3677342e-01,  3.1514063e-02, -1.9395384e-01,\n",
       "         -6.8520784e-02,  1.5893112e-01],\n",
       "        [ 5.3117447e-02, -2.3419258e-01,  3.2680660e-02, -1.9162498e-01,\n",
       "         -7.3916078e-02,  1.5861784e-01]], dtype=float32),\n",
       " Array([[ 0.00000000e+00,  0.00000000e+00,  0.00000000e+00,\n",
       "          0.00000000e+00,  0.00000000e+00,  0.00000000e+00],\n",
       "        [-2.84185503e-02,  2.73143050e-05, -2.46452875e-02,\n",
       "          5.13718231e-04,  5.33897042e-01,  5.28622550e-05],\n",
       "        [-5.60338274e-02,  5.37765154e-05, -4.85276319e-02,\n",
       "          1.02718384e-03,  1.06760776e+00,  1.07214546e-04],\n",
       "        ...,\n",
       "        [ 7.09591210e-01,  2.17365265e-01,  1.43795148e-01,\n",
       "          2.47991294e-01, -1.05928528e+00, -3.08974367e-02],\n",
       "        [ 7.05333948e-01,  2.37760365e-01,  1.42507792e-01,\n",
       "          2.60988653e-01, -1.05597985e+00, -2.98040118e-02],\n",
       "        [ 7.00467050e-01,  2.58056104e-01,  1.41612679e-01,\n",
       "          2.73828089e-01, -1.05192769e+00, -2.87376605e-02]],      dtype=float32))"
      ]
     },
     "execution_count": 4,
     "metadata": {},
     "output_type": "execute_result"
    }
   ],
   "source": [
    "import jaxlie\n",
    "\n",
    "\n",
    "@jax.jit\n",
    "def diff_qpos(qpos1, qpos2):\n",
    "    # qpos = [x, y, z, qw, qx, qy, qz]\n",
    "    quat1 = qpos1[3:][jnp.array([3, 0, 1, 2])]\n",
    "    quat2 = qpos2[3:][jnp.array([3, 0, 1, 2])]\n",
    "    q1 = jaxlie.SO3.from_quaternion_xyzw(quat1)\n",
    "    q2 = jaxlie.SO3.from_quaternion_xyzw(quat2)\n",
    "\n",
    "    return jnp.concatenate([qpos1[:3] - qpos2[:3], jaxlie.SO3.log(q1.inverse() @ q2)])\n",
    "\n",
    "\n",
    "@jax.jit\n",
    "def diff_qvel(qvel1, qvel2):\n",
    "    return qvel1 - qvel2\n",
    "\n",
    "\n",
    "diff_qpos(log_qpos[0], log_qpos[0]), diff_qvel(log_qvel[0], log_qvel[0])\n",
    "\n",
    "vmap_diff_qpos = jax.vmap(diff_qpos, in_axes=(0, None))\n",
    "vmap_diff_qvel = jax.vmap(diff_qvel, in_axes=(0, None))\n",
    "\n",
    "vmap_diff_qpos(log_qpos, log_qpos[0]), vmap_diff_qvel(log_qvel, log_qvel[0])"
   ]
  },
  {
   "cell_type": "code",
   "execution_count": 5,
   "metadata": {},
   "outputs": [],
   "source": [
    "mjx_model = mjx.put_model(model)\n",
    "\n",
    "\n",
    "def smart_step(vel, pos, ctrl, parameters):\n",
    "    # update the parameters\n",
    "    new_model = set_dynamic_parameters(mjx_model, 1, parameters)\n",
    "\n",
    "    mjx_data = mjx.make_data(new_model)\n",
    "    # set initial data for the step\n",
    "    mjx_data = mjx_data.replace(qvel=vel, qpos=pos, ctrl=ctrl)\n",
    "    # step the simulation\n",
    "    mjx_data = mjx.step(new_model, mjx_data)\n",
    "    return mjx_data.qpos, mjx_data.qvel\n",
    "\n",
    "\n",
    "smart_step = jax.jit(smart_step)"
   ]
  },
  {
   "cell_type": "code",
   "execution_count": 6,
   "metadata": {},
   "outputs": [
    {
     "data": {
      "text/plain": [
       "Array([ 1.325   ,  0.      ,  0.      ,  0.0715  ,  0.04051 ,  0.      ,\n",
       "        0.02927 , -0.0021  ,  0.      ,  0.060528], dtype=float32)"
      ]
     },
     "execution_count": 6,
     "metadata": {},
     "output_type": "execute_result"
    }
   ],
   "source": [
    "true_parameters"
   ]
  },
  {
   "cell_type": "code",
   "execution_count": 7,
   "metadata": {},
   "outputs": [
    {
     "data": {
      "text/plain": [
       "(1000, 10)"
      ]
     },
     "execution_count": 7,
     "metadata": {},
     "output_type": "execute_result"
    }
   ],
   "source": [
    "N_SAMPLES = 1_000\n",
    "key = jax.random.PRNGKey(0)\n",
    "\n",
    "\n",
    "vmapped_logchol2theta = jax.vmap(logchol2theta)\n",
    "\n",
    "\n",
    "@jax.jit\n",
    "def sample_parameters(theta):\n",
    "    \"\"\"\n",
    "    Get theta estimate (10,) and return (N_SAMPLES, 10)\n",
    "    \"\"\"\n",
    "    logchol = theta2logchol(theta)\n",
    "    distrib = jax.random.normal(key, shape=(N_SAMPLES, logchol.shape[0])) * 0.1\n",
    "    logchol = jnp.array([logchol] * N_SAMPLES)\n",
    "\n",
    "    # cast to theta backward\n",
    "    new_logchol = logchol + distrib\n",
    "    return new_logchol\n",
    "    # return vmapped_logchol2theta(new_logchol)\n",
    "\n",
    "\n",
    "sample_parameters(true_parameters).shape"
   ]
  },
  {
   "cell_type": "code",
   "execution_count": 8,
   "metadata": {},
   "outputs": [],
   "source": [
    "vmapped_step = jax.vmap(smart_step, in_axes=(0, 0, None, 0))\n",
    "# vmapped_step(log_qvel[0], log_qpos[0], log_ctrl[0], sample_parameters(true_parameters))"
   ]
  },
  {
   "cell_type": "code",
   "execution_count": 9,
   "metadata": {},
   "outputs": [],
   "source": [
    "# def compute_error(logchols):\n",
    "#     thetas = vmapped_logchol2theta(logchols)\n",
    "#     qpos = log_qpos[0]\n",
    "#     qvel = log_qvel[0]\n",
    "\n",
    "#     qpos = jnp.array([qpos] * N_SAMPLES)\n",
    "#     qvel = jnp.array([qvel] * N_SAMPLES)\n",
    "\n",
    "#     errors = jnp.zeros(N_SAMPLES)\n",
    "\n",
    "#     for i in range(len(log_qpos) - 1):\n",
    "#         ctrl = log_ctrl[i]\n",
    "#         qpos, qvel = vmapped_step(qvel, qpos, ctrl, thetas)\n",
    "\n",
    "#         next_qpos = log_qpos[i + 1]\n",
    "#         next_qvel = log_qvel[i + 1]\n",
    "\n",
    "#         errors += jnp.linalg.norm(vmap_diff_qpos(qpos, next_qpos), axis=1) ** 2\n",
    "#         errors += jnp.linalg.norm(vmap_diff_qvel(qvel, next_qvel), axis=1) ** 2\n",
    "\n",
    "#     # replace nan with 1e10\n",
    "#     errors = jnp.where(jnp.isnan(errors), 1e10, errors)\n",
    "\n",
    "#     return errors\n",
    "\n",
    "\n",
    "# # compute_error = jax.jit(compute_error)\n"
   ]
  },
  {
   "cell_type": "code",
   "execution_count": 10,
   "metadata": {},
   "outputs": [],
   "source": [
    "import jax\n",
    "import jax.numpy as jnp\n",
    "\n",
    "\n",
    "def compute_error(logchols):\n",
    "    thetas = vmapped_logchol2theta(logchols)\n",
    "    qpos0 = log_qpos[0]\n",
    "    qvel0 = log_qvel[0]\n",
    "\n",
    "    qpos = jnp.tile(qpos0[None, :], (N_SAMPLES, 1))\n",
    "    qvel = jnp.tile(qvel0[None, :], (N_SAMPLES, 1))\n",
    "\n",
    "    errors = jnp.zeros(N_SAMPLES)\n",
    "\n",
    "    def step_fn(carry, inputs):\n",
    "        qpos, qvel, errors = carry\n",
    "        ctrl, next_qpos, next_qvel = inputs\n",
    "\n",
    "        # Update the positions and velocities\n",
    "        qpos, qvel = vmapped_step(qvel, qpos, ctrl, thetas)\n",
    "\n",
    "        # # Compute the differences\n",
    "        # next_qpos = jnp.broadcast_to(next_qpos, qpos.shape)\n",
    "        # next_qvel = jnp.broadcast_to(next_qvel, qvel.shape)\n",
    "\n",
    "        diff_qpos = vmap_diff_qpos(qpos, next_qpos)\n",
    "        diff_qvel = vmap_diff_qvel(qvel, next_qvel)\n",
    "\n",
    "        # Accumulate the squared errors\n",
    "        errors += jnp.linalg.norm(diff_qpos, axis=1) ** 2\n",
    "        errors += jnp.linalg.norm(diff_qvel, axis=1) ** 2\n",
    "\n",
    "        return (qpos, qvel, errors), None\n",
    "\n",
    "    # Prepare inputs for scanning\n",
    "    inputs = (log_ctrl[:-1], log_qpos[1:], log_qvel[1:])\n",
    "\n",
    "    # Run the scan\n",
    "    (qpos, qvel, errors), _ = jax.lax.scan(step_fn, (qpos, qvel, errors), inputs)\n",
    "\n",
    "    # Replace NaNs with a large constant\n",
    "    errors = jnp.where(jnp.isnan(errors), 1e10, errors)\n",
    "\n",
    "    return errors\n",
    "\n",
    "\n",
    "# JIT-compile the compute_error function\n",
    "compute_error = jax.jit(compute_error)\n"
   ]
  },
  {
   "cell_type": "code",
   "execution_count": 11,
   "metadata": {},
   "outputs": [
    {
     "data": {
      "text/plain": [
       "(0.0, 10000000.0)"
      ]
     },
     "execution_count": 11,
     "metadata": {},
     "output_type": "execute_result"
    },
    {
     "data": {
      "image/png": "[encoded data removed]",
      "text/plain": [
       "<Figure size 640x480 with 1 Axes>"
      ]
     },
     "metadata": {},
     "output_type": "display_data"
    }
   ],
   "source": [
    "params = sample_parameters(true_parameters)\n",
    "\n",
    "errors = compute_error(params)\n",
    "plt.plot(errors)\n",
    "plt.ylim(0, 1e7)\n"
   ]
  },
  {
   "cell_type": "code",
   "execution_count": 12,
   "metadata": {},
   "outputs": [
    {
     "data": {
      "text/plain": [
       "Array([ 9.20532346e-01,  1.13579944e-01, -5.36158355e-03,  5.26336469e-02,\n",
       "        3.09643317e-02,  7.71308027e-04,  4.48253453e-02, -9.11160186e-03,\n",
       "        4.05511179e-04,  6.89987987e-02], dtype=float32)"
      ]
     },
     "execution_count": 12,
     "metadata": {},
     "output_type": "execute_result"
    }
   ],
   "source": [
    "# find the best parameters\n",
    "idx = jnp.argmin(errors)\n",
    "best_parameters = params[idx]\n",
    "\n",
    "logchol2theta(best_parameters)"
   ]
  },
  {
   "cell_type": "code",
   "execution_count": 13,
   "metadata": {},
   "outputs": [
    {
     "data": {
      "text/plain": [
       "Array([ 1.3327169e+00,  6.5090909e-04, -3.8447324e-03,  7.5462282e-02,\n",
       "        4.1322153e-02, -6.5983908e-04,  3.0134678e-02, -2.2140213e-03,\n",
       "        1.5658194e-04,  6.1365250e-02], dtype=float32)"
      ]
     },
     "execution_count": 13,
     "metadata": {},
     "output_type": "execute_result"
    }
   ],
   "source": [
    "lambda_ = 1e-10\n",
    "weights = jnp.zeros(N_SAMPLES)\n",
    "for i in range(N_SAMPLES):\n",
    "    error = errors[i]\n",
    "    weights = weights.at[i].set(jnp.exp(-error * lambda_))\n",
    "\n",
    "weights /= jnp.sum(weights)\n",
    "# use the weights to compute the new parameters\n",
    "new_parameters = jnp.sum(weights[:, None] * params, axis=0)\n",
    "\n",
    "logchol2theta(new_parameters)"
   ]
  },
  {
   "cell_type": "code",
   "execution_count": 14,
   "metadata": {},
   "outputs": [
    {
     "name": "stdout",
     "output_type": "stream",
     "text": [
      "Step: 0, Error: 58176900.0 Theta: [ 1.3327945e+00  1.4981302e-03 -4.2728218e-03  7.5407363e-02\n",
      "  4.1317686e-02 -7.3245692e-04  3.0044770e-02 -2.2448506e-03\n",
      "  2.1679589e-04  6.1285086e-02]\n",
      "Step: 1, Error: 26420402.0 Theta: [ 1.3334370e+00  6.4618990e-04 -3.7520514e-03  7.5623877e-02\n",
      "  4.1360307e-02 -7.0125330e-04  3.0167455e-02 -2.2152588e-03\n",
      "  1.4892367e-04  6.1402701e-02]\n",
      "Step: 2, Error: 26410714.0 Theta: [ 1.3328096e+00  8.2522689e-04 -3.8017740e-03  7.5434141e-02\n",
      "  4.1328318e-02 -6.8677368e-04  3.0142022e-02 -2.2241846e-03\n",
      "  1.5410635e-04  6.1385911e-02]\n",
      "Step: 3, Error: 26408272.0 Theta: [ 1.3328104e+00  8.2509348e-04 -3.8020690e-03  7.5434171e-02\n",
      "  4.1328348e-02 -6.8674842e-04  3.0142015e-02 -2.2241736e-03\n",
      "  1.5412638e-04  6.1385933e-02]\n",
      "Step: 4, Error: 16411237.0 Theta: [ 1.3322150e+00  7.1831804e-04 -3.8392865e-03  7.5388931e-02\n",
      "  4.1304972e-02 -7.3728012e-04  3.0114530e-02 -2.2147393e-03\n",
      "  1.5573596e-04  6.1342273e-02]\n"
     ]
    }
   ],
   "source": [
    "def optimize(theta0):\n",
    "    ITERATIONS = 5\n",
    "\n",
    "    theta = theta0\n",
    "    for idx in range(ITERATIONS):\n",
    "        logchols = sample_parameters(theta)\n",
    "        errors = compute_error(logchols)\n",
    "\n",
    "        weights = jnp.zeros(N_SAMPLES)\n",
    "        lambda_ = 1e-9\n",
    "        for i in range(N_SAMPLES):\n",
    "            error = errors[i]\n",
    "            if jnp.isinf(error):\n",
    "                weights = weights.at[i].set(0)\n",
    "            else:\n",
    "                weights = weights.at[i].set(jnp.exp(-error * lambda_))\n",
    "\n",
    "        weights /= jnp.sum(weights)\n",
    "        new_parameters = jnp.sum(weights[:, None] * params, axis=0)\n",
    "        theta = logchol2theta(new_parameters)\n",
    "\n",
    "        print(f\"Step: {idx}, Error: {errors.mean()} Theta: {theta}\")\n",
    "\n",
    "    return theta\n",
    "\n",
    "\n",
    "true_logchol = theta2logchol(true_parameters)\n",
    "true_logchol += jax.random.normal(key, shape=true_logchol.shape) * 1.0\n",
    "test_theta = logchol2theta(true_logchol)\n",
    "\n",
    "last_theta = optimize(test_theta)"
   ]
  },
  {
   "cell_type": "code",
   "execution_count": 15,
   "metadata": {},
   "outputs": [
    {
     "data": {
      "text/plain": [
       "Array([ 1.325   ,  0.      ,  0.      ,  0.0715  ,  0.04051 ,  0.      ,\n",
       "        0.02927 , -0.0021  ,  0.      ,  0.060528], dtype=float32)"
      ]
     },
     "execution_count": 15,
     "metadata": {},
     "output_type": "execute_result"
    }
   ],
   "source": [
    "true_parameters\n"
   ]
  },
  {
   "cell_type": "code",
   "execution_count": 17,
   "metadata": {},
   "outputs": [
    {
     "data": {
      "text/plain": [
       "Array(0.006688, dtype=float32)"
      ]
     },
     "execution_count": 17,
     "metadata": {},
     "output_type": "execute_result"
    }
   ],
   "source": [
    "jnp.linalg.norm(theta2logchol(last_theta) - theta2logchol(true_parameters))"
   ]
  }
 ],
 "metadata": {
  "kernelspec": {
   "display_name": "venv",
   "language": "python",
   "name": "python3"
  },
  "language_info": {
   "codemirror_mode": {
    "name": "ipython",
    "version": 3
   },
   "file_extension": ".py",
   "mimetype": "text/x-python",
   "name": "python",
   "nbconvert_exporter": "python",
   "pygments_lexer": "ipython3",
   "version": "3.10.12"
  }
 },
 "nbformat": 4,
 "nbformat_minor": 2
}
