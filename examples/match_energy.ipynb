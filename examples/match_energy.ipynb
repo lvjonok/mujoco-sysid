{
 "cells": [
  {
   "cell_type": "code",
   "execution_count": 1,
   "metadata": {},
   "outputs": [],
   "source": [
    "import mujoco\n",
    "import numpy as np\n",
    "import pinocchio as pin\n",
    "from robot_descriptions.skydio_x2_description import URDF_PATH\n",
    "from robot_descriptions.skydio_x2_mj_description import MJCF_PATH\n",
    "# from robot_descriptions.z1_description import URDF_PATH\n",
    "# from robot_descriptions.z1_mj_description import MJCF_PATH\n",
    "\n",
    "from mujoco_sysid import parameters, regressors\n",
    "from mujoco_sysid.utils import muj2pin"
   ]
  },
  {
   "cell_type": "code",
   "execution_count": 2,
   "metadata": {},
   "outputs": [],
   "source": [
    "mjmodel = mujoco.MjModel.from_xml_path(MJCF_PATH)\n",
    "# enable energy\n",
    "mjmodel.opt.enableflags |= mujoco.mjtEnableBit.mjENBL_ENERGY\n",
    "# disable friction\n",
    "mjmodel.opt.disableflags |= (\n",
    "    mujoco.mjtDisableBit.mjDSBL_CONTACT | mujoco.mjtDisableBit.mjDSBL_FRICTIONLOSS | mujoco.mjtDisableBit.mjDSBL_LIMIT\n",
    ")\n",
    "mjdata = mujoco.MjData(mjmodel)\n",
    "\n",
    "pinmodel = pin.buildModelFromUrdf(URDF_PATH)\n",
    "pindata = pin.Data(pinmodel)"
   ]
  },
  {
   "cell_type": "code",
   "execution_count": 3,
   "metadata": {},
   "outputs": [],
   "source": [
    "# np.random.seed(10)"
   ]
  },
  {
   "cell_type": "code",
   "execution_count": 4,
   "metadata": {},
   "outputs": [],
   "source": [
    "q, v = np.random.randn(mjmodel.nq), np.random.randn(mjmodel.nv)\n",
    "\n",
    "\n",
    "pinq, pinv = muj2pin(q, v)"
   ]
  },
  {
   "cell_type": "code",
   "execution_count": 5,
   "metadata": {},
   "outputs": [
    {
     "data": {
      "text/plain": [
       "(array([3.30941522, 0.34777589]), 3.6571911151358094)"
      ]
     },
     "execution_count": 5,
     "metadata": {},
     "output_type": "execute_result"
    }
   ],
   "source": [
    "mjdata.qpos[:] = q.copy()\n",
    "mjdata.qvel[:] = v.copy()\n",
    "\n",
    "mujoco.mj_forward(mjmodel, mjdata)\n",
    "\n",
    "mjdata.energy, np.sum(mjdata.energy)"
   ]
  },
  {
   "cell_type": "code",
   "execution_count": 6,
   "metadata": {},
   "outputs": [
    {
     "data": {
      "text/plain": [
       "(array([-1.79547779,  1.10714143,  0.24186373]),\n",
       " array([-1.79547779,  1.10714143,  0.24186373]))"
      ]
     },
     "execution_count": 6,
     "metadata": {},
     "output_type": "execute_result"
    }
   ],
   "source": [
    "pin.computeAllTerms(pinmodel, pindata, pinq, pinv)\n",
    "\n",
    "mjdata.xpos[-1], pindata.oMi[-1].translation"
   ]
  },
  {
   "cell_type": "code",
   "execution_count": 7,
   "metadata": {},
   "outputs": [
    {
     "data": {
      "text/plain": [
       "2.8678604759610153"
      ]
     },
     "execution_count": 7,
     "metadata": {},
     "output_type": "execute_result"
    }
   ],
   "source": [
    "np.sum(\n",
    "    [\n",
    "        pin.computePotentialEnergy(pinmodel, pindata, pinq),\n",
    "        pin.computeKineticEnergy(pinmodel, pindata, pinq, pinv),\n",
    "    ]\n",
    ")"
   ]
  },
  {
   "cell_type": "code",
   "execution_count": 8,
   "metadata": {},
   "outputs": [
    {
     "data": {
      "text/plain": [
       "((10,),\n",
       " array([ 1.325   ,  0.      ,  0.      ,  0.0715  ,  0.04051 ,  0.      ,\n",
       "         0.02927 , -0.0021  ,  0.      ,  0.060528]))"
      ]
     },
     "execution_count": 8,
     "metadata": {},
     "output_type": "execute_result"
    }
   ],
   "source": [
    "theta = np.concatenate([parameters.get_dynamic_parameters(mjmodel, i) for i in mjmodel.jnt_bodyid])\n",
    "\n",
    "theta.shape, theta[:10]"
   ]
  },
  {
   "cell_type": "code",
   "execution_count": 9,
   "metadata": {},
   "outputs": [
    {
     "name": "stdout",
     "output_type": "stream",
     "text": [
      "for body 0 norm of difference is 1.511276715821191e-17\n"
     ]
    },
    {
     "data": {
      "text/plain": [
       "((10,), 1.511276715821191e-17)"
      ]
     },
     "execution_count": 9,
     "metadata": {},
     "output_type": "execute_result"
    }
   ],
   "source": [
    "params = []\n",
    "\n",
    "for i in range(len(pinmodel.inertias) - 1):\n",
    "    params.extend(pinmodel.inertias[i + 1].toDynamicParameters())\n",
    "\n",
    "    last_params = np.array(params[-10:])\n",
    "    last_theta = theta[i * 10 : (i + 1) * 10]\n",
    "\n",
    "    # mass should match\n",
    "    assert np.isclose(last_params[0], last_theta[0])\n",
    "\n",
    "    # lever arm should match\n",
    "    assert np.allclose(last_params[1:4], last_theta[1:4])\n",
    "\n",
    "    print(f\"for body {i} norm of difference is {np.linalg.norm(last_params - last_theta)}\")\n",
    "\n",
    "params = np.array(params)\n",
    "\n",
    "params.shape, np.linalg.norm(params - theta)"
   ]
  },
  {
   "cell_type": "code",
   "execution_count": 10,
   "metadata": {},
   "outputs": [
    {
     "name": "stdout",
     "output_type": "stream",
     "text": [
      "spatial [-0.27851279 -0.3888437  -0.48421291 -1.34814054 -0.21246592  1.05486061] [-1.34814054 -0.21246592  1.05486061 -0.27851279 -0.3888437  -0.48421291]\n"
     ]
    },
    {
     "data": {
      "text/plain": [
       "(3.657191115135809, 3.657191115135809)"
      ]
     },
     "execution_count": 10,
     "metadata": {},
     "output_type": "execute_result"
    }
   ],
   "source": [
    "reg_en = regressors.mj_energyRegressor(mjmodel, mjdata)[2]\n",
    "\n",
    "reg_en @ theta, reg_en @ params"
   ]
  },
  {
   "cell_type": "code",
   "execution_count": 11,
   "metadata": {},
   "outputs": [],
   "source": [
    "def kinetic_regressor(q, v):\n",
    "    pin.computeAllTerms(pinmodel, pindata, q, v)\n",
    "    regressor = np.zeros((1, (pinmodel.nbodies - 1) * 10))\n",
    "    for i in range(pinmodel.nbodies - 1):\n",
    "        vel = pin.getVelocity(pinmodel, pindata, i + 1, pin.LOCAL)\n",
    "        vl = vel.linear\n",
    "        va = vel.angular\n",
    "        print(vl, va)\n",
    "\n",
    "        regressor[0, i * 10 + 0] = 0.5 * (vl[0] ** 2 + vl[1] ** 2 + vl[2] ** 2)\n",
    "        regressor[0, i * 10 + 1] = -va[1] * vl[2] + va[2] * vl[1]\n",
    "        regressor[0, i * 10 + 2] = va[0] * vl[2] - va[2] * vl[0]\n",
    "        regressor[0, i * 10 + 3] = -va[0] * vl[1] + va[1] * vl[0]\n",
    "        regressor[0, i * 10 + 4] = 0.5 * va[0] ** 2\n",
    "        regressor[0, i * 10 + 5] = va[0] * va[1]\n",
    "        regressor[0, i * 10 + 6] = 0.5 * va[1] ** 2\n",
    "        regressor[0, i * 10 + 7] = va[0] * va[2]\n",
    "        regressor[0, i * 10 + 8] = va[1] * va[2]\n",
    "        regressor[0, i * 10 + 9] = 0.5 * va[2] ** 2\n",
    "\n",
    "    return regressor"
   ]
  },
  {
   "cell_type": "code",
   "execution_count": 12,
   "metadata": {},
   "outputs": [
    {
     "name": "stdout",
     "output_type": "stream",
     "text": [
      "[ 0.02826008 -0.38597266 -0.55987267] [-1.34814054 -0.21246592  1.05486061]\n",
      "[ 0.02826008 -0.38597266 -0.55987267] [-1.34814054 -0.21246592  1.05486061]\n"
     ]
    },
    {
     "data": {
      "text/plain": [
       "(array([0.34339236]), array([0.34339236]))"
      ]
     },
     "execution_count": 12,
     "metadata": {},
     "output_type": "execute_result"
    }
   ],
   "source": [
    "(\n",
    "    kinetic_regressor(q, v) @ theta,\n",
    "    kinetic_regressor(q, v) @ params,\n",
    ")"
   ]
  }
 ],
 "metadata": {
  "kernelspec": {
   "display_name": "venv",
   "language": "python",
   "name": "python3"
  },
  "language_info": {
   "codemirror_mode": {
    "name": "ipython",
    "version": 3
   },
   "file_extension": ".py",
   "mimetype": "text/x-python",
   "name": "python",
   "nbconvert_exporter": "python",
   "pygments_lexer": "ipython3",
   "version": "3.10.12"
  }
 },
 "nbformat": 4,
 "nbformat_minor": 2
}
