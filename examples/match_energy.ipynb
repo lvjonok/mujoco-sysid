{
 "cells": [
  {
   "cell_type": "code",
   "execution_count": null,
   "metadata": {},
   "outputs": [],
   "source": [
    "import mujoco\n",
    "import numpy as np\n",
    "import pinocchio as pin\n",
    "\n",
    "# from robot_descriptions.skydio_x2_description import URDF_PATH\n",
    "# from robot_descriptions.skydio_x2_mj_description import MJCF_PATH\n",
    "from robot_descriptions.z1_description import URDF_PATH\n",
    "from robot_descriptions.z1_mj_description import MJCF_PATH\n",
    "\n",
    "from mujoco_sysid import parameters, regressors\n",
    "from mujoco_sysid.utils import muj2pin"
   ]
  },
  {
   "cell_type": "code",
   "execution_count": null,
   "metadata": {},
   "outputs": [],
   "source": [
    "mjmodel = mujoco.MjModel.from_xml_path(MJCF_PATH)\n",
    "# enable energy\n",
    "mjmodel.opt.enableflags |= mujoco.mjtEnableBit.mjENBL_ENERGY\n",
    "# disable friction, contact and limits\n",
    "mjmodel.opt.disableflags |= (\n",
    "    mujoco.mjtDisableBit.mjDSBL_CONTACT | mujoco.mjtDisableBit.mjDSBL_FRICTIONLOSS | mujoco.mjtDisableBit.mjDSBL_LIMIT\n",
    ")\n",
    "mjdata = mujoco.MjData(mjmodel)\n",
    "\n",
    "pinmodel = pin.buildModelFromUrdf(URDF_PATH)\n",
    "pindata = pin.Data(pinmodel)"
   ]
  },
  {
   "cell_type": "code",
   "execution_count": null,
   "metadata": {},
   "outputs": [],
   "source": [
    "# np.random.seed(10)"
   ]
  },
  {
   "cell_type": "code",
   "execution_count": null,
   "metadata": {},
   "outputs": [],
   "source": [
    "q, v = np.random.randn(mjmodel.nq), np.zeros(mjmodel.nv)\n",
    "\n",
    "\n",
    "pinq, pinv = muj2pin(q, v)"
   ]
  },
  {
   "cell_type": "code",
   "execution_count": null,
   "metadata": {},
   "outputs": [],
   "source": [
    "mjdata.qpos[:] = q.copy()\n",
    "mjdata.qvel[:] = v.copy()\n",
    "\n",
    "mujoco.mj_step(mjmodel, mjdata)\n",
    "\n",
    "mj_en = mjdata.energy.copy()\n",
    "mj_en[0] += regressors.potential_energy_bias(mjmodel)\n",
    "\n",
    "mj_en, np.sum(mj_en)"
   ]
  },
  {
   "cell_type": "code",
   "execution_count": null,
   "metadata": {},
   "outputs": [],
   "source": [
    "(\n",
    "    np.sum(\n",
    "        [\n",
    "            pin.computePotentialEnergy(pinmodel, pindata, pinq),\n",
    "            pin.computeKineticEnergy(pinmodel, pindata, pinq, pinv),\n",
    "        ]\n",
    "    ),\n",
    "    [\n",
    "        pin.computePotentialEnergy(pinmodel, pindata, pinq),\n",
    "        pin.computeKineticEnergy(pinmodel, pindata, pinq, pinv),\n",
    "    ],\n",
    ")"
   ]
  },
  {
   "cell_type": "code",
   "execution_count": null,
   "metadata": {},
   "outputs": [],
   "source": [
    "theta = np.concatenate([parameters.get_dynamic_parameters(mjmodel, i) for i in mjmodel.jnt_bodyid])\n",
    "\n",
    "theta.shape, theta[:10]"
   ]
  },
  {
   "cell_type": "code",
   "execution_count": null,
   "metadata": {},
   "outputs": [],
   "source": [
    "params = []\n",
    "\n",
    "for i in range(len(pinmodel.inertias) - 1):\n",
    "    params.extend(pinmodel.inertias[i + 1].toDynamicParameters())\n",
    "\n",
    "    last_params = np.array(params[-10:])\n",
    "    last_theta = theta[i * 10 : (i + 1) * 10]\n",
    "\n",
    "    # mass should match\n",
    "    assert np.isclose(last_params[0], last_theta[0])\n",
    "\n",
    "    # lever arm should match\n",
    "    assert np.allclose(last_params[1:4], last_theta[1:4])\n",
    "\n",
    "    print(f\"for body {i} norm of difference is {np.linalg.norm(last_params - last_theta)}\")\n",
    "\n",
    "params = np.array(params)\n",
    "\n",
    "params.shape, np.linalg.norm(params - theta)"
   ]
  },
  {
   "cell_type": "code",
   "execution_count": null,
   "metadata": {},
   "outputs": [],
   "source": [
    "reg_en = regressors.mj_energyRegressor(mjmodel, mjdata)[2]\n",
    "\n",
    "reg_en @ theta"
   ]
  }
 ],
 "metadata": {
  "kernelspec": {
   "display_name": "venv",
   "language": "python",
   "name": "python3"
  },
  "language_info": {
   "codemirror_mode": {
    "name": "ipython",
    "version": 3
   },
   "file_extension": ".py",
   "mimetype": "text/x-python",
   "name": "python",
   "nbconvert_exporter": "python",
   "pygments_lexer": "ipython3",
   "version": "3.10.12"
  }
 },
 "nbformat": 4,
 "nbformat_minor": 2
}
