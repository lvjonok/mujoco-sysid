{
 "cells": [
  {
   "cell_type": "code",
   "execution_count": 1,
   "metadata": {},
   "outputs": [],
   "source": [
    "import mujoco\n",
    "import numpy as np\n",
    "import pinocchio as pin\n",
    "\n",
    "# from robot_descriptions.skydio_x2_description import URDF_PATH\n",
    "# from robot_descriptions.skydio_x2_mj_description import MJCF_PATH\n",
    "from robot_descriptions.z1_description import URDF_PATH\n",
    "from robot_descriptions.z1_mj_description import MJCF_PATH\n",
    "\n",
    "from mujoco_sysid import parameters, regressors\n",
    "from mujoco_sysid.utils import muj2pin"
   ]
  },
  {
   "cell_type": "code",
   "execution_count": 2,
   "metadata": {},
   "outputs": [],
   "source": [
    "mjmodel = mujoco.MjModel.from_xml_path(MJCF_PATH)\n",
    "# enable energy\n",
    "mjmodel.opt.enableflags |= mujoco.mjtEnableBit.mjENBL_ENERGY\n",
    "# disable friction, contact and limits\n",
    "mjmodel.opt.disableflags |= (\n",
    "    mujoco.mjtDisableBit.mjDSBL_CONTACT | mujoco.mjtDisableBit.mjDSBL_FRICTIONLOSS | mujoco.mjtDisableBit.mjDSBL_LIMIT\n",
    ")\n",
    "mjdata = mujoco.MjData(mjmodel)\n",
    "\n",
    "pinmodel = pin.buildModelFromUrdf(URDF_PATH)\n",
    "pindata = pin.Data(pinmodel)"
   ]
  },
  {
   "cell_type": "code",
   "execution_count": 3,
   "metadata": {},
   "outputs": [],
   "source": [
    "# np.random.seed(10)"
   ]
  },
  {
   "cell_type": "code",
   "execution_count": 4,
   "metadata": {},
   "outputs": [],
   "source": [
    "q, v = np.random.randn(mjmodel.nq), np.zeros(mjmodel.nv)\n",
    "\n",
    "\n",
    "pinq, pinv = muj2pin(q, v)"
   ]
  },
  {
   "cell_type": "code",
   "execution_count": 5,
   "metadata": {},
   "outputs": [
    {
     "data": {
      "text/plain": [
       "(array([-1.21974604,  0.        ]), -1.2197460404740708)"
      ]
     },
     "execution_count": 5,
     "metadata": {},
     "output_type": "execute_result"
    }
   ],
   "source": [
    "mjdata.qpos[:] = q.copy()\n",
    "mjdata.qvel[:] = v.copy()\n",
    "\n",
    "mujoco.mj_step(mjmodel, mjdata)\n",
    "\n",
    "mj_en = mjdata.energy.copy()\n",
    "mj_en[0] += regressors.potential_energy_bias(mjmodel)\n",
    "\n",
    "mj_en, np.sum(mj_en)"
   ]
  },
  {
   "cell_type": "code",
   "execution_count": 6,
   "metadata": {},
   "outputs": [
    {
     "data": {
      "text/plain": [
       "(-1.2197457679147197, [-1.2197457679147197, 0.0])"
      ]
     },
     "execution_count": 6,
     "metadata": {},
     "output_type": "execute_result"
    }
   ],
   "source": [
    "(\n",
    "    np.sum(\n",
    "        [\n",
    "            pin.computePotentialEnergy(pinmodel, pindata, pinq),\n",
    "            pin.computeKineticEnergy(pinmodel, pindata, pinq, pinv),\n",
    "        ]\n",
    "    ),\n",
    "    [\n",
    "        pin.computePotentialEnergy(pinmodel, pindata, pinq),\n",
    "        pin.computeKineticEnergy(pinmodel, pindata, pinq, pinv),\n",
    "    ],\n",
    ")"
   ]
  },
  {
   "cell_type": "code",
   "execution_count": 7,
   "metadata": {},
   "outputs": [
    {
     "data": {
      "text/plain": [
       "((60,),\n",
       " array([ 6.73326000e-01,  1.66311522e-06, -1.69664685e-04,  1.56021081e-02,\n",
       "         1.64484975e-03, -5.95801269e-08,  1.08083746e-03, -4.38536417e-07,\n",
       "         4.43147004e-06,  8.39403034e-04]))"
      ]
     },
     "execution_count": 7,
     "metadata": {},
     "output_type": "execute_result"
    }
   ],
   "source": [
    "theta = np.concatenate([parameters.get_dynamic_parameters(mjmodel, i) for i in mjmodel.jnt_bodyid])\n",
    "\n",
    "theta.shape, theta[:10]"
   ]
  },
  {
   "cell_type": "code",
   "execution_count": 8,
   "metadata": {},
   "outputs": [
    {
     "name": "stdout",
     "output_type": "stream",
     "text": [
      "for body 0 norm of difference is 4.903343079507622e-07\n",
      "for body 1 norm of difference is 2.5970031568529883e-06\n",
      "for body 2 norm of difference is 2.650078190181762e-07\n",
      "for body 3 norm of difference is 3.701542518534774e-07\n",
      "for body 4 norm of difference is 8.053173890678282e-08\n",
      "for body 5 norm of difference is 7.002258930267969e-08\n"
     ]
    },
    {
     "data": {
      "text/plain": [
       "((60,), 2.6839308799870235e-06)"
      ]
     },
     "execution_count": 8,
     "metadata": {},
     "output_type": "execute_result"
    }
   ],
   "source": [
    "params = []\n",
    "\n",
    "for i in range(len(pinmodel.inertias) - 1):\n",
    "    params.extend(pinmodel.inertias[i + 1].toDynamicParameters())\n",
    "\n",
    "    last_params = np.array(params[-10:])\n",
    "    last_theta = theta[i * 10 : (i + 1) * 10]\n",
    "\n",
    "    # mass should match\n",
    "    assert np.isclose(last_params[0], last_theta[0])\n",
    "\n",
    "    # lever arm should match\n",
    "    assert np.allclose(last_params[1:4], last_theta[1:4])\n",
    "\n",
    "    print(f\"for body {i} norm of difference is {np.linalg.norm(last_params - last_theta)}\")\n",
    "\n",
    "params = np.array(params)\n",
    "\n",
    "params.shape, np.linalg.norm(params - theta)"
   ]
  },
  {
   "cell_type": "code",
   "execution_count": 9,
   "metadata": {},
   "outputs": [
    {
     "data": {
      "text/plain": [
       "-1.2197460404740712"
      ]
     },
     "execution_count": 9,
     "metadata": {},
     "output_type": "execute_result"
    }
   ],
   "source": [
    "reg_en = regressors.mj_energyRegressor(mjmodel, mjdata)[2]\n",
    "\n",
    "reg_en @ theta"
   ]
  }
 ],
 "metadata": {
  "kernelspec": {
   "display_name": "venv",
   "language": "python",
   "name": "python3"
  },
  "language_info": {
   "codemirror_mode": {
    "name": "ipython",
    "version": 3
   },
   "file_extension": ".py",
   "mimetype": "text/x-python",
   "name": "python",
   "nbconvert_exporter": "python",
   "pygments_lexer": "ipython3",
   "version": "3.10.12"
  }
 },
 "nbformat": 4,
 "nbformat_minor": 2
}
