{
 "cells": [
  {
   "cell_type": "code",
   "execution_count": 1,
   "metadata": {},
   "outputs": [],
   "source": [
    "import mujoco\n",
    "import numpy as np\n",
    "import pinocchio as pin\n",
    "\n",
    "from robot_descriptions.z1_description import URDF_PATH\n",
    "from robot_descriptions.z1_mj_description import MJCF_PATH\n",
    "\n",
    "# from robot_descriptions.skydio_x2_description import URDF_PATH\n",
    "# from robot_descriptions.skydio_x2_mj_description import MJCF_PATH\n",
    "from mujoco_sysid import regressors, parameters"
   ]
  },
  {
   "cell_type": "code",
   "execution_count": 2,
   "metadata": {},
   "outputs": [],
   "source": [
    "mjmodel = mujoco.MjModel.from_xml_path(MJCF_PATH)\n",
    "# enable energy\n",
    "mjmodel.opt.enableflags |= mujoco.mjtEnableBit.mjENBL_ENERGY\n",
    "# disable friction\n",
    "mjmodel.opt.disableflags |= (\n",
    "    mujoco.mjtDisableBit.mjDSBL_CONTACT | mujoco.mjtDisableBit.mjDSBL_FRICTIONLOSS | mujoco.mjtDisableBit.mjDSBL_LIMIT\n",
    ")\n",
    "mjdata = mujoco.MjData(mjmodel)\n",
    "\n",
    "pinmodel = pin.buildModelFromUrdf(URDF_PATH)\n",
    "pindata = pin.Data(pinmodel)"
   ]
  },
  {
   "cell_type": "code",
   "execution_count": 3,
   "metadata": {},
   "outputs": [],
   "source": [
    "# np.random.seed(10)"
   ]
  },
  {
   "cell_type": "code",
   "execution_count": 4,
   "metadata": {},
   "outputs": [],
   "source": [
    "q, v = np.random.randn(mjmodel.nq), np.ones(mjmodel.nv)"
   ]
  },
  {
   "cell_type": "code",
   "execution_count": 5,
   "metadata": {},
   "outputs": [
    {
     "data": {
      "text/plain": [
       "1.0995959454222115"
      ]
     },
     "execution_count": 5,
     "metadata": {},
     "output_type": "execute_result"
    }
   ],
   "source": [
    "mjdata.qpos[:] = q.copy()\n",
    "mjdata.qvel[:] = v.copy()\n",
    "\n",
    "mujoco.mj_step(mjmodel, mjdata)\n",
    "\n",
    "np.sum(mjdata.energy)"
   ]
  },
  {
   "cell_type": "code",
   "execution_count": 6,
   "metadata": {},
   "outputs": [
    {
     "data": {
      "text/plain": [
       "0.9839147234384552"
      ]
     },
     "execution_count": 6,
     "metadata": {},
     "output_type": "execute_result"
    }
   ],
   "source": [
    "np.sum([pin.computePotentialEnergy(pinmodel, pindata, q), pin.computeKineticEnergy(pinmodel, pindata, q, v)])"
   ]
  },
  {
   "cell_type": "code",
   "execution_count": 7,
   "metadata": {},
   "outputs": [
    {
     "data": {
      "text/plain": [
       "(array([2, 3, 4, 5, 6, 7], dtype=int32), [2, 3, 4, 5, 6, 7])"
      ]
     },
     "execution_count": 7,
     "metadata": {},
     "output_type": "execute_result"
    }
   ],
   "source": [
    "mjmodel.jnt_bodyid, list(range(2, 8))"
   ]
  },
  {
   "cell_type": "code",
   "execution_count": 8,
   "metadata": {},
   "outputs": [
    {
     "data": {
      "text/plain": [
       "((60,),\n",
       " array([ 6.73326000e-01,  1.66311522e-06, -1.69664685e-04,  1.56021081e-02,\n",
       "         1.64484975e-03, -5.95801269e-08,  1.08083746e-03, -4.38536417e-07,\n",
       "         4.43147004e-06,  8.39403034e-04]))"
      ]
     },
     "execution_count": 8,
     "metadata": {},
     "output_type": "execute_result"
    }
   ],
   "source": [
    "theta = np.concatenate([parameters.get_dynamic_parameters(mjmodel, i) for i in mjmodel.jnt_bodyid])\n",
    "\n",
    "theta.shape, theta[:10]"
   ]
  },
  {
   "cell_type": "code",
   "execution_count": 9,
   "metadata": {},
   "outputs": [
    {
     "name": "stdout",
     "output_type": "stream",
     "text": [
      "spatial [0.         0.         0.         0.         0.         1.25028273] [0. 0. 1. 0. 0. 0.]\n",
      "spatial [ 0.          0.          0.          1.04313506  1.29695411 -0.68925769] [ 0.83431934  1.         -0.55128146  0.          0.          0.        ]\n",
      "spatial [-0.15277738  0.24124019  0.42745186  1.21425819  2.13724787 -0.29796635] [ 0.97118689  2.         -0.23831917 -0.11779706  0.19294851  0.32958133]\n",
      "spatial [-0.01045596  0.10707081 -0.04825598  1.21916593  2.861868    0.2772027 ] [ 0.97511219  3.          0.22171201  0.04424964  0.08563728 -0.09685722]\n",
      "spatial [-0.11956464  0.04253879 -0.24858674 -2.10618843  2.289241    1.57652568] [-2.33254461  2.12369476  1.22171201 -0.07397042  0.08197055 -0.30685722]\n",
      "spatial [-0.11956464  0.29600692 -0.23933835 -0.80661412  1.07692499  2.56247734] [-1.33254461  1.12896659  2.17441811 -0.07397042  0.34155282 -0.26968707]\n"
     ]
    },
    {
     "data": {
      "text/plain": [
       "0.9839142668298118"
      ]
     },
     "execution_count": 9,
     "metadata": {},
     "output_type": "execute_result"
    }
   ],
   "source": [
    "reg_en = regressors.mj_energyRegressor(mjmodel, mjdata)[2] @ theta\n",
    "\n",
    "reg_en"
   ]
  },
  {
   "cell_type": "code",
   "execution_count": 10,
   "metadata": {},
   "outputs": [
    {
     "data": {
      "text/plain": [
       "((60,),\n",
       " array([ 6.73325510e-01,  1.66311401e-06, -1.69664562e-04,  1.56020900e-02,\n",
       "         1.64484954e-03, -5.95809285e-08,  1.08083680e-03, -4.38537162e-07,\n",
       "         4.43141463e-06,  8.39402756e-04]))"
      ]
     },
     "execution_count": 10,
     "metadata": {},
     "output_type": "execute_result"
    }
   ],
   "source": [
    "params = []\n",
    "\n",
    "for i in range(len(pinmodel.inertias) - 1):\n",
    "    params.extend(pinmodel.inertias[i + 1].toDynamicParameters())\n",
    "\n",
    "params = np.array(params)\n",
    "\n",
    "params.shape, params[:10]"
   ]
  },
  {
   "cell_type": "code",
   "execution_count": 11,
   "metadata": {},
   "outputs": [
    {
     "data": {
      "text/plain": [
       "(array([ 8.39408740e-01,  8.90546192e-02, -4.54804246e-03,  2.91810627e-02,\n",
       "         2.11969748e-03,  3.95821285e-04,  2.00048153e-02, -5.17689964e-03,\n",
       "         1.44787375e-04,  1.83388418e-02]),\n",
       " array([ 8.39409000e-01,  8.90545796e-02, -4.54804387e-03,  2.91810466e-02,\n",
       "         2.11969530e-03,  3.95805704e-04,  2.00047984e-02, -5.17689303e-03,\n",
       "         1.44783395e-04,  1.83388273e-02]),\n",
       " 2.650078190181762e-07)"
      ]
     },
     "execution_count": 11,
     "metadata": {},
     "output_type": "execute_result"
    }
   ],
   "source": [
    "dummy_idx = 2\n",
    "p1 = params[dummy_idx * 10 : (dummy_idx + 1) * 10]\n",
    "p2 = theta[dummy_idx * 10 : (dummy_idx + 1) * 10]\n",
    "\n",
    "p1, p2, np.linalg.norm(p1 - p2)"
   ]
  },
  {
   "cell_type": "code",
   "execution_count": 12,
   "metadata": {},
   "outputs": [],
   "source": [
    "def kinetic_regressor(q, v):\n",
    "    pin.computeAllTerms(pinmodel, pindata, q, v)\n",
    "    regressor = np.zeros((1, (pinmodel.nbodies - 1) * 10))\n",
    "    for i in range(pinmodel.nbodies - 1):\n",
    "        vel = pin.getVelocity(pinmodel, pindata, i + 1, pin.LOCAL)\n",
    "        vl = vel.linear\n",
    "        va = vel.angular\n",
    "        print(vl, va)\n",
    "\n",
    "        regressor[0, i * 10 + 0] = 0.5 * (vl[0] ** 2 + vl[1] ** 2 + vl[2] ** 2)\n",
    "        regressor[0, i * 10 + 1] = -va[1] * vl[2] + va[2] * vl[1]\n",
    "        regressor[0, i * 10 + 2] = va[0] * vl[2] - va[2] * vl[0]\n",
    "        regressor[0, i * 10 + 3] = -va[0] * vl[1] + va[1] * vl[0]\n",
    "        regressor[0, i * 10 + 4] = 0.5 * va[0] ** 2\n",
    "        regressor[0, i * 10 + 5] = va[0] * va[1]\n",
    "        regressor[0, i * 10 + 6] = 0.5 * va[1] ** 2\n",
    "        regressor[0, i * 10 + 7] = va[0] * va[2]\n",
    "        regressor[0, i * 10 + 8] = va[1] * va[2]\n",
    "        regressor[0, i * 10 + 9] = 0.5 * va[2] ** 2\n",
    "\n",
    "    return regressor"
   ]
  },
  {
   "cell_type": "code",
   "execution_count": 13,
   "metadata": {},
   "outputs": [
    {
     "name": "stdout",
     "output_type": "stream",
     "text": [
      "[0. 0. 0.] [0. 0. 1.]\n",
      "[0. 0. 0.] [ 0.83431934  1.         -0.55128146]\n",
      "[-0.11779706  0.19294851  0.32958133] [ 0.97118689  2.         -0.23831917]\n",
      "[ 0.04424964  0.08563728 -0.09685722] [0.97511219 3.         0.22171201]\n",
      "[-0.07397042  0.08197055 -0.30685722] [-2.33254461  2.12369476  1.22171201]\n",
      "[-0.07397042  0.34155282 -0.26968707] [-1.33254461  1.12896659  2.17441811]\n",
      "[0. 0. 0.] [0. 0. 1.]\n",
      "[0. 0. 0.] [ 0.83431934  1.         -0.55128146]\n",
      "[-0.11779706  0.19294851  0.32958133] [ 0.97118689  2.         -0.23831917]\n",
      "[ 0.04424964  0.08563728 -0.09685722] [0.97511219 3.         0.22171201]\n",
      "[-0.07397042  0.08197055 -0.30685722] [-2.33254461  2.12369476  1.22171201]\n",
      "[-0.07397042  0.34155282 -0.26968707] [-1.33254461  1.12896659  2.17441811]\n"
     ]
    },
    {
     "data": {
      "text/plain": [
       "(array([0.15232524]), array([0.15232525]))"
      ]
     },
     "execution_count": 13,
     "metadata": {},
     "output_type": "execute_result"
    }
   ],
   "source": [
    "(\n",
    "    kinetic_regressor(q, v) @ theta,\n",
    "    kinetic_regressor(q, v) @ params,\n",
    ")"
   ]
  }
 ],
 "metadata": {
  "kernelspec": {
   "display_name": "venv",
   "language": "python",
   "name": "python3"
  },
  "language_info": {
   "codemirror_mode": {
    "name": "ipython",
    "version": 3
   },
   "file_extension": ".py",
   "mimetype": "text/x-python",
   "name": "python",
   "nbconvert_exporter": "python",
   "pygments_lexer": "ipython3",
   "version": "3.10.12"
  }
 },
 "nbformat": 4,
 "nbformat_minor": 2
}
