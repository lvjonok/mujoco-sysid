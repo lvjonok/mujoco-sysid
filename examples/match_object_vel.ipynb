{
 "cells": [
  {
   "cell_type": "code",
   "execution_count": 1,
   "metadata": {},
   "outputs": [
    {
     "name": "stderr",
     "output_type": "stream",
     "text": [
      "2024-06-29 16:09:01.637386: W external/xla/xla/service/gpu/nvptx_compiler.cc:765] The NVIDIA driver's CUDA version is 12.3 which is older than the ptxas CUDA version (12.5.40). Because the driver is older than the ptxas version, XLA is disabling parallel compilation, which may slow down compilation. You should update your NVIDIA driver or use the NVIDIA-provided CUDA forward compatibility packages.\n"
     ]
    }
   ],
   "source": [
    "import jax\n",
    "import jax.numpy as jnp\n",
    "import mujoco\n",
    "import numpy as np\n",
    "from mujoco import mjx\n",
    "from robot_descriptions.z1_mj_description import MJCF_PATH\n",
    "\n",
    "key = jax.random.PRNGKey(0)\n",
    "\n",
    "mjmodel = mujoco.MjModel.from_xml_path(MJCF_PATH)\n",
    "mjdata = mujoco.MjData(mjmodel)\n",
    "\n",
    "# alter the model so it becomes mjx compatible\n",
    "mjmodel.dof_frictionloss = 0\n",
    "mjmodel.opt.integrator = 0\n",
    "\n",
    "mjxmodel = mjx.put_model(mjmodel)\n",
    "mjxdata = mjx.put_data(mjmodel, mjdata)"
   ]
  },
  {
   "cell_type": "code",
   "execution_count": 2,
   "metadata": {},
   "outputs": [
    {
     "data": {
      "text/plain": [
       "'/home/leo/.cache/robot_descriptions/mujoco_menagerie/unitree_z1/z1.xml'"
      ]
     },
     "execution_count": 2,
     "metadata": {},
     "output_type": "execute_result"
    }
   ],
   "source": [
    "MJCF_PATH"
   ]
  },
  {
   "cell_type": "code",
   "execution_count": 3,
   "metadata": {},
   "outputs": [
    {
     "data": {
      "text/plain": [
       "(Array([ 1.1901639 , -1.0996888 ,  0.44367844,  0.5984697 , -0.39189556,\n",
       "         0.69261974], dtype=float32),\n",
       " Array([ 0.46018356, -2.068578  , -0.21438177, -0.9898306 , -0.6789304 ,\n",
       "         0.27362573], dtype=float32))"
      ]
     },
     "execution_count": 3,
     "metadata": {},
     "output_type": "execute_result"
    }
   ],
   "source": [
    "q, v = jax.random.normal(key, (2, mjmodel.nq))\n",
    "\n",
    "q, v"
   ]
  },
  {
   "cell_type": "code",
   "execution_count": 4,
   "metadata": {},
   "outputs": [
    {
     "name": "stdout",
     "output_type": "stream",
     "text": [
      "bodyid: 2, v: [0. 0. 0.], w: [0.         0.         0.46018356]\n",
      "bodyid: 3, v: [-3.09150672e-18  0.00000000e+00 -1.57468993e-18], w: [ 0.41005399 -2.068578    0.20886511]\n",
      "bodyid: 4, v: [ 0.31078859 -0.07310279 -0.6539035 ], w: [ 0.28069364 -2.28295977  0.36466421]\n",
      "bodyid: 5, v: [ 0.23727103 -0.00960553 -0.02728739], w: [ 0.02646465 -3.27279039  0.45942195]\n",
      "bodyid: 6, v: [0.21066843 0.11146764 0.20180794], w: [ 1.27447096 -3.0145615  -0.21950845]\n",
      "bodyid: 7, v: [0.21066843 0.30104535 0.20516525], w: [ 1.5480967  -2.46010192  1.75603632]\n"
     ]
    }
   ],
   "source": [
    "mjdata.qpos[:] = q\n",
    "mjdata.qvel[:] = v\n",
    "\n",
    "mujoco.mj_step(mjmodel, mjdata)\n",
    "\n",
    "velocity = np.zeros(6)\n",
    "for bodyid in mjmodel.jnt_bodyid:\n",
    "    mujoco.mj_objectVelocity(mjmodel, mjdata, 2, bodyid, velocity, 1)\n",
    "\n",
    "    print(f\"bodyid: {bodyid}, v: {velocity[3:]}, w: {velocity[:3]}\")"
   ]
  },
  {
   "cell_type": "code",
   "execution_count": 5,
   "metadata": {},
   "outputs": [
    {
     "name": "stdout",
     "output_type": "stream",
     "text": [
      "[[ 0.      0.      0.      0.      0.      0.    ]\n",
      " [ 0.      0.      0.      0.      0.      0.    ]\n",
      " [ 0.      0.      0.4602  0.0068 -0.0015  0.    ]\n",
      " [ 1.9205 -0.7685  0.4602  0.0957  0.2207 -0.0307]\n",
      " [ 2.1196 -0.8481  0.4602  0.08    0.1816  0.0002]\n",
      " [ 3.0386 -1.2159  0.4602  0.0734  0.1651  0.0061]\n",
      " [ 3.0531 -1.1796 -0.2176  0.0331  0.1794  0.006 ]\n",
      " [ 3.2439 -0.984  -0.2031  0.0367  0.1764 -0.0013]]\n"
     ]
    }
   ],
   "source": [
    "with np.printoptions(precision=4, suppress=True):\n",
    "    print(mjdata.cvel)"
   ]
  },
  {
   "cell_type": "code",
   "execution_count": 6,
   "metadata": {},
   "outputs": [],
   "source": [
    "from mujoco_sysid.mjx.regressors import object_velocity\n",
    "\n",
    "mjxdata = mjxdata.replace(qpos=q, qvel=v)\n",
    "mjxdata = mjx.step(mjxmodel, mjxdata)"
   ]
  },
  {
   "cell_type": "code",
   "execution_count": 7,
   "metadata": {},
   "outputs": [
    {
     "name": "stdout",
     "output_type": "stream",
     "text": [
      "[[ 0.      0.      0.      0.      0.      0.    ]\n",
      " [ 0.      0.      0.      0.      0.      0.    ]\n",
      " [ 0.      0.      0.4602  0.0068 -0.0015  0.    ]\n",
      " [ 1.9205 -0.7685  0.4602  0.0957  0.2207 -0.0307]\n",
      " [ 2.1196 -0.8481  0.4602  0.08    0.1816  0.0002]\n",
      " [ 3.0386 -1.2159  0.4602  0.0734  0.1651  0.0061]\n",
      " [ 3.0531 -1.1796 -0.2176  0.0331  0.1794  0.006 ]\n",
      " [ 3.2439 -0.984  -0.2031  0.0367  0.1764 -0.0013]]\n"
     ]
    }
   ],
   "source": [
    "with np.printoptions(precision=4, suppress=True):\n",
    "    print(mjxdata.cvel)"
   ]
  },
  {
   "cell_type": "code",
   "execution_count": 8,
   "metadata": {},
   "outputs": [
    {
     "name": "stdout",
     "output_type": "stream",
     "text": [
      "bodyid: 2, v: [0. 0. 0.], w: [0.         0.         0.46018356]\n",
      "bodyid: 3, v: [0. 0. 0.], w: [ 0.41005418 -2.0685785   0.20886509]\n",
      "bodyid: 4, v: [ 0.31078863 -0.07310276 -0.6539037 ], w: [ 0.28069377 -2.2829604   0.36466417]\n",
      "bodyid: 5, v: [ 0.2372711  -0.00960554 -0.02728742], w: [ 0.02646467 -3.2727916   0.45942217]\n",
      "bodyid: 6, v: [0.21066852 0.1114677  0.20180808], w: [ 1.2744716  -3.0145626  -0.21950865]\n",
      "bodyid: 7, v: [0.21066849 0.30104554 0.20516539], w: [ 1.5480974 -2.4601028  1.7560369]\n"
     ]
    }
   ],
   "source": [
    "for bodyid in mjmodel.jnt_bodyid:\n",
    "    velocity = object_velocity(mjxmodel, mjxdata, bodyid)\n",
    "\n",
    "    print(f\"bodyid: {bodyid}, v: {velocity[3:]}, w: {velocity[:3]}\")"
   ]
  }
 ],
 "metadata": {
  "kernelspec": {
   "display_name": "venv",
   "language": "python",
   "name": "python3"
  },
  "language_info": {
   "codemirror_mode": {
    "name": "ipython",
    "version": 3
   },
   "file_extension": ".py",
   "mimetype": "text/x-python",
   "name": "python",
   "nbconvert_exporter": "python",
   "pygments_lexer": "ipython3",
   "version": "3.10.12"
  }
 },
 "nbformat": 4,
 "nbformat_minor": 2
}
