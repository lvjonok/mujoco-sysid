{
 "cells": [
  {
   "cell_type": "code",
   "execution_count": 30,
   "metadata": {},
   "outputs": [],
   "source": [
    "import mujoco\n",
    "import numpy as np\n",
    "import pinocchio as pin\n",
    "from robot_descriptions.skydio_x2_description import URDF_PATH\n",
    "from robot_descriptions.skydio_x2_mj_description import MJCF_PATH\n",
    "\n",
    "from mujoco_sysid import parameters\n",
    "from mujoco_sysid.utils import muj2pin\n",
    "\n",
    "model = mujoco.MjModel.from_xml_path(MJCF_PATH[: -len(\"x2.xml\")] + \"scene.xml\")\n",
    "mjdata = mujoco.MjData(model)\n",
    "renderer = mujoco.Renderer(model, height=480, width=640)\n",
    "\n",
    "for act_id in range(4):\n",
    "    model.actuator(act_id).ctrlrange = np.array([-1e4, 1e4])\n",
    "\n",
    "model.opt.timestep = 1e-3"
   ]
  },
  {
   "cell_type": "code",
   "execution_count": 31,
   "metadata": {},
   "outputs": [
    {
     "name": "stdout",
     "output_type": "stream",
     "text": [
      "[ 1.325    0.       0.       0.0715   0.04051  0.       0.02927 -0.0021\n",
      "  0.       0.06053]\n"
     ]
    }
   ],
   "source": [
    "sparceM = np.zeros((6, 6))\n",
    "\n",
    "mujoco.mj_step(model, mjdata)\n",
    "mujoco.mj_fullM(model, sparceM, mjdata.qM)\n",
    "\n",
    "mSrc = sparceM[3:6, :3]\n",
    "mrc = np.array([mSrc[2, 1], mSrc[0, 2], mSrc[1, 0]])\n",
    "Ib = sparceM[3:6, 3:6]\n",
    "vechIb = np.array([Ib[0, 0], Ib[0, 1], Ib[1, 1], Ib[0, 2], Ib[1, 2], Ib[2, 2]])\n",
    "skydio_parameters = np.array([sparceM[0, 0], *mrc, *vechIb])\n",
    "\n",
    "with np.printoptions(precision=5, suppress=True):\n",
    "    print(skydio_parameters)"
   ]
  },
  {
   "cell_type": "code",
   "execution_count": 32,
   "metadata": {},
   "outputs": [
    {
     "name": "stdout",
     "output_type": "stream",
     "text": [
      "[ 1.325    0.       0.       0.0715   0.04051  0.       0.02927 -0.0021\n",
      "  0.       0.06053]\n"
     ]
    }
   ],
   "source": [
    "with np.printoptions(precision=5, suppress=True):\n",
    "    print(parameters.get_dynamic_parameters(model, 1))"
   ]
  },
  {
   "cell_type": "code",
   "execution_count": 33,
   "metadata": {},
   "outputs": [
    {
     "name": "stdout",
     "output_type": "stream",
     "text": [
      "[ 1.325    0.       0.       0.0715   0.04051  0.       0.02927 -0.0021\n",
      "  0.       0.06053]\n"
     ]
    }
   ],
   "source": [
    "pinmodel = pin.buildModelFromUrdf(URDF_PATH)\n",
    "\n",
    "with np.printoptions(precision=5, suppress=True):\n",
    "    print(pinmodel.inertias[1].toDynamicParameters())"
   ]
  },
  {
   "cell_type": "code",
   "execution_count": 34,
   "metadata": {},
   "outputs": [],
   "source": [
    "def mj_bodyRegressor(mj_model: mujoco.MjModel, mj_data: mujoco.MjData, body_id: int) -> np.ndarray:\n",
    "    \"\"\"\n",
    "    Computes the body regressor matrix for a specific body in a MuJoCo model.\n",
    "\n",
    "    Args:\n",
    "        mj_model (mujoco.MjModel): MuJoCo model.\n",
    "        mj_data (mujoco.MjData): MuJoCo data.\n",
    "        body_id (int): ID of the body for which to compute the regressor matrix.\n",
    "\n",
    "    Returns:\n",
    "        np.ndarray: Body regressor matrix of shape (6, 10).\n",
    "    \"\"\"\n",
    "    velocity = np.zeros(6)\n",
    "    accel = np.zeros(6)\n",
    "    _cross = np.zeros(3)\n",
    "\n",
    "    mujoco.mj_objectVelocity(mj_model, mj_data, 2, body_id, velocity, 1)\n",
    "    mujoco.mj_rnePostConstraint(mj_model, mj_data)\n",
    "    mujoco.mj_objectAcceleration(mj_model, mj_data, 2, body_id, accel, 1)\n",
    "\n",
    "    v, w = velocity[3:], velocity[:3]\n",
    "    dv, dw = accel[3:], accel[:3]  # dv - classical acceleration, already contains g\n",
    "    mujoco.mju_cross(_cross, w, v)\n",
    "    dv -= _cross\n",
    "\n",
    "    v1, v2, v3 = v\n",
    "    v4, v5, v6 = w\n",
    "\n",
    "    a1, a2, a3 = dv\n",
    "    a4, a5, a6 = dw\n",
    "\n",
    "    # fmt: off\n",
    "    Y = np.array(\n",
    "        [\n",
    "            [a1 - v2 * v6 + v3 * v5, -(v5**2) - v6**2, -a6 + v4 * v5, a5 + v4 * v6, 0, 0, 0, 0, 0, 0],\n",
    "            [a2 + v1 * v6 - v3 * v4, a6 + v4 * v5, -(v4**2) - v6**2, -a4 + v5 * v6, 0, 0, 0, 0, 0, 0],\n",
    "            [a3 - v1 * v5 + v2 * v4, -a5 + v4 * v6, a4 + v5 * v6, -(v4**2) - v5**2, 0, 0, 0, 0, 0, 0],\n",
    "            [0, 0, a3 - v1 * v5 + v2 * v4, -a2 - v1 * v6 + v3 * v4, a4, a5 - v4 * v6, -v5 * v6, a6 + v4 * v5, v5**2 - v6**2, v5 * v6],\n",
    "            [0, -a3 + v1 * v5 - v2 * v4, 0, a1 - v2 * v6 + v3 * v5, v4 * v6, a4 + v5 * v6, a5, -(v4**2) + v6**2, a6 - v4 * v5, -v4 * v6],\n",
    "            [0, a2 + v1 * v6 - v3 * v4, -a1 + v2 * v6 - v3 * v5, 0, -v4 * v5, v4**2 - v5**2, v4 * v5, a4 - v5 * v6, a5 + v4 * v6, a6],\n",
    "        ]\n",
    "    )\n",
    "    # fmt: on\n",
    "\n",
    "    return Y"
   ]
  },
  {
   "cell_type": "code",
   "execution_count": 35,
   "metadata": {},
   "outputs": [],
   "source": [
    "import json\n",
    "\n",
    "with open(\"../data/ltv_lqr_traj.json\") as f:\n",
    "    data = json.load(f)"
   ]
  },
  {
   "cell_type": "code",
   "execution_count": 36,
   "metadata": {},
   "outputs": [],
   "source": [
    "np.random.seed(0)\n",
    "\n",
    "# traj_idx = 2\n",
    "\n",
    "# q = data[\"q\"][traj_idx]\n",
    "# v = data[\"v\"][traj_idx]\n",
    "# a = data[\"dv\"][traj_idx]\n",
    "# ctrl = data[\"u\"][traj_idx]\n",
    "\n",
    "q = np.random.randn(model.nq)\n",
    "q[3:7] = q[3:7] / np.linalg.norm(q[3:7])\n",
    "v = np.random.randn(model.nv)\n",
    "a = np.random.randn(model.nv)\n",
    "ctrl = np.random.randn(model.nu)\n",
    "\n",
    "mjdata = mujoco.MjData(model)\n",
    "mjdata.qpos[:] = q\n",
    "mjdata.qvel[:] = v\n",
    "mjdata.qacc[:] = a\n",
    "mjdata.ctrl[:] = ctrl\n",
    "\n",
    "mujoco.mj_step(model, mjdata)\n",
    "# mujoco.mj_forward(model, mjdata)\n",
    "mujoco.mj_inverse(model, mjdata)"
   ]
  },
  {
   "cell_type": "code",
   "execution_count": 37,
   "metadata": {},
   "outputs": [
    {
     "name": "stdout",
     "output_type": "stream",
     "text": [
      "[[  1.45259  -2.61468   1.19016 -26.9294    0.        0.        0.        0.        0.        0.     ]\n",
      " [ -0.62878  -0.80892  -0.5955   11.57007   0.        0.        0.        0.        0.        0.     ]\n",
      " [ -1.31113  27.13241  -9.40055  -2.05486   0.        0.        0.        0.        0.        0.     ]\n",
      " [  0.        0.       -1.31113   0.62878 -10.48531 -27.13241  -1.08476  -0.80892   1.45936   1.08476]\n",
      " [  0.        1.31113   0.        1.45259   0.10151  -9.40055 -27.0309    0.55982  -1.19016  -0.10151]\n",
      " [  0.       -0.62878  -1.45259   0.       -0.19062  -2.01918   0.19062 -11.57007 -26.9294   -0.99954]]\n"
     ]
    }
   ],
   "source": [
    "regressor = mj_bodyRegressor(model, mjdata, 1)\n",
    "\n",
    "with np.printoptions(precision=5, suppress=True, linewidth=400):\n",
    "    print(regressor)"
   ]
  },
  {
   "cell_type": "code",
   "execution_count": 38,
   "metadata": {},
   "outputs": [
    {
     "name": "stdout",
     "output_type": "stream",
     "text": [
      "[[  1.45259  -2.61468   1.19016 -26.9294    0.        0.        0.        0.        0.        0.     ]\n",
      " [ -0.62878  -0.80892  -0.5955   11.57007   0.        0.        0.        0.        0.        0.     ]\n",
      " [ -1.31113  27.13241  -9.40055  -2.05486   0.        0.        0.        0.        0.        0.     ]\n",
      " [  0.        0.       -1.31113   0.62878 -10.48531 -27.13241  -1.08476  -0.80892   1.45936   1.08476]\n",
      " [  0.        1.31113   0.        1.45259   0.10151  -9.40055 -27.0309    0.55982  -1.19016  -0.10151]\n",
      " [  0.       -0.62878  -1.45259   0.       -0.19062  -2.01918   0.19062 -11.57007 -26.9294   -0.99954]]\n"
     ]
    }
   ],
   "source": [
    "from mujoco_sysid.regressors import joint_body_regressor\n",
    "\n",
    "with np.printoptions(precision=5, suppress=True, linewidth=400):\n",
    "    print(joint_body_regressor(model, mjdata, 1))"
   ]
  },
  {
   "cell_type": "code",
   "execution_count": 39,
   "metadata": {},
   "outputs": [
    {
     "name": "stdout",
     "output_type": "stream",
     "text": [
      "[ 0.0027  -0.00025 -1.88903 -0.34375 -0.68952 -0.03839]\n"
     ]
    }
   ],
   "source": [
    "force = mjdata.qfrc_actuator.copy()\n",
    "force[:3] = mjdata.xmat[1].reshape(3, 3).T @ force[:3]\n",
    "\n",
    "with np.printoptions(precision=5, suppress=True):\n",
    "    print(force)"
   ]
  },
  {
   "cell_type": "code",
   "execution_count": 40,
   "metadata": {},
   "outputs": [
    {
     "name": "stdout",
     "output_type": "stream",
     "text": [
      "[-0.00077 -0.00588 -1.88417 -0.3442  -0.69054 -0.03835]\n"
     ]
    }
   ],
   "source": [
    "with np.printoptions(precision=5, suppress=True):\n",
    "    print(regressor @ skydio_parameters)"
   ]
  },
  {
   "cell_type": "markdown",
   "metadata": {},
   "source": [
    "### Set same values for pinocchio and compare"
   ]
  },
  {
   "cell_type": "code",
   "execution_count": 41,
   "metadata": {},
   "outputs": [
    {
     "data": {
      "text/plain": [
       "(array([ 1.7639025 ,  0.40005527,  0.9791393 ,  0.57974326, -0.30322521,\n",
       "         0.29577537,  0.69603819]),\n",
       " array([0.20482907, 0.3506959 , 0.17016347, 0.13355826, 1.4272426 ,\n",
       "        0.76003818]))"
      ]
     },
     "execution_count": 41,
     "metadata": {},
     "output_type": "execute_result"
    }
   ],
   "source": [
    "pinq, pinv = muj2pin(mjdata.qpos, mjdata.qvel)\n",
    "\n",
    "pinq, pinv"
   ]
  },
  {
   "cell_type": "code",
   "execution_count": 42,
   "metadata": {},
   "outputs": [
    {
     "name": "stdout",
     "output_type": "stream",
     "text": [
      "[[  8.99664  -2.61468   1.19016 -26.9294    0.        0.        0.        0.        0.        0.     ]\n",
      " [  7.57504  -0.80892  -0.5955   11.57007   0.        0.        0.        0.        0.        0.     ]\n",
      " [ -8.11583  27.13241  -9.40055  -2.05486   0.        0.        0.        0.        0.        0.     ]\n",
      " [  0.        0.       -8.11583  -7.57504 -10.48531 -27.13241  -1.08476  -0.80892   1.45936   1.08476]\n",
      " [  0.        8.11583   0.        8.99664   0.10151  -9.40055 -27.0309    0.55982  -1.19016  -0.10151]\n",
      " [  0.        7.57504  -8.99664   0.       -0.19062  -2.01918   0.19062 -11.57007 -26.9294   -0.99954]]\n"
     ]
    }
   ],
   "source": [
    "pindata = pin.Data(pinmodel)\n",
    "tau = pin.rnea(pinmodel, pindata, pinq, pinv, mjdata.qacc.copy())\n",
    "\n",
    "with np.printoptions(precision=5, suppress=True, linewidth=400):\n",
    "    print(pin.jointBodyRegressor(pinmodel, pindata, 1))"
   ]
  },
  {
   "cell_type": "code",
   "execution_count": 43,
   "metadata": {},
   "outputs": [
    {
     "name": "stdout",
     "output_type": "stream",
     "text": [
      "regressor [  9.9951   10.86419 -10.90039  -0.93077  -0.15114  -0.03835]\n",
      "rnea [  9.9951   10.86419 -10.90039  -0.93077  -0.15114  -0.03835]\n"
     ]
    }
   ],
   "source": [
    "with np.printoptions(precision=5, suppress=True, linewidth=400):\n",
    "    print(\"regressor\", pin.jointBodyRegressor(pinmodel, pindata, 1) @ pinmodel.inertias[1].toDynamicParameters())\n",
    "    print(\"rnea\", tau)"
   ]
  }
 ],
 "metadata": {
  "kernelspec": {
   "display_name": "venv",
   "language": "python",
   "name": "python3"
  },
  "language_info": {
   "codemirror_mode": {
    "name": "ipython",
    "version": 3
   },
   "file_extension": ".py",
   "mimetype": "text/x-python",
   "name": "python",
   "nbconvert_exporter": "python",
   "pygments_lexer": "ipython3",
   "version": "3.10.12"
  }
 },
 "nbformat": 4,
 "nbformat_minor": 2
}
