{
 "cells": [
  {
   "cell_type": "code",
   "execution_count": 1,
   "metadata": {},
   "outputs": [],
   "source": [
    "import mediapy as media\n",
    "import copy\n",
    "import mujoco\n",
    "import numpy as np\n",
    "from robot_descriptions.loaders.mujoco import load_robot_description\n",
    "\n",
    "from mujoco_sysid.parameters import get_dynamic_parameters\n",
    "from mujoco_sysid.regressors import joint_torque_regressor\n",
    "from utils import ActuatorMotor, update_actuator\n",
    "from mujoco_logger import SimLogger\n",
    "\n",
    "model = load_robot_description(\"panda_mj_description\", variant=\"panda_nohand\")\n",
    "# disable collisions\n",
    "model.opt.disableflags |= (\n",
    "    mujoco.mjtDisableBit.mjDSBL_CONTACT | mujoco.mjtDisableBit.mjDSBL_FRICTIONLOSS | mujoco.mjtDisableBit.mjDSBL_LIMIT\n",
    ")\n",
    "\n",
    "for actuator_id in range(model.nu):\n",
    "    actuator = ActuatorMotor()\n",
    "    update_actuator(model, actuator_id, actuator)\n",
    "\n",
    "data = mujoco.MjData(model)"
   ]
  },
  {
   "cell_type": "code",
   "execution_count": 2,
   "metadata": {},
   "outputs": [],
   "source": [
    "# model and data specifically to perform controller computations\n",
    "cmodel = copy.deepcopy(model)\n",
    "cdata = copy.deepcopy(data)\n",
    "\n",
    "\n",
    "def controller(q, v, dv_desired, theta_est):\n",
    "    \"\"\"\n",
    "    Inverse dynamics controller with feedforward term.\n",
    "    \"\"\"\n",
    "\n",
    "    cdata.qpos[:] = q.copy()\n",
    "    cdata.qvel[:] = v.copy()\n",
    "    cdata.qacc[:] = dv_desired.copy()\n",
    "    mujoco.mj_inverse(cmodel, cdata)\n",
    "    mujoco.mj_rnePostConstraint(cmodel, cdata)\n",
    "\n",
    "    Y = joint_torque_regressor(cmodel, cdata)\n",
    "    return Y @ theta_est"
   ]
  },
  {
   "cell_type": "code",
   "execution_count": 3,
   "metadata": {},
   "outputs": [],
   "source": [
    "# ideal set of dynamic parameters\n",
    "theta = np.concatenate([get_dynamic_parameters(model, i) for i in model.jnt_bodyid])"
   ]
  },
  {
   "cell_type": "code",
   "execution_count": 4,
   "metadata": {},
   "outputs": [
    {
     "name": "stdout",
     "output_type": "stream",
     "text": [
      "True parameters:\n",
      "[ 4.97068400e+00  1.92614005e-02  1.03439934e-02 -2.36703972e-01\n",
      "  7.14663369e-01 -1.79087434e-04  7.17956456e-01  7.68922777e-03\n",
      "  1.96620379e-02  9.21318890e-03  6.46926000e-01 -2.03199457e-03\n",
      " -1.85797147e-02  2.26100637e-03  8.50351116e-03 -3.98335872e-03\n",
      "  2.81242848e-02  1.02611015e-02  7.68935939e-04  2.65349923e-02\n",
      "  3.22860400e+00  8.88447249e-02  1.26729164e-01 -2.14708623e-01\n",
      "  5.64949260e-02 -8.24833314e-03  5.28783820e-02 -5.48764810e-03\n",
      " -4.37725712e-03  1.82492023e-02  3.58789500e+00 -1.90768377e-01\n",
      "  3.74644408e-01  9.85020693e-02  6.76772726e-02  2.77158413e-02\n",
      "  3.23994297e-02  3.90535528e-03 -1.64448587e-03  7.75861474e-02\n",
      "  1.22594600e+00 -1.46537325e-02  5.03434725e-02 -4.71216864e-02\n",
      "  3.94275710e-02 -1.51524448e-03  3.14603723e-02 -4.60024554e-03\n",
      "  2.16405199e-03  1.08695108e-02  1.66655500e+00  1.00241617e-01\n",
      " -2.35267569e-02 -1.75271589e-02  2.48046033e-03  1.52411091e-03\n",
      "  1.05677661e-02 -1.03758875e-04  9.35690967e-05  1.17945603e-02\n",
      "  7.35522000e-01  7.73548487e-03 -3.12743954e-03  4.53059486e-02\n",
      "  1.53200084e-02 -3.95108722e-04  1.28990646e-02 -1.67248269e-03\n",
      " -5.48359103e-04  4.90965197e-03]\n",
      "Estimated parameters:\n",
      "[-7.03840303e-19 -2.86229374e-16 -3.84935139e-15  2.07472928e-15\n",
      "  6.66133815e-16 -1.20389809e-15  2.11636264e-15 -3.55271368e-15\n",
      " -2.82759927e-16  1.46206133e-02  1.27502175e-15 -2.03199457e-03\n",
      " -1.13385618e+00 -8.95811203e-15 -8.09624708e-03 -3.98335872e-03\n",
      "  2.27168604e-02  1.02611015e-02  7.68935939e-04  1.53426585e-02\n",
      "  3.59022149e-01  4.96549577e-01  1.41564029e-02  1.13843591e+00\n",
      " -1.52936446e-02  1.03891967e-03  2.25400560e-02 -5.48764810e-03\n",
      " -4.37725712e-03  4.40702582e-02  4.00440856e-01 -3.35508262e-01\n",
      "  5.11566393e-01 -1.40706920e-02 -2.33784511e-02  3.90119051e-02\n",
      "  5.21550646e-02  3.90535528e-03 -1.64448587e-03 -9.34313013e-03\n",
      "  6.21264075e-01 -1.46537325e-02  3.39353157e-02  4.89654701e-01\n",
      " -9.50818120e-03 -1.51524448e-03 -2.32134000e-02 -4.60024554e-03\n",
      "  2.16405199e-03  1.66075310e-02  6.21264075e-01  1.09433216e-01\n",
      " -3.43075487e-02 -3.39353157e-02  1.46074308e-03  2.47282059e-03\n",
      "  5.63860670e-03 -1.03758875e-04  9.35690967e-05  1.73217240e-02\n",
      "  6.31072003e-01  7.73548487e-03 -3.12743954e-03  3.45251569e-02\n",
      "  1.06017054e-02 -3.95108722e-04  8.18076165e-03 -1.67248269e-03\n",
      " -5.48359103e-04  4.90965197e-03]\n"
     ]
    },
    {
     "data": {
      "text/plain": [
       "7.049623006039612"
      ]
     },
     "execution_count": 4,
     "metadata": {},
     "output_type": "execute_result"
    }
   ],
   "source": [
    "from mujoco_logger import SimLog\n",
    "\n",
    "log = SimLog(\"invdyn.json\")\n",
    "\n",
    "\n",
    "def construct_regression(log: SimLog):\n",
    "    N = len(log)\n",
    "    A = np.zeros((N * model.nv, len(theta)))\n",
    "    b = np.zeros((N * model.nv,))\n",
    "\n",
    "    for i in range(N):\n",
    "        q = log[i].data(\"qpos\")\n",
    "        v = log[i].data(\"qvel\")\n",
    "        dv = log[i].data(\"qacc\")\n",
    "        # tau = log[i].data(\"qfrc_inverse\")\n",
    "\n",
    "        cdata.qpos[:] = q\n",
    "        cdata.qvel[:] = v\n",
    "        cdata.qacc[:] = dv\n",
    "\n",
    "        mujoco.mj_inverse(cmodel, cdata)\n",
    "        mujoco.mj_rnePostConstraint(cmodel, cdata)\n",
    "\n",
    "        Y = joint_torque_regressor(cmodel, cdata)\n",
    "\n",
    "        A[i * model.nv : (i + 1) * model.nv, :] = Y\n",
    "        b[i * model.nv : (i + 1) * model.nv] = cdata.qfrc_inverse.copy()\n",
    "\n",
    "    return A, b\n",
    "\n",
    "\n",
    "A, b = construct_regression(log)\n",
    "\n",
    "theta_est = np.linalg.lstsq(A, b, rcond=None)[0]\n",
    "\n",
    "print(\"True parameters:\")\n",
    "print(theta)\n",
    "\n",
    "print(\"Estimated parameters:\")\n",
    "print(theta_est)\n",
    "\n",
    "np.linalg.norm(theta - theta_est)"
   ]
  },
  {
   "cell_type": "code",
   "execution_count": 5,
   "metadata": {},
   "outputs": [],
   "source": [
    "import jax\n",
    "import jax.numpy as jnp\n",
    "from mujoco_sysid.convert import theta2logchol\n",
    "\n",
    "\n",
    "def logchol2theta(log_cholesky: jnp.ndarray) -> jnp.ndarray:\n",
    "    alpha, d1, d2, d3, s12, s23, s13, t1, t2, t3 = log_cholesky\n",
    "\n",
    "    exp_d1 = jnp.exp(d1)\n",
    "    exp_d2 = jnp.exp(d2)\n",
    "    exp_d3 = jnp.exp(d3)\n",
    "\n",
    "    theta = jnp.array(\n",
    "        [\n",
    "            1,\n",
    "            t1,\n",
    "            t2,\n",
    "            t3,\n",
    "            s23**2 + t2**2 + t3**2 + exp_d2**2 + exp_d3**2,\n",
    "            -s12 * exp_d2 - s13 * s23 - t1 * t2,\n",
    "            s12**2 + s13**2 + t1**2 + t3**2 + exp_d1**2 + exp_d3**2,\n",
    "            -s13 * exp_d3 - t1 * t3,\n",
    "            -s23 * exp_d3 - t2 * t3,\n",
    "            s12**2 + s13**2 + s23**2 + t1**2 + t2**2 + exp_d1**2 + exp_d2**2,\n",
    "        ]\n",
    "    )\n",
    "\n",
    "    exp_2_alpha = jnp.exp(2 * alpha)\n",
    "    theta *= exp_2_alpha\n",
    "\n",
    "    return theta\n",
    "\n",
    "\n",
    "logcholideal = np.concatenate([theta2logchol(thetai) for thetai in np.split(theta, 7)])"
   ]
  },
  {
   "cell_type": "code",
   "execution_count": 6,
   "metadata": {},
   "outputs": [
    {
     "name": "stderr",
     "output_type": "stream",
     "text": [
      "2024-07-05 16:05:28.419489: W external/xla/xla/service/gpu/nvptx_compiler.cc:765] The NVIDIA driver's CUDA version is 12.4 which is older than the ptxas CUDA version (12.5.40). Because the driver is older than the ptxas version, XLA is disabling parallel compilation, which may slow down compilation. You should update your NVIDIA driver or use the NVIDIA-provided CUDA forward compatibility packages.\n"
     ]
    },
    {
     "data": {
      "text/plain": [
       "1.5977166e-07"
      ]
     },
     "execution_count": 6,
     "metadata": {},
     "output_type": "execute_result"
    }
   ],
   "source": [
    "theta_ideal = jnp.concatenate([logchol2theta(logcholideal[i : i + 10]) for i in range(0, 70, 10)])\n",
    "\n",
    "np.linalg.norm(theta - theta_ideal)"
   ]
  },
  {
   "cell_type": "code",
   "execution_count": 7,
   "metadata": {},
   "outputs": [
    {
     "data": {
      "text/plain": [
       "0.0013029621"
      ]
     },
     "execution_count": 7,
     "metadata": {},
     "output_type": "execute_result"
    }
   ],
   "source": [
    "np.linalg.norm(A @ theta_ideal - b)"
   ]
  },
  {
   "cell_type": "code",
   "execution_count": 8,
   "metadata": {},
   "outputs": [],
   "source": [
    "A = A[:1000*model.nv, :]\n",
    "b = b[:1000*model.nv]"
   ]
  },
  {
   "cell_type": "code",
   "execution_count": 9,
   "metadata": {},
   "outputs": [
    {
     "name": "stderr",
     "output_type": "stream",
     "text": [
      "/home/lvjonok/github.com/lvjonok/mujoco-sysid/venv/lib/python3.10/site-packages/jax/_src/core.py:678: FutureWarning: unhashable type: <class 'jax._src.interpreters.partial_eval.DynamicJaxprTracer'>. Attempting to hash a tracer will lead to an error in a future JAX release.\n",
      "  warnings.warn(\n"
     ]
    }
   ],
   "source": [
    "import optax\n",
    "import optimistix\n",
    "\n",
    "\n",
    "@jax.jit\n",
    "def all_logchol2theta(logchol):\n",
    "    return jnp.concatenate([logchol2theta(logchol[i : i + 10]) for i in range(0, 70, 10)])\n",
    "\n",
    "\n",
    "@jax.jit\n",
    "def fn(y, args):\n",
    "    x = all_logchol2theta(y)\n",
    "    A, b = args\n",
    "    return A @ x - b, None\n",
    "\n",
    "\n",
    "results = optimistix.least_squares(\n",
    "    fn,\n",
    "    solver=optimistix.LevenbergMarquardt(1e-4, 1e-4),\n",
    "    y0=logcholideal * 0.7,\n",
    "    args=(A, b),\n",
    ")"
   ]
  },
  {
   "cell_type": "code",
   "execution_count": 10,
   "metadata": {},
   "outputs": [
    {
     "data": {
      "text/plain": [
       "(Array(4.253225, dtype=float32), Array(3.5682945, dtype=float32))"
      ]
     },
     "execution_count": 10,
     "metadata": {},
     "output_type": "execute_result"
    }
   ],
   "source": [
    "jnp.linalg.norm(all_logchol2theta(results.value) - theta_ideal), jnp.linalg.norm(logcholideal - results.value)"
   ]
  },
  {
   "cell_type": "code",
   "execution_count": null,
   "metadata": {},
   "outputs": [],
   "source": []
  }
 ],
 "metadata": {
  "kernelspec": {
   "display_name": "venv",
   "language": "python",
   "name": "python3"
  },
  "language_info": {
   "codemirror_mode": {
    "name": "ipython",
    "version": 3
   },
   "file_extension": ".py",
   "mimetype": "text/x-python",
   "name": "python",
   "nbconvert_exporter": "python",
   "pygments_lexer": "ipython3",
   "version": "3.10.12"
  }
 },
 "nbformat": 4,
 "nbformat_minor": 2
}
