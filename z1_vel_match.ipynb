{
 "cells": [
  {
   "cell_type": "code",
   "execution_count": 1,
   "metadata": {},
   "outputs": [],
   "source": [
    "from robot_descriptions.z1_description import URDF_PATH\n",
    "from robot_descriptions.z1_mj_description import MJCF_PATH\n",
    "import mujoco\n",
    "import pinocchio as pin\n",
    "import numpy as np\n",
    "\n",
    "np.random.seed(0)"
   ]
  },
  {
   "cell_type": "code",
   "execution_count": 2,
   "metadata": {},
   "outputs": [],
   "source": [
    "pinmodel = pin.buildModelFromUrdf(URDF_PATH)\n",
    "pindata = pinmodel.createData()\n",
    "\n",
    "mjmodel = mujoco.MjModel.from_xml_path(MJCF_PATH)\n",
    "mjdata = mujoco.MjData(mjmodel)"
   ]
  },
  {
   "cell_type": "code",
   "execution_count": 3,
   "metadata": {},
   "outputs": [],
   "source": [
    "q = np.random.randn(mjmodel.nq)\n",
    "v = np.random.randn(mjmodel.nv)\n",
    "dv = np.random.randn(mjmodel.nv)\n",
    "\n",
    "tau = pin.rnea(pinmodel, pindata, q, v, dv)\n",
    "\n",
    "mjdata.qpos = q.copy()\n",
    "mjdata.qvel = v.copy()\n",
    "# mjdata.qacc = dv.copy()\n",
    "mjdata.ctrl = tau.copy()"
   ]
  },
  {
   "cell_type": "code",
   "execution_count": 4,
   "metadata": {},
   "outputs": [],
   "source": [
    "pin.computeAllTerms(pinmodel, pindata, q, v)\n",
    "pin.forwardKinematics(pinmodel, pindata, q, v, dv)\n",
    "pin.framesForwardKinematics(pinmodel, pindata, q)\n",
    "\n",
    "mujoco.mj_step(mjmodel, mjdata)"
   ]
  },
  {
   "cell_type": "code",
   "execution_count": 5,
   "metadata": {},
   "outputs": [
    {
     "data": {
      "text/plain": [
       "(  v = -0.0386146  -0.213597 0.00697333\n",
       "   w =   0.43721  0.156022 -0.843514,\n",
       "   v = 0.0825157 -0.141572 0.0439487\n",
       "   w =   0.48182  0.899213 -0.607455,\n",
       " array([[ 0.17051182, -0.9813841 ,  0.08837964],\n",
       "        [-0.87129896, -0.19205531, -0.45161143],\n",
       "        [ 0.46017805,  0.        , -0.88782665]]))"
      ]
     },
     "execution_count": 5,
     "metadata": {},
     "output_type": "execute_result"
    }
   ],
   "source": [
    "def pin_body(idx):\n",
    "    vel = pin.getVelocity(pinmodel, pindata, idx, pin.LOCAL)\n",
    "\n",
    "    accel = pin.getAcceleration(pinmodel, pindata, idx, pin.LOCAL)\n",
    "\n",
    "    rotation = pindata.oMi[idx].rotation\n",
    "\n",
    "    return vel, accel, rotation\n",
    "\n",
    "\n",
    "body_idx = 4\n",
    "\n",
    "vel, acc, rotation = pin_body(body_idx)\n",
    "\n",
    "vel, acc, rotation"
   ]
  },
  {
   "cell_type": "code",
   "execution_count": 6,
   "metadata": {},
   "outputs": [
    {
     "data": {
      "text/plain": [
       "(array([ 0.43720984,  0.15602244, -0.84351382, -0.03861464, -0.21359706,\n",
       "         0.00697333]),\n",
       " array([-4.05971161e+01, -2.64432206e+04,  7.80043987e+01, -3.28416499e+02,\n",
       "         1.98553895e+01, -9.16986970e+02]),\n",
       " array([[ 1.70511825e-01, -9.81384103e-01,  8.83796400e-02],\n",
       "        [-8.71298959e-01, -1.92055313e-01, -4.51611426e-01],\n",
       "        [ 4.60178054e-01,  8.32667268e-17, -8.87826649e-01]]))"
      ]
     },
     "execution_count": 6,
     "metadata": {},
     "output_type": "execute_result"
    }
   ],
   "source": [
    "# velocity computation 2 - xbody\n",
    "rotlin_vel = np.zeros(6)\n",
    "mujoco.mj_objectVelocity(mjmodel, mjdata, 2, body_idx + 1, rotlin_vel, 1)\n",
    "\n",
    "# acceleration computation\n",
    "mujoco.mj_rnePostConstraint(mjmodel, mjdata)\n",
    "rotlin_acc = np.zeros(6)\n",
    "mujoco.mj_objectAcceleration(mjmodel, mjdata, 2, body_idx + 1, rotlin_acc, 1)\n",
    "\n",
    "# rotation matrix\n",
    "rotation = mjdata.xmat[body_idx + 1].reshape(3, 3).copy()\n",
    "rotlin_vel, rotlin_acc, rotation"
   ]
  }
 ],
 "metadata": {
  "kernelspec": {
   "display_name": "venv",
   "language": "python",
   "name": "python3"
  },
  "language_info": {
   "codemirror_mode": {
    "name": "ipython",
    "version": 3
   },
   "file_extension": ".py",
   "mimetype": "text/x-python",
   "name": "python",
   "nbconvert_exporter": "python",
   "pygments_lexer": "ipython3",
   "version": "3.10.12"
  }
 },
 "nbformat": 4,
 "nbformat_minor": 2
}
