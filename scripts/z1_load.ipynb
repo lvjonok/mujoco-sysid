{
 "cells": [
  {
   "cell_type": "code",
   "execution_count": 1,
   "metadata": {},
   "outputs": [],
   "source": [
    "import mujoco\n",
    "import mediapy as media\n",
    "from dm_control import mjcf\n",
    "import numpy as np\n",
    "from robot_descriptions.z1_mj_description import MJCF_PATH\n",
    "from utils import update_actuator, ActuatorMotor\n",
    "\n",
    "# np.random.seed(0)"
   ]
  },
  {
   "cell_type": "code",
   "execution_count": 2,
   "metadata": {},
   "outputs": [
    {
     "name": "stdout",
     "output_type": "stream",
     "text": [
      "/home/simeon/.cache/robot_descriptions/mujoco_menagerie/unitree_z1/z1.xml\n"
     ]
    }
   ],
   "source": [
    "print(MJCF_PATH)"
   ]
  },
  {
   "cell_type": "code",
   "execution_count": 3,
   "metadata": {},
   "outputs": [
    {
     "data": {
      "text/plain": [
       "MJCF Element: <body name=\"link06\" pos=\"0.049200000000000001 0 0\">...</body>"
      ]
     },
     "execution_count": 3,
     "metadata": {},
     "output_type": "execute_result"
    }
   ],
   "source": [
    "# load the model\n",
    "mjcf_model = mjcf.from_path(MJCF_PATH)\n",
    "# append the body to the end-effector\n",
    "ee_body = mjcf_model.find(\"body\", \"link06\")\n",
    "\n",
    "ee_body"
   ]
  },
  {
   "cell_type": "code",
   "execution_count": 4,
   "metadata": {},
   "outputs": [],
   "source": [
    "# old model\n",
    "old_model = mujoco.MjModel.from_xml_path(MJCF_PATH)\n",
    "old_data = mujoco.MjData(old_model)\n",
    "body_offset = np.where(old_model.body_dofadr == 0)[0][0]\n",
    "\n",
    "# create new body\n",
    "rc = np.array([0.05, 0.1, -0.08])\n",
    "load_mass = ee_body.add(\"body\", name=\"load_mass\", pos=f\"{rc[0]} {rc[1]} {rc[2]}\")\n",
    "load_mass.add(\n",
    "    \"geom\", name=\"load_mass_geom\", type=\"sphere\", size=\"0.05\", rgba=\"0.8 0.2 0.2 1\", conaffinity = '0', contype = '0'\n",
    ")\n",
    "\n",
    "M = 0.5\n",
    "# R = 0.0001\n",
    "I = 1e-3#M * rc[0]**2\n",
    "\n",
    "load_mass.add(\"inertial\", mass=f\"{M}\", pos=f\"0 0 0\", diaginertia=f\"{1e-3} {1e-3} {1e-3}\")\n",
    "\n",
    "for geom in mjcf_model.find_all(\"geom\"):\n",
    "    geom.conaffinity = 0\n",
    "    geom.contype = 0\n",
    "\n",
    "\n",
    "physics = mjcf.Physics.from_mjcf_model(mjcf_model)\n",
    "sim_model = physics.model._model\n",
    "sim_data = mujoco.MjData(sim_model)\n",
    "renderer = mujoco.Renderer(sim_model, height=480, width=640)"
   ]
  },
  {
   "cell_type": "code",
   "execution_count": 5,
   "metadata": {},
   "outputs": [
    {
     "data": {
      "text/html": [
       "<table class=\"show_images\" style=\"border-spacing:0px;\"><tr><td style=\"padding:1px;\"><img width=\"640\" height=\"480\" style=\"image-rendering:auto; object-fit:cover;\" src=\"data:image/png;base64,iVBORw0KGgoAAAANSUhEUgAAAoAAAAHgCAIAAAC6s0uzAAA7vUlEQVR4nO3da4/bSHr//SIpUpTULfXR9kx2MFkgT4Lk8f/9v4RFgCDJHu7Fbpydsdvus1o8iXU/uEY1pSqSotRS2+35fjAw1GqKotga/nhVFYtKAQAAAAAAAAAAAAAAAAAAAAAAAAAAAAAAAAAAAAAAAAAAAAAAAAAAAAAAAAAAAAAAAAAAAAAAAAAAAAAAAAAAAAAAAAAAAAAAAAAAAAAAAAAAAAAAAAAAAAAAAAAAAAAAAAAAAAAAAAAAAAAAAAAAAAAAAAAAAAAAAAAAAAAAAAAAAAAAAAAAAAAAAAAAAAAAAAAAAAAAAAAAAAAAAAAAAAAAAAAAAAAAAAAAAAAAAAAAAAAAAAAAAAAAAAAAAAAAAAAAAAAAAAAAAAAAAAAAAAAAAAAAAAAAAAAAAAAAAAAAAAAAAAAAAAAAAAAAAAAAAAAAAAAAAAAAAAAAAAAAAAAAAAAAAAAAAAAAAAAAAAAAAAAAAAAAAAAAAAAAAAAAAAAAAAAAAAAAAAAAAAAAAAAAAAAAAAAAAAAAAAAAAAAAAAAAAAAAAAAAAAAAAAAAAAAAAAAAAAAAAAAAAAAAAAAAAAAAAAAAAAAAAAAAAAAAAAAAAAAAAAAAAAAAAAAAAAAAAAAAAAAAAAAAAAAAAAAAAAAAAAAAAAAAAAAAAAAAAAAAAAAAAAAAAAAAAAAAAAAAAAAAAAAAAAAAAAAAAAAAAAAAAAAAAAAAAAAAAAAAAAAAAAAAAAAAAAAAAAAAAAAAAAAAAAAAAADw8oIvvQEA8ELSMAyUCpQaRZFSKlDqablUSmmlFnX9pbcOvzkEMIBv1jAMx2EYBcHZYBAHgQqCUKlBECilAqW0Usr8q/XDclkrdVWWWusn8hiHRwAD+AadDgZvkyRQKgqCKAhCpaIgkPI3CIJwlbuhUrVSgVKSt1rrWqml1ndV9aEs58vll/wM+NYRwAC+HSeDQajURRzHYTgIgkEQhEqFQSBJrFYBrLSWJ5VVB2ultNby71KpWutS67uq+rkoaKDGIRDAwCsQx/F4PI6iKE3TMAzDMEySRClVFIXWerlcLhaLxWJR13VRFC+/ecPhcDQahWE4HA7DMJQngyDQK1mWmX/zPD/ENhxFURIEF3E8iqJAqcGq8A2UCoMgDAKlVGgFsGzh2iq01qtSuNa6VkprXWpdan1TVR+IYewbAQx8vY6Pj5MkOT09TZIkiqIgCCTe7OTQWsu/dV1XVTWfz/M8v7u7y7Ls0NsWx/FsNovjOAxDN8w8sp11Xdd1vVgsiqJ4eHjY10aeDgYXcRwHQRyG0arZeRAEwar8DVZhLP952bvaRDlpUKpeVcPSIl3VdaH1/+X5x7LcywYDigAGvk4nJydnZ2dpmkZR5IeuH8D247qul8vl/f3958+fF4vF3rft9PT07OxMcrf/q8x2ast8Pp/P55LHu23MURSdDQbjKIrDMFmNsZLc/aUClh9XD37NYLW2H385j5HHSmmlaq2VUkultNaV1rVSRV3fVtX/5TlDtLAXBDDwdTk5Obm4uJC2XAkI+1/VVLzZ2aZWCaeUWi6XDw8PV1dXeys0T08vLy+lFm/bmDaNGymF+3K5vL6+vru723Z7plF0mSRpGCZBECg1WJW/4fpo51/Td5XBv2y8v5HWg1r6g6U5WutaqUrrSuusrt/n+RWlMJ6NAAa+FnEcX1xcnJychGEYRZF53gRwW9o5RbCTcMvl8u7u7tOnT+UzMmM2m11cXCRJ4lS90tFrb2efLVTrMSwZXFXVhw8f+vcQv4nj2WCQhOEwCIIgGARBvKp9zZjncJW49gNtF8H+pq42sl4Ny5IHy9UA6aqus7r+v6L4+Ut0t+NbQgADX4XpdHp5eZkkiQTtYDDQWgcr3a914i0Igrqu9bqiKD58+PD4+LjDtp2enr5582YwGKhNJa+Tx/aG+VtrGswlg00pfH9/v3GTLuN4OhjINb4y2tlcbiQBbB782vIcBHLuENj/rj7Or9sUBGpV+2rzwArgpdaV1kVd/z3PyWA8BwEMfHnS7CzdvZK48sAuN7etL+14k4RTSj08PHz+/Ll/lTkYDN69e3d0dCTpa+vf+Ny2tX5btGTw4+Pj1dVVxxokfdMwjIMgDoLQBLCTvlbimlHQZsuD1Vwc9sdwpub4pQl6VQfXWpsYLslgPBsBDHxhs9ns8vJSLi6yxznLM87CbaN3nccm1aQMXS6X8nwYhnVd39/fX19f9+kY/t3vfifp2xG3WyVxn7bo5XI5n89vb28bR2Zdrlqe0zCMlIpN7buK3sB5sNo+0weszFAsvzfd2kSnCK5X0SvVcKV1oXWl9f+3WNAfjN24Z7UAXlKapufn54dbv1TA9jNxHJ+fn5+cnDw8PHz69Kmqqra+4Tdv3kwmEzt9e2at3zHc0U9sL2waAI6OjobD4c3NjdNmPo2ioyiKg2Cg1C8dvdbY5sga8Gyi11S9gdX4bCexTa4O/jWAtdZBoK0GahUEtdZKPpRSSusf03S+XDIuGjugAga+mDiOv//+e0k4U/7aFbAz/lltXwHblFJhGMZxXNe1ycWyLB8fHx8eHvI8t2vi4+Pjd+/eyfXH/jvu3P7cuNltbdHL5bIsyzzP61W8pWFo8jVQqq7raLW71oY3W9u39mB9sxs/g9Nr/aPW07pWq+uRamuODqmAK60fl8s/7NS5jt84KmDgizk5OZGkGAwGJhT3y64v67o2s3lI67QMt07T9OzsTMYhyzweWZadnZ0NBgOTvo3b9pwNlg1wNlIemKFnsnlJkjQO5lJKmSmdm3/9PLJ5f1Tq/83nWutQKRmfpYJAaV0rFa1q5VEYfpckP9EZjC0RwMCXIdM3ylF+uVz+OhxX644JLuzc6ljG/tHOYJm6cjgc2ssEQRBFURRFcRynaaq1vrm5MXNvOava5iN2sVdlQtd0WpsANoPI2t69KIo4jp+/DR0+pOnbLAtXG6FWTdCRdA8HQRyGvxsOa60/0BmMbRDAwJdxfHyslDINzqar1U5iZRWFbetpqw7b5HmutU7TVCklo5xkWmm1fqmxGZK9cYXPrIPtNTgZLOcipv3ZyWx5MBqNiqIYDoc7vG8j/+N8PDoa5bnMUjnVWrZSuoqj1SitYRi+SRICGFshgIEvII5jE3tSfcpjZ7hTn3rX1lH72gssFgut9Wg08l+ilCqKYjAYtFXhu8Vt2zXBztr8dmnJ4O79UJZlY0f1Hv1lNpNWit9V1eV8XgdBsGqUjuQqYaXGUfQmjpksGv0RwMBLOz4+ns1mw+FQojewOEtuLH+3Ymfb09PTaDQyrbu2PM/NVjkv7Fhn/3fvubD54B0jqMXR0VH/Ne8mTVPppL8Jw0EUndzfh6ttkzp4oNQyCI4HAwIY/RHAwAuRS3rk9kHSwGuuuukY4vTMXtiOmng+nzcWjtKi23FOsNUG2KW8nalOuHasfON5wPX19dnZmf1Mn2p7K/aA7Vpq39WFT/KLpVKRUm/i+KYsr6tq5zfCbwoBDByQDGuKomg6ncqgYid321LBfr47gdpadzd6fHx8+/atf7ukrUK3Z6o5JxP9a2un/PWX11qPx+Oepyk7Z7A0g8vbXU0ml4+PgZxDaB0qVQdBqHWkVB0Ew23uEIXfOAIY2Js4joMgkBsZDYdDczNBe5YrE7p+CPmtzftqfG4UBMHDw4NfBDsDpP1XbfsuTvmrvLFX3S/vft8gCCaTyQ47auNZi7NOe0jaU5KM8lwpVcucl3JNl1KhUt8Ph1yPhJ4IYLy0JEnklgNfekP2IAgC+SwSunbWCjPI2cnd7rbWtvfq+FVbnNj517iA/7zTMbzxL9VzgcaafiM7gDteNZ/PJ5NJz3X629CxZrMr5PYY8jhP03FRyNgwpXWwiuFIqUEQvE2SD2QweiCA8RKSJBmNRnLlq10Fqn5X0XTUiF+c057sp2xjDdf/42+MavtqpW03/v7+fjabOXt1Pp/LxCBbbdK2tsrgjecuT09PclmX6N4VW22/vfCvF0SFYbDqBpb/zMyXkVLTKPrQ/w3wG0YA44Amk0kcx7PZTLo/7aLwa9bznMCes0m1N5b6sdEzKXt2ZJq+UqfTtKfGClhu3tC/obj/Ytsye68jfdXqomp/Y/a4VfZXN0/TQFautTwItJb0jcJw6t05CmjEFwUHMZvNZLivXFHqDPftf1jcbXjRy2gMwp4vtMcWbdUG0KeZ2p9juW15vbpNoaOqqqqqzNXAfrQ/M9jMp+6zno3lr3iBEzu5EikIgmw8VuZWhiaGldJyi4hDbwe+FQQw9uno6CiO49PTU3vEb/fFNl+hjdvZ0avas6u1Zwb3z3h7JTJkt08zbBAEfgAHQSDzQi+XyyiK7EL/mbX7tsvYC29VAR+Cc220Ur/eTjhUqrbq4DAITgaDWy5GwiYEMPZjOp3K5BId0ftaArgnE0j2v3ZK+SVj/4Le7zBu7EK21xmsj7dqy0tnPW2bVJal+VPa27DtEK0+erbPf9lzOOet89EoWSwC+7fmBCgIkm/rq44DIYDxXLPZ7OTkxMzr5F91o3q0H75GTrer+ddJte7qtiMst+0D7vPajS9USo1Go6qqtNaSweYsyiTxxvK651u3/co+g7H7gDvmpn54eNhhPqzuzXCecT+16RRo+jf6tr7qOBACGLubzWanp6d29Nq3tlWdw4Btu9WF23pOZjS+r50TJipMi64/95Nqzzz7V36+duxAp97102uHT52m6Xw+l8+S53ngMU3ch6iGVXsGm5sl++TGhdu+y7YbZn/YYjxOnp5+WdXqfoimFfrrHbmArwkBjF2Y6B0MBnEcN87u1JbB/Uu9Pr5gVe2UvHYM+0sGLZ2+zg5xsrax2dlP6B2uRDLr9/uAh8OhBLBSqq7roijs6JUXShDK28kdA3u+bx9mx9r7Vt7UvhjXNhgMBluOPX5OAGutAzkVsFqe5YGk7+TAN4fAt4EAxnam0+nZ2dlwOJSpJ5x7CdgNhqopg79gXu6dnRDdi/nlqVMWd2fwxl3nFNbBps5g55m6ru3ycTgcHh8fmykqJYPlsSzmNErLQC27IHY6xTt2jr+vnM2zK+AoiuQuin4beJ7nfe5I2LExG/vLnWVCu996/TVa66/9Sjt8HQhg9HV8fBzH8bt376Ta8Fsm1SotnMT1n+x20JDebeXOq6RqrOvaL/4a89hOETucOraq8STGf+AHlbJizH47cwmN89aNVXuSJPYc0dIfrLWO41hrbWJYyEmYWuWi7BM/I52tNQ82tpmbZwaDgUlZu/lBKSU3d1IHZnag1vqXu0laWx8EwVd92Ry+PgTwb47c6Mb8KEeTYtPMeWdnZ2/fvpWqV6065NR6vjZGr10tmZbqHTZ7Y/33zBXaP3avUA7BVVUVRVFVld/p2/ZGdnln/vVfa+89Ze1hp2fdsKtPuz1Zry4fUqu/V2NJ2piUSZJMJhMng2V2jrqupR1YCl8JY5n4ejgcJkliium6rmUwl1Jq6anrWv7VHnuX2hscx/FkMrFbv40syxqnouxT1zo6pgCTjybrDAcDbdW+9qA7pXXrKgALAfztS5Lk6OgoTdPJZCJDpZwAlkquqqrFYvH09JRlWZ7nZoHLy8vz8/M0Tf2sdULXeSxvJOOzBoNBkiT2bMmy8p7Z6bTcOnbI5o3Pd+dxXddZlj0+PiqlJIN1SwuzH7d+Ney8kR2ZzpBy2ZNmZLL87eSaXYk6yUgTb/JefSaV9D+j3OEgyzL7STnzkJXLRUpmA4qikAlHJ5PJZDJJ01SaSeS38gWrqqosy6IoyhW52li+gfZWNZ4WhGE4Go3s1nKz2ZPJZLlctn3MjhjuKFn9X9k90Ms4Nv+T6NX4Z2kP0Uo9tm8MYBDA37Kzs7PZbJamqX8pp1nG1EZxHI9Go5OTEzlWzufz5XJ5cXEhNxvYSK1XwzJeRoZoJUkSx7HMimWuK/VbPjsyz4+H/q99zsJtLyzL8unpSSJEtQvWy1xH26/CdVEUJUkyGAzSNB2Px6PRaDqdmgK0LMssyxaLxXw+XywWeZ5XVRVF0XK5DMNQak2JZDvV7MpS/vS/NKiub16SJDc3N/IZ7U01GW9Gv0dRVFVVnufz+fz6+lqeke2XXDTvZTagkdlvwolACWBnS/zN7vNbZw+0rcH5Ufa5PM5WYfzLv/Kh5IFSNU3R6IEA/jadnZ2dn5/bUwnah63GRjzzK1lYLu11Klq1fu8Be82mSpPolfvgSu6aEVvCPmyJjZHpP/OchN5tAfv5MAzLsjSlmF/ItlW95rf2A/sldq+qaTyQ3RgEQZ7neZ7f3t7Kq8qyNKdHSik505KGcTu/q6pSSpkglM5ge5v9u9nLYlKVXl1dNe4HZY1/tv/6ztdDtZ9qtOWfCWM/g5U15WT3yY3zwP7ReWHQNOZLNYW0CeBfFrNfqNRyFcO1UnMqYPRAAH+DLi4uLi4unIOg6C7+lFJlWQZBIId7O1kbqVUaBasG0iiKTOJKj6BUb/ZBUyllz/XfuCV2XLV9zK0i03+yOxW6n6zrerFYmMZntR4bfmZ0b5g5uIfW7CXmZEXqbL3qKQhWhaxzRuX8XeS1QRBI7StnDFK5Ohswm81+/PFH6cQ1f1NpK57P5w8PD0EQdGSw2ZnCrnf7/O2cJe3wM/lnPynfHH8nt2V5x+OOZxpf6JxULZdLtap9f2l5louylFo2ntsCHgL4m5Km6e9+9zt/iLJab392jozmmbqupSkysAZPdfCrXjmOy2hVaXOWNUsPpSSW3W3ZcYw2Ni7jnFXYhcu2a+7zKqWU1no+n2dZ5g+E7pPBTlr4e1spZTpxnVxvPLbbARaszxjldPnneS517WAwkPWnafrx40dprqjr2u4gkCUvLy+11tfX1332jNkJQVPx6uylxk/hh7G9T7IscybcaMvOxkZm5y/l/+FMC03j2mSHyDrLqvq1wXmVwfLvfVUt2vvdAYMA/nZI+prDk106OI+dF8qhVltz7ptDYVvoBtYQIal6kxVpL5UDWVEUenUFiySKjLtRSkkGdxTBzhbu8Cv/t1v92LiAqUEXi0VRFHZG9q+A7aTRWtvDm7Wn49MZTk5IB7D9d7RHvckgu2p1q4D379+Px2Pn62GnVxAEfg/x4ciZmVx8XBTFdDo9Pj6Wz7JcLmVQmP+Xurq6ury8VKuWdidEnRhW3t/I+ZUTw2YB+5RRF4Va7/eVF9QMgUZvBPC34/z83B9dbEev8ys5pkiXoVxe2Zi4dvQ6baRmfJDkroyxUkrJsB0TvTIUyIyeNVWjaU7sDtFG/kucLN+qFXCHDWi7isbeGHtXO+WdYdLXj97AG1bdh128On9B6cIcDof23BpKqaurq+l06qzH3uAwDOM4rvZ0ex+/DDXnZ3rV0i5fmKenp9vb2zdv3rx7904ptVwuzRRdDhmGJo/tZnb7vYKmorztGYlh50nZA7JPoqqKTO27WkuldaX1h00X9QGCAP5GfPfdd+PxWDWFqGqKYXlSSiUZbNXBdE+a9JWslfQ1Tc161chsGpxN3ErXcr0iG9BxeczXz89Lv2C1Y1iv9yDaZD/4a+io2DZum3ngfBNMBstZkTx5e3u78SLaxWIhIwPUTucrzlbZ/5oA9j+mPPnx48cwDL/77juJ5MaV53luX7Ws1mO4z1Y1PuN8UnudSVWFWpvrjrTWS60lgLkGCT0RwN8CuUBFtfSiNR4uJR3tDkInrQPrQl6n2VnanKXwlSdNIWj375q41dbsSKpzwMvr4kfvxs/iF2F+eO8Wb90bqVaDh+UPWtf1cDiU74C83d3d3Ww2c15or8HMtLzfzTMCa+h42zKmycR5oVKqLEv74nWx8xmM8yrzkU0TtNY6fXiw+4ArpSqltFJ3pC96I4C/BScnJ2r9GgmTrGY0rL28FKZON6HNvg7ViV5zbYy5VbuZAsKkr92c6OdTd83xunRnsF37Nkav2rIC679V/pPSey2PzdQo3dcxOyu0N2bbDduhgrdPSh4fH813rPEl8sV7zpt2bIl5bP9Yr+56VGst/y3rutT6Z9qf0RsB/OoNh8PRaCQde2aaC6WUyT+7/dkUPU7h6zQ4y3Wodo+vPCOjq+yZmOxeXjPFoKl6lXXYait5v+b0bds2k6yqqYT1F7Y/u/Ojv9o+G7AD2UL7HEuaMaSqu7m5cSrgA23GxtXae9XErQSwfQ7hv6q7zXkvH8HeANPsvDQZrNRNWT5RAaM3AvjVk1yU9mTzTGDN/atWBw5zIald+Nr/mhrXboI2kRyubvcbrAbrSqVrT+3bWPW2lb9fefR2N4ea3/qf9NdjdFO/rxPGzpsqqzF2Xx/E/1xqdQPdOI4Xi4V9QtaoMds6XtJ/49u+Hv4JTVuDgXAms9xB97cxsAao//KOWqtVAEv7c1HXD6QvtkEAv3oyeaRJTXnSOYibHl9lxa05EKvVLBCSr854K7vlWVnXLNnz6fvR68eS4dR/bYv59pVJe9RY3DsxvPHlzsJ+0gT9Lm7ueUJjFpO/uOm5WCwWbTcUkouGu1e7818nWI3Zdnaj/Y6TycT/dG3fq247n/Y5AR/N50vTBK3UUuubqrrq16QPCAL41ZPZcYP1rlx7AemUta+pMAuY5uXG6HXSN1hNAOSkrzPMyqlp2jRGtfKCp+Pl2++qvbGboM0zTmnbWP52tKCq9trXSaYdNL4wWHXtb2y83Vgd7rZV/rZ1V8AdDQN9TuDUTjvQ/K3tt4gXC2l5Xiq1VKqq67yuufoI2yKAXzeZ/retCVGu8bWn5lDrg5xNDRR4txe059kw7W/Kuv7V1l3y2vQm3Z/XWeCLJ7Tdhu+8e/9YspuslbXlz2mL7vnxgyAw1W1j+Ws2ab/ND93fEHlwdHRk34vJ3jn+xoxGoz6nfc/ZVHvKs19GXSlVa13Udan1P4ri6TVfVocvggB+3WazmdOha0ipatqN5UmTr6auNUGr1tM3sGbeUOu3oO9uc27TmLVO9VxbUysfYnftoDt7gnX2kyYqnEBV3l+qLVT2viv8VdknXh0v3OMV220fx37e/y45z/grmc/njZcy75G9DXVdS+9vqXWl9W1VfaT8xfYI4NfNtD/byrJcLpfOlLl2PJh7ynZfieQ0vjnX9TZeYuRrK3Ptl9urNdFuXn6wnfcs9k4z5zHOnlRefpsn7R+F/Un3VW72KTRFmqYd65HbK+1lk/qT2dnEeDyurXmYfRvP/zr0fOHaLBzX15VSS62rui60/sm7BBnogwB+xUz7s/2kHCYab1puoteZW0Ot307HTmWTkfY0gX6aOoewoGlOY7OkXi+dzTpNv7IIw9BMQWzW7z/o6UBBLp3rWmtnx5rLrxsDI1hvc1YtNXHHq9rK5Y10S6HZcQ2SUmowGDQWwfs6UbC3zf43TVNphe5uYX56ejIJ3f+NRMdHcN7LTFqilCrrOtS6rOtc6z8/PdH4jN0QwK/YbDazg1MGWzUWvrKAma7ZSVm/CJbXmkOeX/iq9pqjLXTtwtduczZt2nVdV1VVFMXR0dHR0ZFqz13nWLxVuD4nMzreaLlc5nlelmUcxzKuuLFktCvgbctfJzufv83yW5m/wi43X4b9/fH/vlrrNE1Ho5EEsLYaRRpXtXMjeZ89KdtjV8BBlpVaL+r6J7p+8QwE8CtmtxhLVeSkr2FmXbBvqGBW4nQAy/NOjrbNKGlz4taJYafq1asGZzN/1mQyCcPw4uJCeVM2Ou9lAmyr6N1Nz7eI4zhN07IssyxbLpdONWwWs4ejt4Vu4zt2nzfoTVctN67czNOyMX0Peolt4/LOS7ov833+RcAbybdUHg/yvKprSd9PXHeEZyCAX6vhcCh3kQvax8rKbwcrdrms1hO3sfD1A9hPX/tBn+jV61Wv3KBwOp1Op1P7fe3N6N4PJoyfvUfXVribwWAwGo0eHh6yLEuSxFw8bU5xtDWdU2Po9il/d1ig8bd61bPg3wrJEfS7EHlbgTW63tlUc4MQeVImemtbz9PT04EqeLNtRVGYDUju7jLSF/tAAL9WQY/xq07ha48Ssl9oJ7ETfn16fBsXcNLXaXM2NyicTqcnJyfOC5VXA7Ud/Q+RCs93enqaZdnj46PM02kPRLen5m4M3Y4c9XuOnd9udeogf5GqqtI03ep2v/s912nbZtlL4/H4+vo6TVPpf21beDab9bz3Uc9d7f/K3L0xKssyyz6SvtgHAvi1Oj09lYt05UfnkCHN0dIfaQ+5UuvFrv3YXo8fpWb9Ti62Ue1tzhK9g8FgMpmcn583xnbj27U5aABvlWrGeDwej8e3t7fz+Xw4HJoYVuvVpG5qOt6tCO6OE/9dJH2DIDg+Pu7+LHtv6m9cm/PXT9NUAlitKvWOLSmKwj+H6D5f2UpVVeaK5PD+/s8t9yQGtkUAv1bj8dgfAi1keg3TDem3PKsto9evSttC10lfv/CVYVanp6eXl5dmbUHTVbP+g43RdQjPSfezszNpkbZLYVME26ca3ZVZn23QVjeEvwZ/Z9Z1XZZl29yTflrb23DoJgettd2kLFOdty0s6duzAu5+07ZfRbe3J3leaH2X5xS+2CMC+FUajUZ2+toRZW4X6NxPsDF9/TXY8ala2oQb09eJXsP0+MpNgmez2dnZmd8J6gSSs1VqPahME65/GvG1kRHd19fXj4+PUqXJbnEmSHGO/o3nRhs1Ltb2pNxEsk/js9ZahpV1bGHPX/mnWf5GSvqmaSpPjsfjKIr8Ww0aWZbt/DXouWPTxWJR15/L8rZ9M4AdEMCv0unpqX/ECYLArnqdeTbsxfwV2kcif6iznb5+r7C9pDOnld3jm+f5bDY7PT2VBexmcPPAKePsx/bNnYJnzNH4RZyfn49Go7u7u6Io7CvB7N3es3vyOcxqq6paLBb9p46K4/hwjQ3+aZa0issOGQwGWuuic56pnnc13k20WLzPc6IXh0AAvz5yfaTTlWvmbZYA9m+OpJqi1zn2tVW99o/9C1+9uk+wzKP05s2byWRSr9/SNVgfXusUuM4yHRt/IHt8i8lkMplMsiy7v7+XwJAbYCjv8xp2ob/t23Vs+XK5zLJsPB4nSdJz5UmS2Nfh+DZWvR3PO3/fOI7tCVjOzs6yLOv+AmzbQmA/sL+xdV2ni4Xc3ahWarFcZnW9WCz6rBzYAQH8+sj8G86FvBK65l+72bmbXvVHNsat/aMTsfYyHeOtyrI8OjqSOatr627EThFsfjSb3XGTiWB1S0Tz4zN36YtJkmQ6nV5dXd3d3Q2HwyRJnPhprIOffx5gryrP8+Pj4yzLyrIsy9IZK9D28t3OA7rXpr3zP621XZcHQZCmqTNNZtv307zEfzvnXdR69Jqbi1RVpfJ8/vCwVIqSFy+AAH597ANl2MJEl3P0aRy+VFt3Y208rvnp6x/InMZnM95qPB4fHx/bR3C96rt1HpjtMSHdNoTbnhEzjuPuY26j7nb4bQOvrcvWWY/58Ycffjg9Pf3w4cNisZDhvm2dwRu3uf8Gy+7K8/zs7Ozy8lKefHx8jKLoH//4RxzHj4+PzrB5+4Ub17+VwOryt1c+Ho9l+JUdqB0Jqpp28lYnCtoaSRAEwfVyeU/04qUQwK+MmX/Dzlq7AjbFsZ21Tvg1BoPzr1nGHs+srMRVTf3BTqfvaDSazWbO1BOmwFVW1trHQVneLCDXU8VxbD6vXWRve8Dtv/AOS/YPqqOjo3fv3t3f3//jH//Issw0Rzur1Z1jmzv4C9d1vVgs3r1798MPP5htlik/TR7f3t5GUfS3v/0tiqL5fC553PYW9l9zW+YrZCfxaDSS8tdJXPuB/yXc9gvQRlby8lNy4rfs1bTdQbx582Y2m5npNUylaPf72kdGp0roqPzaYrix5Vm1dPqaa42kl/Hk5MSPXrU+iabzo3nGnFXImFg587BPL6Rwl099wD3u7ai9r+fu7u7Pf/7z3d3dIT6LvJfM9Pn73//+3bt33RtjXF9fR1H0xz/+8fb21m5m8P9Sav171dYeoLz4NGQ+EDt9O3LXWcNeNsA0QZdl+f79+w37FNgTKuBXxr6Pr6RU48W+ar2l17zcKTvsJ5V3mGtrdvZ/5afv6empuZLEbIz2Bjk75a/9EUzNnee5vMtgMEiSJEkSZ5TZvnLxxYLcMR6Pv/vuu6urq//+7/++ublprIZVy3yQjX9QW13XWZb967/+67//+79vtVVSHP/TP/3Tzz///B//8R83Nzej0aijIN6BbHZRFMPh8OjoyP8Ifvo6GWzWs/Fdup+3TwSf+6mA3vi2vSbD4fCHH34YDodm4IxJX7Vq1G1jDliNxyPnSKesCe4bD3x+9Gqtq6qSlueTkxO7Kc8unswDv/xVXikszJXNo9EoTVPpJhwMBnEcq/2l5h6PvM9Z1YcPH/7zP//z5uZGxmfttirzFyyKwo7eZ37GP/zhD//1X/81Go1M64t6RgUsFacUvva3y1lSeV85ZZ2cOYV428d0tsFfrT0O6/Pnz4+Pj8/ZUUBPBPBrkqbpjz/+mCSJf1vftqOeXXHa/zq1o3+8c64G3pi+ZtRVkiTOzWUDb8yzU3D45W9g3TDRxLA0vI9GI7lSRdpFg1VbtPN5t7XtC7vLr8aTIWfJ7ne8urr6y1/+cn9/LwVxz80zcXJ0dHRycvJv//ZvbUv6K9z4FrLAx48f//SnPz08PJheedWef43pK2Pjx+PxYrGQuUjV+jdQtUSv/a1zvi3dH6Q7gM2YPhm7cH19fX9/370rgL0ggF+T77///uTkRLKnMX3tA00jc/TxlzdHpY5OX7V+2NLr1/uWZZkkiYx59t/aSZGNMeww48vks8u9huxSbDdtafFiNm787e3tX//61yRJ7u7uGsPY/DnKsvznf/7n5XL5+9//foctsT/+xq26ubn561//+vj4mKapmVrEPxfUVsEq9aX8BeXmV84XrDF9lTe7i/Zq340nExsDWFvdwAQwXgwB/Jr8y7/8y2g0Mk3QHdHbkSWNBzu1fqx0Ali1pK+2hj1XVVXXtSloZCSzOVYq65hob7ZTxGzMYJPEQRDIHEl+r+TGHN0hsJ+T8Xt0c3NjTjgkJOROgnVdn56eyjL+x++58XW/W+o6a7u9vQ3D8MOHD+ZCJvP30qthAePxeDQalWV5dnYmA9ftr5NZlf2jnZHOvOJ6fcRA4wfsDmBlfZPtrzTjsPDCGIT1akipYWpfedI/srT92Pgrp/7Q3uVGsph/DZJ9zBJ5npsJMk0Gm3dxwrjxcdA0GstOXxPq8kBuUSe9d/13Y3dPeR8bA77DM4Nc7g4kzLVDwtyu5zl22DzZpB9//LFtAfnrmBM1p2tDtZ8L+t80O323/mwe8/ULmuaBAV4AAfxqnJycSPq2Vb2NT/rLNFYDar3xWXkHQdVUNBhlWZ6fn6dpamehHeF2paK9GTnM8s7zfqHjP+6Yph9fnP3HNUmsmopdw/my2e3DumUkQZ/NaDttCqwLkdVq8EGSJN2zTwN7QQC/Gva1v/4xy64mnV9t/NEPVPmtc6xsjF4Zaivjk52VB+szXKqmwVbKK0H8z+WHbtvyX4O9b1VbcrwKTrw553OyTOOX1k9f+TY6X569b638m6YpAYwXQAC/GsfHx3Z/p9Pu2naY7ohkO2idw6ITnKopfU2jYhAE0hPplOb2MVSYxuTGJFbrNbETsbU1j7TJYPXV9M4arzov987+FvVJX/ukzXx/TMN1/7/1xoX9s9j+9TSwLwTw6yAXX9rB0/9Ar1uKYO3VtfaT9vJOHpsf5a52FxcXzuHMCVczZ6QcFhsnD+mOYZ96xhGzbddx8D0Q+5um1lPZZqev3XPcWP421sF+rPq/aoxe58s2nU4ZCI0XQAC/DnJbcqfEVD1i2F+gLYDVevr6x0pzfJTnl8tlURRHR0ej0UjC+PHxcbFYyK/kFnKNGR8EwWQyiePYTC3ZWBPr9XEx/sGXvNyLQ+9G/7zNeV6t/qBmkJ1eDeKTYcnSymJvZ+M2m+9G4/8UbZGvrBH7jaeDwOEQwK/DZDIx1580HsI6krijAm7L3Y71BKubEZVlKbNO/s///M/T09NWH0c62OSiYZlYw09iZZUmdV07N2/YufzFy2v8mtmnWXp9EINev6uHttqTddMo6MavgV5vhe4oju2XmEYaxmHhBRDAr0PHNP19Yrgxg3vmrn3kMkWMTHp1e3vbcZP2jYqi+Pz5s1JqOBxOp1OZalg+qZ/EdiOkosfutXGanU3UyY9O3VlbM5vWq1tpGRvTt+1b4T9vN0o7aT0cDglgHBoB/DrIPcn9zrOOtujuZxpzt09tLa2CMl/Bc9LXluf51dWVzC4ym81M03TgUU0zS+O1MPWu/GgG1jl1ral95Roz/yXyeOcvgP1Fkh4Tu/Y1qbz75wT6IYBfB2mR61MEq001sRO9G9vlgvXRK3o1p2BZllt+iA0k1z9+/Ci3PBqPx2maOnMc0j93IAfaq/YAAv+N/G5+ed6etaPPrNrPEaymVJOC23zV0zRlHBYOjQB+HRaLxWg0ksfdIdSRvn7o9uxFVuvpK6VJnudbfoi+iqIoikLmNQzD8OjoKAzD4XDYeOeJjScQr9EOAbPVfnh+gPV/Oydi/b4D/+zKfMec7dRa23cm3qMgCGSWm6Io5Htu384LOBAC+HV4enqSm9sH1jBR0acsbnzcs9/XWaeUv1vN/rgzKbJN0puD74GOwnim6XQqs6Etl8vFYpFlmZkaejgcBkFg38darTcFB6uOf70aYF/XdRRF5nso7SIH3f4wDNM0XSwWkv2Mw8KhEcCvgzTK2c1xJoH8MO4/Inrj884y5qJMOUr23Ph9MY3eHBa/TicnJ7PZzJwjSjNGlmX39/fz+Xy5XE4mE/tu1nZBLK+SLlhpDZbHskD/9PUbvVWPeTlso9EoCIK6rhmHhUMjgF+H6+vrN2/etE0E3fhkt56Nz8H6EGhndAxgk5na5Asj1aQUxG/fvpWidrFYPD09SbiaO3rJaaUpfyWAzfgspdR4PB4MNhyp9OoWHcqbctwsoFbzx228hWWapmVZ0sqCQyOAX41Pnz599913TueZPHAS1O85c1a1MX39FZoLkMy9j3b6EPiWyTQszpMyymkwGAyHQ7lXdF3XWZY9Pj4WRSEXnqlVXso9r+zTu+Pj4470lZiUalUaZsxJqp++sqQZ9mzfVcx3fHx8f3/POCwcFAH8anz69Oni4sI+eW882DU+7yxv17Vt3b2NL9eruy+8fPszXpfGpmD5sSzLOI7fvHljLj+T1mb51+5tmU6nHelrBkzJFeRm2JRzkmp/vZMkkXm1FotFWZZhGMZx3Lb+k5OTjx8/7vTpgV6ee29UvKSrq6uqqrq7eDvYi9mv6qiY/fbnoigof+Gz7xRi87+upq14OByenZ3leV6tLJfLsizlJbPZrC0dq6q6v78vyzJJkpOTE+lXdpZpHHEt2xmG4WQykTsZd3yZJ5PJoYd94TeOAH5NPn/+/OHDB/v+QrvpfpfGClvStyxL6cM74IfEq7VYLPr0mzoXkplpTSWA5fLfOI7bwq8syyzL0jQ9Ozsz1+bZK++5tYPB4OjoSFmD+3xnZ2c91wbsgAB+ZT59+pRl2fMzWHt3YjC013iotZaBV/P5nPIX3QKPs4BdrerVUClJX/lXKXV+ft648qIo7u/vkySZTCaNb73Vdiqljo+PGVGIL4UAfn3+/ve/53m+sZAV3enb+BL/KCa172KxeHh4eObG41vV1gTtkykv5GuWZZkJaamD67ruaPidz+dxHB8dHe1riLIZht3o+Ph4L+8CNCKAX588z//2t7/d3d31LHMbdS/mtxBmWXZ7e3ugT4RvxmKx6LOYPfmGWl0XlKbpbDar63o2mzW+Ks/zPM8lFBvHG/Y8K3UWnkwmtOvgiyCAX6U8z//+97/f3Nx0z0jVP6E7AlvuOXh7e0tLHTpsvFS3kXQbSwBnWXZ6eqpWtx7x3d3dzWYzmVSre7UbF7C/6mEYyoAs4IURwK/Y+/fvf/rpJzOEpH/5a/Pbpe3XSvre3NxkWXagT4Fvw27nZ6afeDAYSGp+//33bQtnWSbFsW4f0r/bk8y5gS+C64Bft+vr66enp4uLi+l02tGV1RbGwfqdUPX68CtJ38+fPz89Pe17w/Ftsu8a0nN5udao43pcISOfzdfV+d42PjbPqPUL6toe+H766af+nwXYFgH86mVZ9v79+9FodHFxcXx8bGK4TwVsH5ucmYOWy+XT09OnT5/m8/lhNhzfMj8IDScszSCs4XBYlmVHfp+entrniPb3tmchu1X6KqUeHx+7Vwg8BwH8jVgsFv/7v/+bpunFxYXcv2/bVjVzJJIxz9fX13JDmwNsLH6L/C+kDIFW1pisqqraSuGnpye59Ehi2ySuE8OmUcderLEIbvyVjfIXh0YAf1OkGk6SJIqi8/PzyWQShmFH07RNptrI8/zu7u7x8ZEhV9jKztOzNM5X5YvjOI5jP33bbr3QmL5tSdy48T///PNunwjoiQD+Bsk91N6/f6+UkjvSjMdjmSzXqYzl0COVrrQ5d8wKBGwklyF1tD87nMXaTvuyLBsOh/btgZ1Jnv0f5UF3Bpt//RnR//SnP/XZfuA5COBvXJZlziW8Zrip1poyFy/GT2W5BsmetLmtjH54eLi8vFQt9+nya2JnmPTGAHZW+9NPP9H7ixdAAP/mELo4BMlOqYDbyl+nSJXR9U4TdJ7nw+FQ/rVf6Ne7jUWw/29H4pp/zX2ClVKPj480PuNlEMAADqVxcJPda2tHtTx2olcpdXd3JzcSVk13z/TD2Enf7gA2D8xQCS66w4thIg4AB9F2hY/JRXPFkVMx39/fmwzOskyuFZaXyG1I7H+fSSll1ibvOB6PuQkSXgYBDGA/nB5ceySUHXjOMs6VSEqpMAw/fPiglMrz/Pr6ejKZ1HVtx61abz12nrcf+OzlZeR/vaJWV0YRwHgZBDCAfWq8H0NjLqr2a5CCIPj06ZPMyxFFUe3ZGK4bo9f8KDEslwDUdR0EgVzFd/hdhd86AhjAYZky1ymCZWJnJ33lR7nhoMzCtlwuTZ3qB6rqLHb9xmr7SYlemXkmDMPlcmlGZcttIYCDIoAB7IcMsLcr4Mbh0HYGT6dTfwF51Xg8llthVlUlAWw3FzvVsJ/NdoFrV7pO9Jr0TZLEviZqMBicnJzsew8BaxgFDeDg/NHL9q+UdVsk+1dnZ2dPT09FUSRJorUOw1BrHaxuX+iMptberFjmHZ1+YrsClskvZcyXs4W73WAR6I9vGIADapyu2fxW5i23pxw3v5UHMv9zlmVxHEdRJFOrausuDjYnjGVcVVvT9HK5TNN0Mpk4DePG2dnZp0+fDrhr8JtHAAN4CXaRahuPx/49P5yQjuP46empqqrBYGBi2C6F7dHU/uhrZRXB0o5dFMVkMhmNRjLqylyDZKMCxqHxDQOwH/ZkWKpp7sm2hujRaFQURdv8WUqpNE1Ho1Ge5/P5PM9zE8N1XTsZbK/EaXCW9JXHR0dHR0dHejVfh1TV/haenJzY07gC+0UAA9g/Mz7ZtAl3LDwajYIgKMuyI4OVUsPhME3TLMuiKJIktqthk74yp5XT5rxcLmU2jziOl8vlZDJp6za2tyGKon3sDKAZAQzg5bSFcZqmYRjKzbi6YzhN0yAIkiTJ8/z+/j4IgjzP/Rg2fb1pmmqtj46O6rqWS4plDWq9Vbyxebx7S4BnIoAB7IdzPwY7aDcWwUopuRDIvllIY/6ZJ4fD4Zs3b+RxnudFUUg7dhAEUuwOh0Mzh6W25nwej8dmJJdqKX+1N1U1sHcEMICD6E4vP6GVUnEcK6XMhBj9VzgcDofDoVmhXp+W0jwTRdFkMjF3xW6sens2mwPPRwADeAnB+l17lVLSRBzHsYxDluSTy43MtNL9a9CNeRkEwXg8jqLIGajlD892Yhs4EGbCArA3zkDoDlpre+Sz1rosy6IolFIyL5UZANWzKdhZxs5OrfVgMJhMJjJoy36J6QxW61OCKOuOxcCBEMAAXojJSHkgTc3KGrEskz+LKIriOLbzcluSwRLnaZrKxUsy3FquR1Lrces8bpugA9gXmqABHFzbyGdnmbqusyyznzcB7K+ho+Q1rzVt2mY9ZVmWZWkaoqUB3Lzc7huu67pPKQ/sjAAGsDdVVUVRtFgsnHD1BUEgjcymS1gu0m174VYDks31wU6bsxTZ8r5mdg4Zfa28DH58fOz/jsAOCGAAh2I385rJI7V3swSllOSluTnSbm2/9vyUskJ7bXr9Rg7SwrxYLMqylHk57A2WXz3rwwObEMAA9kyqW5O7Jgsl/ORXTsQ6V+uqTUOR7WFT5hlZuT3/s7LGOctiw+FQLjU2k2RlWSa3fLAzuKqqm5ubPe8XYB0BDGDP4ji+vLw0d/CV6S/kV3Y0KqWklVi6ac0CJhqdy3n9ilnmiNZaL5fLqqpkdFVVVXKBU+NkIHJOoKy4nc/n5+fnZhnZvKenpzzPD7ub8JtHAAPYG7kM6c2bN+fn5w8PD/P53GSw8qLUlMhyfwVhxkyZVmL79r3mpkbyQnmJ/YwZWa1apt8aDodFUZRlKZcgV1VlCmLzwrIs7+/vX2qf4beLAAawZx8+fDDZadJX2Olo+mJlMRmcHEXRYDBIkiRJEnMZklnGVLdSVTtrU+tXE6n1Uc3m3yRJZFXz+Xw6nb59+9akrwx+fnp6uru7e8Edht8oAhjAnpVlaWaEVt58Fx2cS2+lT9cMWl4ul4PBQDLYnq7SrNZEsvlV22AumSNa7mY4nU7t0vzp6enh4YH2Z7wAAhjA3pgpJLdl16CSu3EcSx0sg7akRJbmYtPObFqq7fZnuU+wrNYufO1/oygajUaS7hLDsg1Zli0WC8pfvAwCGMCejUYj89iuerV38wO7QnVGWkkXbxzHg8FAMjWKorIs5a6FMpWVCWBnA0zjtmq/EZOsUFlzfRRFsVgssizLsuwZnx7oiwAG8HKcUHQe2NSqCdr0BJvBWUopiWS/x9fvCW4cCC3hLa3Q8mNRFPP5vK5rrj7CiyGAAexTYyu0czGu8gpTe5i0PeBZrUrhYDWHhlmb/UZmQLWdx/YbtdXBEsNZlj09PWmtr6+vKX/xYghgAHtmN0HrpnmvVFPjs8yhIQOs5HJec8sEuerXrMd08ZoHygpatT7EWq2HvdMfXNf1fD7P81xr/fnzZ8pfvCQCGMBhmfAzZa4dyaZylTSVB9WKXEasVs3RWuvBYGCXyHZrs5O+9pON5a+M1i7LUin1+fPn6+vrl9gdwAoBDGCfkiQxj53oFc6wLClzZbyVpK80L8vMVjLeSgYqB6uJLc3oZVnYfnenCdqMiHZieLlcZlkmha9S6tOnT58/f977rgC6EcAAvhhTE0vQRlEk+R2GYVEUcRxnWZYkifQBm7snyWNnlg+/DlZNhW9VVXmeF0VhfkX64kshgAG8BLm7n32Pv6OjI6216TDWWkubc1EUMhlWVVVyza5ciaTWB1up9emd7WrY/FYuDpY6u1wx0Xt1dXV1dfWC+wBYs8UtNgFgo6OjI/vHjXfVnUwml5eX5lV2/WqmpRyNRicnJ9PpdDqdJkkShqFpoDZdxRKxkt9FUdiN2KYv2R5r/fHjR9IXXxYBDODLm0wmb968Mfflbaxlpfc3SZLhcBivSOKagdPCjNKSS5XsrmiJ3o8fP36hDwr8igAG8BWZTCZv376VgtiJYaPxx8YBX/bsWo+Pj4+Pj0Qvvh4EMICvzmQyUUq9e/fOSWLh/Gj4Q6601pK7Hz58OMyWArsjgAF81SSD3717p6wO5sYMtitd+wHwdSKAAbw+zlAvQdwCAAAAAAAAAAAAAAAAAAAAAAAAAAAAAAAAAAAAAAAAAAAAAAAAAAAAAAAAAAAAAAAAAAAAAAAAAAAAAAAAAAAAAAAAAAAAAAAAAAAAAAAAAAAAAAAAAAAAAAAAAAAAAAAAAAAAAAAAAAAAAAAAAAAAAAAAAAAAAAAAAAAAAAAAAAAAAAAAAAAAAAAAAAAAAAAAAAAAAAAAAAAAAAAAAAAAAAAAAAAAAAAAAAAAAAAAAAAAAAAAAAAAAAAAAAAAAAAAAAAAAAAAAAAAAAAAAAAAAAAAAAAAAAAAAAAAAAAAAAAAAAAAAAAAAAAAAAAAAAAAAAAAAAAAAAAAAAAAAAAAAAAAAAAAAAAAAAAAAAAAAAAAAAAAAAAAAAAAAAAAAAAAAAAAAAAAAAAAAAAAAAAAAAAAAAAAAAAAAAAAAAAAAAAAAAAAAAAAAAAAAAAAAAAAAAAAAAAAAAAAAAAAAAAAAAAAAAAAAAAAAAAAAAAAAAAAAAAAAAAAAAAAAAAAAAAAAAAAAAAAAAAAAAAAAAAAAAAAAAAAAAAAAAAAAAAAAAAAAAAAAAAAAAAAAAAAAAAAAAAAAAAAAAAAAAAAAAAAAAAAAAAAAAAAAPCt+P8BOoioQ/2m7lcAAAAASUVORK5CYII=\"/></td></tr></table>"
      ],
      "text/plain": [
       "<IPython.core.display.HTML object>"
      ]
     },
     "metadata": {},
     "output_type": "display_data"
    }
   ],
   "source": [
    "# Reset data, set initial pose.\n",
    "mujoco.mj_resetData(sim_model, sim_data)\n",
    "\n",
    "# Step the simulation.\n",
    "mujoco.mj_step(sim_model, sim_data)\n",
    "\n",
    "renderer.update_scene(sim_data)\n",
    "media.show_image(renderer.render())"
   ]
  },
  {
   "cell_type": "code",
   "execution_count": 6,
   "metadata": {},
   "outputs": [],
   "source": [
    "def staticload_joint_regressor(mj_model, mj_data, ee_id, active_joints = 7, body_offset = 0):\n",
    "\n",
    "    accel = np.zeros(6)\n",
    "\n",
    "    mujoco.mj_rnePostConstraint(mj_model, mj_data)\n",
    "    mujoco.mj_objectAcceleration(mj_model, mj_data, 2, ee_id, accel, 1)\n",
    "    rotation = mj_data.xmat[ee_id+body_offset].reshape(3, 3).copy()\n",
    "\n",
    "    a1, a2, a3 = rotation.T @ np.array([0,0,9.81]) #\n",
    "\n",
    "    static_load_regressor = np.array([[a1, 0, 0, 0],\n",
    "                                      [a2, 0, 0, 0],\n",
    "                                      [a3, 0, 0, 0],\n",
    "                                      [0, 0, a3, -a2],\n",
    "                                      [0, -a3, 0, a1],\n",
    "                                      [0, a2, -a1, 0]])\n",
    "    \n",
    "    jac_lin = np.zeros((3, mj_model.nv))\n",
    "    jac_rot = np.zeros((3, mj_model.nv))\n",
    "    mujoco.mj_jacBody(mj_model, mj_data, jac_lin, jac_rot, ee_id + body_offset)\n",
    "    ee_local_jacobian = np.vstack((rotation.T@jac_lin[:, :active_joints],\n",
    "                                   rotation.T@jac_rot[:, :active_joints]))\n",
    "    joint_regressor = ee_local_jacobian.T @ static_load_regressor\n",
    "    \n",
    "    return joint_regressor"
   ]
  },
  {
   "cell_type": "code",
   "execution_count": 7,
   "metadata": {},
   "outputs": [
    {
     "name": "stdout",
     "output_type": "stream",
     "text": [
      "[ 2.26752368  0.92272196 -2.79178578 -1.32704817 -0.56291787 -1.2106281 ]\n",
      "[-0.04740257 -0.08664958 -0.14428079  0.13801779  0.43291723  2.42688908]\n",
      "[ 0.00469786 -0.0679554  -0.19482254  0.39100853  0.11598775  2.7582738 ]\n",
      "[ 0.03742377 -0.10085902 -0.08606014  0.41335272 -1.31936703  2.7533667 ]\n",
      "[-0.00791242 -0.0522241   0.22617167  0.85356223 -0.34484114  0.98990139]\n",
      "[ 0.00800224 -0.01710229 -0.12449761 -0.23074342 -0.14942584  1.48211891]\n",
      "[ 0.01791175 -0.01392674 -0.11650445 -0.31148704 -0.33540605 -0.17664892]\n",
      "[-0.00420827  0.00923258 -0.0989399  -0.59418655 -0.20442948  0.95818437]\n",
      "[ 0.00399685  0.01996776 -0.13136566 -0.37017165  0.07993334  1.94558408]\n",
      "[ 0.00974099 -0.07894898 -0.07149366  0.55541919 -0.17153942 -0.02928745]\n",
      "[-0.01547083 -0.087185   -0.10085854  0.02686237  0.19487993  2.08352134]\n",
      "[-0.0299012  -0.12864857  0.04840124  0.02741366  0.90471055 -1.99106457]\n",
      "[ 8.20209253e-04  3.12059785e-03  7.22211962e-02 -1.38267434e+00\n",
      "  3.13194873e-02 -1.18343194e+00]\n",
      "[-0.01152119 -0.03023663  0.04698056 -0.8288793   0.24860946  0.07548946]\n",
      "[ 0.00302304 -0.01342489  0.11388674 -1.27299048  0.35519847  1.84378973]\n",
      "[ 8.49896860e-04  5.89093555e-02 -2.59550924e-01 -1.23069459e-01\n",
      "  8.76340201e-02  3.91926428e+00]\n",
      "[ 0.00887891 -0.03728662 -0.10236798  0.73309844 -0.33416693 -0.89954372]\n",
      "[-0.00946371 -0.00822086  0.05577244  0.71564746 -0.39005218 -3.20395979]\n",
      "[-0.0278523  -0.05508921  0.04242282  1.38495478  1.59464177 -0.88077427]\n",
      "[-0.01151294 -0.10935742  0.13410846  0.40340322  1.02719988 -3.98585567]\n",
      "[ 0.08458864 -0.03027002 -0.07752916  1.48385673  1.61924801 -5.13139618]\n",
      "[-0.00787601 -0.10440891  0.06672122 -0.13337756  0.23407114  0.73730083]\n",
      "[-0.00670587 -0.02982833  0.01415479 -1.01192817 -0.27285391 -0.82748712]\n",
      "[-0.05389759  0.02585123 -0.05768082  0.19600821 -1.04332658 -0.6887003 ]\n",
      "[-3.82085374e-04 -4.01256845e-03  1.28377195e-01  4.12146656e-01\n",
      "  3.04115193e-02 -4.49404471e+00]\n",
      "[-0.01753846 -0.0613897  -0.15172191  0.47026256  0.80123932 -2.57114585]\n",
      "[-0.00883798 -0.01386013  0.07896556 -1.13401318  0.2128047   2.33227249]\n",
      "[ 0.01057724 -0.04262551 -0.04154325 -0.29602681 -0.37995093  0.82012732]\n",
      "[-0.01297649 -0.03002172  0.05469682 -0.81346923  0.53013417  1.52617493]\n",
      "[ 5.93201804e-04 -6.39308159e-02  3.09644169e-02 -3.30384442e-01\n",
      " -3.08480238e-02 -1.02188540e+00]\n"
     ]
    }
   ],
   "source": [
    "for actuator_id in range(sim_model.nu):\n",
    "    actuator = ActuatorMotor()\n",
    "    update_actuator(sim_model, actuator_id, actuator)\n",
    "\n",
    "# find limits except the last two fingers\n",
    "lower, upper = np.zeros(sim_model.nq), np.zeros(sim_model.nq)\n",
    "for jnt_idx in range(sim_model.nq):\n",
    "    lower[jnt_idx] = sim_model.joint(jnt_idx).range[0]\n",
    "    upper[jnt_idx] = sim_model.joint(jnt_idx).range[1]\n",
    "\n",
    "kp = 60\n",
    "kd = 20\n",
    "target_q = np.random.uniform(lower, upper)\n",
    "\n",
    "frames = []\n",
    "framerate = 25\n",
    "\n",
    "phase_time = 5.0\n",
    "num_of_phases = 30\n",
    "phases = 0\n",
    "old_data.time = 0 \n",
    "sim_data.time = 0\n",
    "\n",
    "# print(sim_model.nq)\n",
    "load_joint_regressor = np.zeros((sim_model.nq*num_of_phases, 4))\n",
    "load_joint_force = np.zeros((sim_model.nq*num_of_phases))\n",
    "active_joints = sim_model.nq\n",
    "\n",
    "while sim_data.time < num_of_phases*phase_time:\n",
    "    # PD controller\n",
    "    mujoco.mj_step(sim_model, sim_data)\n",
    "\n",
    "    target_acc = kp * (target_q - sim_data.qpos) + kd * (\n",
    "        np.zeros(sim_model.nv) - sim_data.qvel\n",
    "    )\n",
    "\n",
    "    # use old data to solve inverse dynamics\n",
    "    old_data.qpos = sim_data.qpos.copy()\n",
    "    old_data.qvel = sim_data.qvel.copy()\n",
    "    old_data.qacc = target_acc\n",
    "    mujoco.mj_inverse(old_model, old_data)\n",
    "    sol = old_data.qfrc_inverse\n",
    "\n",
    "    sim_data.ctrl = sol\n",
    "    # regressor = staticload_joint_regressor(old_model, old_data, old_data.body(ee_body.name).id).copy()\n",
    "    # sim_data.ctrl += regressor@np.array([M,*(M*rc)])\n",
    "    \n",
    "    if sim_data.time > phase_time * phases and sim_data.time < num_of_phases*phase_time: \n",
    "        # print(load_force)\n",
    "        regressor = staticload_joint_regressor(old_model, old_data, old_data.body(ee_body.name).id).copy()\n",
    "        load_joint_regressor[6*phases: 6*(phases+1), :] = regressor\n",
    "        \n",
    "        load_qforce = sol - old_data.qfrc_bias\n",
    "        load_joint_force[6*phases: 6*(phases+1)] = load_qforce.copy()\n",
    "        actual_load_qforce = regressor@np.array([M,*(M*rc)])\n",
    "        # print(load_qforce)\n",
    "        print((target_q - sim_data.qpos))\n",
    "        \n",
    "        phases += 1\n",
    "        target_q = np.random.uniform(lower, upper)\n",
    "        \n",
    "         \n",
    "    \n",
    "#     if len(frames) < sim_data.time * framerate:\n",
    "#         renderer.update_scene(sim_data)\n",
    "#         frames.append(renderer.render())\n",
    "        \n",
    "\n",
    "# media.show_video(frames, fps=framerate)"
   ]
  },
  {
   "cell_type": "code",
   "execution_count": 8,
   "metadata": {},
   "outputs": [
    {
     "data": {
      "text/plain": [
       "(0.5030792646188526, array([ 0.02105481,  0.05668482, -0.04849828]))"
      ]
     },
     "execution_count": 8,
     "metadata": {},
     "output_type": "execute_result"
    }
   ],
   "source": [
    "params_estimates = np.linalg.pinv(load_joint_regressor[6:,:])@load_joint_force[6:]\n",
    "mass = params_estimates[0]\n",
    "coordinate = params_estimates[1:]/mass\n",
    "mass, coordinate"
   ]
  },
  {
   "cell_type": "code",
   "execution_count": 9,
   "metadata": {},
   "outputs": [
    {
     "name": "stdout",
     "output_type": "stream",
     "text": [
      "iter: 0    y: 1.848e+06  log10mu: -inf  ratio: 0.94     dx: 0.9      reduction: 1.7e+06\n",
      "iter: 1    y: 1.161e+05  log10mu: -inf  ratio: 0.94     dx: 0.45     reduction: 1.1e+05\n",
      "iter: 2    y: 7415       log10mu: -inf  ratio: 0.94     dx: 0.23     reduction: 6.9e+03\n",
      "iter: 3    y: 512        log10mu: -inf  ratio: 0.95     dx: 0.12     reduction: 4.6e+02\n",
      "iter: 4    y: 51.33      log10mu: -inf  ratio: 0.96     dx: 0.065    reduction: 36     \n",
      "iter: 5    y: 15.53      log10mu: -inf  ratio: 0.88     dx: 0.041    reduction: 2.8    \n",
      "iter: 6    y: 12.77      log10mu: -inf  ratio: 0.92     dx: 0.024    reduction: 0.15   \n",
      "iter: 7    y: 12.62      log10mu: -inf  ratio: 0.64     dx: 0.01     reduction: 0.0069 \n",
      "iter: 8    y: 12.61      log10mu: -inf  ratio: 0.53     dx: 0.0042   reduction: 0.00079\n",
      "iter: 9    y: 12.61      log10mu: -inf  ratio: 0.49     dx: 0.0019   reduction: 0.00016\n",
      "iter: 10   y: 12.61      log10mu: -inf  ratio: 0.51     dx: 0.00099  reduction: 4.2e-05\n",
      "iter: 11   y: 12.61      log10mu: -inf  ratio: 0.49     dx: 0.00049  reduction: 1e-05  \n",
      "iter: 12   y: 12.61      log10mu: -inf  ratio: 0.51     dx: 0.00025  reduction: 2.6e-06\n",
      "iter: 13   y: 12.61      log10mu: -inf  ratio: 0.49     dx: 0.00012  reduction: 6.2e-07\n",
      "iter: 14   y: 12.61      log10mu: -inf  ratio: 0.52     dx: 6.1e-05  reduction: 1.7e-07\n",
      "iter: 15   y: 12.61      log10mu: -inf  ratio: 0.45     dx: 3.1e-05  reduction: 3.6e-08\n",
      "iter: 16   y: 12.61      log10mu: -inf  ratio: 0.59     dx: 1.5e-05  reduction: 1.2e-08\n",
      "iter: 17   y: 12.61      log10mu: -inf  ratio: 0.32     dx: 7.6e-06  reduction: 1.6e-09\n",
      "iter: 18   y: 12.61      log10mu: -inf  ratio: 0.87     dx: 3.8e-06  reduction: 1.1e-09\n",
      "iter: 19   y: 12.61      log10mu:  3.6  ratio: 0.026    dx: 1.4e-07  reduction: 2.8e-12\n",
      "iter: 20   y: 12.61      log10mu:  7.3  ratio: 0.57     dx: 1.8e-11  reduction: 3.6e-15\n",
      "Terminated after 20 iterations: norm(dx) < tol. y: 12.61, Residual evals: 239\n",
      "total time 3.6ms of which residual 39.1%\n"
     ]
    },
    {
     "data": {
      "text/plain": [
       "(0.49890536814525294, array([ 0.0169209 ,  0.0312285 , -0.04748689]))"
      ]
     },
     "execution_count": 9,
     "metadata": {},
     "output_type": "execute_result"
    }
   ],
   "source": [
    "import mujoco.minimize as minimize\n",
    "\n",
    "result = minimize.least_squares(\n",
    "    np.ones(4),\n",
    "    lambda x: (load_joint_regressor[6:] @ x - load_joint_force[6:]) ** 2,\n",
    ")\n",
    "estimates = result[0]\n",
    "mass = estimates[0]\n",
    "coordinate = estimates[1:]/mass\n",
    "mass, coordinate"
   ]
  },
  {
   "cell_type": "code",
   "execution_count": 10,
   "metadata": {},
   "outputs": [
    {
     "name": "stdout",
     "output_type": "stream",
     "text": [
      "joint 0 target: -2.06 actual: -2.06\n",
      "joint 1 target: 0.75 actual: 0.63\n",
      "joint 2 target: -2.39 actual: -2.07\n",
      "joint 3 target: 1.50 actual: 1.52\n",
      "joint 4 target: 0.17 actual: 0.18\n",
      "joint 5 target: 2.39 actual: -0.86\n"
     ]
    }
   ],
   "source": [
    "for i in range(len(target_q)):\n",
    "    print(f\"joint {i} target: {target_q[i]:.2f} actual: {sim_data.qpos[i]:.2f}\")"
   ]
  }
 ],
 "metadata": {
  "kernelspec": {
   "display_name": "venv",
   "language": "python",
   "name": "python3"
  },
  "language_info": {
   "codemirror_mode": {
    "name": "ipython",
    "version": 3
   },
   "file_extension": ".py",
   "mimetype": "text/x-python",
   "name": "python",
   "nbconvert_exporter": "python",
   "pygments_lexer": "ipython3",
   "version": "3.11.8"
  }
 },
 "nbformat": 4,
 "nbformat_minor": 2
}
