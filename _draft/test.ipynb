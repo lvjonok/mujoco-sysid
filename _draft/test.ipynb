{
 "cells": [
  {
   "cell_type": "code",
   "execution_count": 1,
   "metadata": {},
   "outputs": [],
   "source": [
    "import jax\n",
    "import jax.numpy as jnp\n",
    "import mujoco\n",
    "from mujoco import mjx\n",
    "from mujoco_logger import SimLog\n",
    "from robot_descriptions.skydio_x2_mj_description import MJCF_PATH\n",
    "\n",
    "from mujoco_sysid.mjx.convert import logchol2theta, theta2logchol\n",
    "from mujoco_sysid.mjx.parameters import get_dynamic_parameters, set_dynamic_parameters\n",
    "\n",
    "import matplotlib.pyplot as plt"
   ]
  },
  {
   "cell_type": "code",
   "execution_count": 2,
   "metadata": {},
   "outputs": [
    {
     "name": "stderr",
     "output_type": "stream",
     "text": [
      "An NVIDIA GPU may be present on this machine, but a CUDA-enabled jaxlib is not installed. Falling back to cpu.\n"
     ]
    },
    {
     "data": {
      "text/plain": [
       "Array([ 1.325   ,  0.      ,  0.      ,  0.0715  ,  0.04051 ,  0.      ,\n",
       "        0.02927 , -0.0021  ,  0.      ,  0.060528], dtype=float32)"
      ]
     },
     "execution_count": 2,
     "metadata": {},
     "output_type": "execute_result"
    }
   ],
   "source": [
    "model = mujoco.MjModel.from_xml_path(MJCF_PATH)\n",
    "# Turn off collisions\n",
    "for geom_id in range(model.ngeom):\n",
    "    model.geom_contype[geom_id] = 0\n",
    "    model.geom_conaffinity[geom_id] = 0\n",
    "\n",
    "\n",
    "data = mujoco.MjData(model)\n",
    "log = SimLog(\"quadrotor.json\")\n",
    "\n",
    "true_parameters = get_dynamic_parameters(model, 1)\n",
    "true_parameters"
   ]
  },
  {
   "cell_type": "code",
   "execution_count": 3,
   "metadata": {},
   "outputs": [
    {
     "data": {
      "text/plain": [
       "((1001, 7), (1001, 6), (1001, 4))"
      ]
     },
     "execution_count": 3,
     "metadata": {},
     "output_type": "execute_result"
    }
   ],
   "source": [
    "log_qpos = jnp.array(log.data(\"qpos\"))\n",
    "log_qvel = jnp.array(log.data(\"qvel\"))\n",
    "log_ctrl = jnp.array(log.data(\"ctrl\"))\n",
    "\n",
    "log_qpos.shape, log_qvel.shape, log_ctrl.shape"
   ]
  },
  {
   "cell_type": "code",
   "execution_count": 4,
   "metadata": {},
   "outputs": [
    {
     "data": {
      "text/plain": [
       "(1001, 13)"
      ]
     },
     "execution_count": 4,
     "metadata": {},
     "output_type": "execute_result"
    }
   ],
   "source": [
    "log_x = jnp.concatenate([log_qpos, log_qvel], axis=-1)\n",
    "\n",
    "log_x.shape"
   ]
  },
  {
   "cell_type": "code",
   "execution_count": 5,
   "metadata": {},
   "outputs": [],
   "source": [
    "from mujoco_sysid.mjx.model import rollout"
   ]
  },
  {
   "cell_type": "code",
   "execution_count": 6,
   "metadata": {},
   "outputs": [
    {
     "data": {
      "text/plain": [
       "((13,), (30, 4))"
      ]
     },
     "execution_count": 6,
     "metadata": {},
     "output_type": "execute_result"
    }
   ],
   "source": [
    "mjx_model = mjx.put_model(model)\n",
    "\n",
    "x = log_x[0]\n",
    "ctrls = log_ctrl[:30]\n",
    "\n",
    "x.shape, ctrls.shape"
   ]
  },
  {
   "cell_type": "code",
   "execution_count": 7,
   "metadata": {},
   "outputs": [],
   "source": [
    "# rollout = jax.jit(rollout)\n",
    "\n",
    "# rollout(mjx_model, x, ctrls, true_parameters)"
   ]
  },
  {
   "cell_type": "code",
   "execution_count": 8,
   "metadata": {},
   "outputs": [],
   "source": [
    "# %timeit rollout(mjx_model, x, ctrls, true_parameters)"
   ]
  },
  {
   "cell_type": "code",
   "execution_count": 9,
   "metadata": {},
   "outputs": [
    {
     "data": {
      "text/plain": [
       "array([0.   , 1.325])"
      ]
     },
     "execution_count": 9,
     "metadata": {},
     "output_type": "execute_result"
    }
   ],
   "source": [
    "model.body_mass"
   ]
  },
  {
   "cell_type": "code",
   "execution_count": 10,
   "metadata": {},
   "outputs": [],
   "source": [
    "rollout2 = jax.jit(rollout)\n",
    "\n",
    "rollout2(mjx_model, x, ctrls, true_parameters);"
   ]
  },
  {
   "cell_type": "code",
   "execution_count": 11,
   "metadata": {},
   "outputs": [
    {
     "name": "stdout",
     "output_type": "stream",
     "text": [
      "3.79 ms ± 188 μs per loop (mean ± std. dev. of 7 runs, 100 loops each)\n"
     ]
    }
   ],
   "source": [
    "%timeit rollout2(mjx_model, x, ctrls, true_parameters)"
   ]
  },
  {
   "cell_type": "code",
   "execution_count": 12,
   "metadata": {},
   "outputs": [
    {
     "name": "stdout",
     "output_type": "stream",
     "text": [
      "3.67 ms ± 178 μs per loop (mean ± std. dev. of 7 runs, 100 loops each)\n"
     ]
    }
   ],
   "source": [
    "%timeit rollout2(mjx_model, x, ctrls, true_parameters)"
   ]
  },
  {
   "cell_type": "code",
   "execution_count": 13,
   "metadata": {},
   "outputs": [
    {
     "data": {
      "text/plain": [
       "Array([-8.6045888e-04,  8.2766024e-07,  9.9254496e-02,  9.9996793e-01,\n",
       "        7.7065242e-06,  8.0089960e-03,  7.8795711e-07, -5.7232220e-02,\n",
       "        5.5040164e-05, -4.9598008e-02,  1.0275191e-03,  1.0678567e+00,\n",
       "        1.0522765e-04], dtype=float32)"
      ]
     },
     "execution_count": 13,
     "metadata": {},
     "output_type": "execute_result"
    }
   ],
   "source": [
    "log_x[1]"
   ]
  }
 ],
 "metadata": {
  "kernelspec": {
   "display_name": "venv",
   "language": "python",
   "name": "python3"
  },
  "language_info": {
   "codemirror_mode": {
    "name": "ipython",
    "version": 3
   },
   "file_extension": ".py",
   "mimetype": "text/x-python",
   "name": "python",
   "nbconvert_exporter": "python",
   "pygments_lexer": "ipython3",
   "version": "3.10.12"
  }
 },
 "nbformat": 4,
 "nbformat_minor": 2
}
