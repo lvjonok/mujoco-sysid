{
 "cells": [
  {
   "cell_type": "code",
   "execution_count": 1,
   "metadata": {},
   "outputs": [
    {
     "name": "stderr",
     "output_type": "stream",
     "text": [
      "2024-07-03 16:08:21.341305: W external/xla/xla/service/gpu/nvptx_compiler.cc:765] The NVIDIA driver's CUDA version is 12.4 which is older than the ptxas CUDA version (12.5.40). Because the driver is older than the ptxas version, XLA is disabling parallel compilation, which may slow down compilation. You should update your NVIDIA driver or use the NVIDIA-provided CUDA forward compatibility packages.\n",
      "/home/lvjonok/github.com/lvjonok/mujoco-sysid/venv/lib/python3.10/site-packages/jax/_src/interpreters/xla.py:155: RuntimeWarning: overflow encountered in cast\n",
      "  return np.asarray(x, dtypes.canonicalize_dtype(x.dtype))\n"
     ]
    }
   ],
   "source": [
    "import jax\n",
    "import jax.numpy as jnp\n",
    "import mujoco\n",
    "import numpy as np\n",
    "from mujoco import mjx\n",
    "from robot_descriptions.z1_mj_description import MJCF_PATH\n",
    "\n",
    "key = jax.random.PRNGKey(0)\n",
    "\n",
    "mjmodel = mujoco.MjModel.from_xml_path(MJCF_PATH)\n",
    "mjdata = mujoco.MjData(mjmodel)\n",
    "\n",
    "# alter the model so it becomes mjx compatible\n",
    "mjmodel.dof_frictionloss = 0\n",
    "mjmodel.opt.integrator = 0\n",
    "\n",
    "mjxmodel = mjx.put_model(mjmodel)\n",
    "mjxdata = mjx.put_data(mjmodel, mjdata)"
   ]
  },
  {
   "cell_type": "code",
   "execution_count": 2,
   "metadata": {},
   "outputs": [
    {
     "data": {
      "text/plain": [
       "'/home/lvjonok/.cache/robot_descriptions/mujoco_menagerie/unitree_z1/z1.xml'"
      ]
     },
     "execution_count": 2,
     "metadata": {},
     "output_type": "execute_result"
    }
   ],
   "source": [
    "MJCF_PATH"
   ]
  },
  {
   "cell_type": "code",
   "execution_count": 3,
   "metadata": {},
   "outputs": [
    {
     "data": {
      "text/plain": [
       "(Array([-0.87181777, -0.13588488, -1.765594  ,  0.22557412, -1.3263583 ,\n",
       "        -0.6441258 ], dtype=float32),\n",
       " Array([ 0.95800805, -0.03642227, -1.8372649 , -1.254374  , -1.2776358 ,\n",
       "        -0.23177852], dtype=float32),\n",
       " Array([-0.2456366 ,  0.3126293 ,  1.0859151 ,  0.05576393, -0.42242417,\n",
       "        -1.1261328 ], dtype=float32))"
      ]
     },
     "execution_count": 3,
     "metadata": {},
     "output_type": "execute_result"
    }
   ],
   "source": [
    "q, v, dv = jax.random.normal(key, (3, mjmodel.nq))\n",
    "\n",
    "q, v, dv"
   ]
  },
  {
   "cell_type": "code",
   "execution_count": 4,
   "metadata": {},
   "outputs": [
    {
     "name": "stdout",
     "output_type": "stream",
     "text": [
      "bodyid: 2, v: [0. 0. 0.], w: [0.         0.         0.95800805]\n",
      "bodyid: 2, a_lin: [0.   0.   9.81], a_ang: [  0.           0.         133.51350487]\n",
      "bodyid: 3, v: [0. 0. 0.], w: [ 0.12977856 -0.03642227  0.94917699]\n",
      "bodyid: 3, a_lin: [1.32893213 0.         9.71956992], a_ang: [ 17.55922354 264.69706853 132.3548755 ]\n",
      "bodyid: 4, v: [-0.01250669 -0.33221195  0.00246757], w: [ 0.90610408 -1.87368716 -0.31105437]\n",
      "bodyid: 4, a_lin: [100.0634086  -46.32255204 -21.43708861], a_ang: [126.31661808 137.17039253 -43.24327451]\n",
      "bodyid: 5, v: [-0.20819569 -0.45166973  0.37383589], w: [ 0.95272099 -3.12806119 -0.10050942]\n",
      "bodyid: 5, a_lin: [120.10952403 -63.28652317 -24.05620638], a_ang: [ 131.53577472 -955.73404544  -25.7699149 ]\n",
      "bodyid: 6, v: [ 0.39468402 -0.31301854  0.59280017], w: [ 3.26564387  0.16737446 -1.37814524]\n",
      "bodyid: 6, a_lin: [88.94263641 95.88811455 42.83847378], a_ang: [ 960.71640941 -134.10758379 9345.2909092 ]\n",
      "bodyid: 7, v: [ 0.39468402 -0.65554712  0.23874882], w: [ 3.03386535  0.96141254 -1.00149111]\n",
      "bodyid: 7, a_lin: [ 88.84781332 421.20436758 390.63651541], a_ang: [163211.18571526  -5745.70976954   7366.63249779]\n"
     ]
    }
   ],
   "source": [
    "mjdata.qpos[:] = q\n",
    "mjdata.qvel[:] = v\n",
    "mjdata.qacc[:] = dv\n",
    "\n",
    "mujoco.mj_step(mjmodel, mjdata)\n",
    "mujoco.mj_rnePostConstraint(mjmodel, mjdata)\n",
    "\n",
    "velocity = np.zeros(6)\n",
    "for bodyid in mjmodel.jnt_bodyid:\n",
    "    mujoco.mj_objectVelocity(mjmodel, mjdata, 2, bodyid, velocity, 1)\n",
    "\n",
    "    print(f\"bodyid: {bodyid}, v: {velocity[3:]}, w: {velocity[:3]}\")\n",
    "    mujoco.mj_objectAcceleration(mjmodel, mjdata, 2, bodyid, velocity, 1)\n",
    "    print(f\"bodyid: {bodyid}, a_lin: {velocity[3:]}, a_ang: {velocity[:3]}\")"
   ]
  },
  {
   "cell_type": "code",
   "execution_count": 5,
   "metadata": {},
   "outputs": [
    {
     "name": "stdout",
     "output_type": "stream",
     "text": [
      "[[ 0.      0.      0.      0.      0.      0.    ]\n",
      " [ 0.      0.      0.      0.      0.      0.    ]\n",
      " [ 0.      0.      0.958  -0.1736 -0.1554  0.    ]\n",
      " [-0.0279 -0.0234  0.958  -0.1748 -0.154  -0.0089]\n",
      " [-1.4343 -1.2056  0.958  -0.2899 -0.017   0.1817]\n",
      " [-2.3945 -2.0127  0.958  -0.217  -0.1037  0.4682]\n",
      " [-1.577  -2.9853  1.0921 -0.0366  0.0465  0.4585]\n",
      " [-1.4011 -2.8451  1.0363 -0.0694  0.0665  0.4055]]\n"
     ]
    }
   ],
   "source": [
    "with np.printoptions(precision=4, suppress=True):\n",
    "    print(mjdata.cvel)"
   ]
  },
  {
   "cell_type": "code",
   "execution_count": 6,
   "metadata": {},
   "outputs": [
    {
     "name": "stdout",
     "output_type": "stream",
     "text": [
      "[[      0.           0.           0.          -0.          -0.           9.81  ]\n",
      " [      0.           0.           0.           0.           0.           9.81  ]\n",
      " [      0.           0.         133.5135     -24.1929     -21.6563       9.81  ]\n",
      " [    202.283      170.7232     133.5135     -15.662      -31.7642      74.1558]\n",
      " [    104.9311      88.347      133.5135     -23.6876     -22.2796      87.376 ]\n",
      " [   -724.0039    -624.0078     133.5135      38.6625     -94.7821     341.256 ]\n",
      " [  -6725.2352    6501.8936    -878.6433   -1286.669    -1201.2067     409.665 ]\n",
      " [-129888.0899  -91650.9038   38136.1708   21636.3522  -15194.9754   37568.2828]]\n"
     ]
    }
   ],
   "source": [
    "with np.printoptions(precision=4, suppress=True, linewidth=500):\n",
    "    print(mjdata.cacc)"
   ]
  },
  {
   "cell_type": "code",
   "execution_count": 11,
   "metadata": {},
   "outputs": [],
   "source": [
    "from mujoco_sysid.mjx.regressors import object_velocity, com_acc\n",
    "\n",
    "mjxdata = mjxdata.replace(qpos=q, qvel=v, qacc=dv)\n",
    "mjxdata = mjx.step(mjxmodel, mjxdata)\n",
    "mjxdata = mjx.rne(mjxmodel, mjxdata)"
   ]
  },
  {
   "cell_type": "code",
   "execution_count": 12,
   "metadata": {},
   "outputs": [
    {
     "name": "stdout",
     "output_type": "stream",
     "text": [
      "[[ 0.      0.      0.      0.      0.      0.    ]\n",
      " [ 0.      0.      0.      0.      0.      0.    ]\n",
      " [ 0.      0.      0.958  -0.1736 -0.1554  0.    ]\n",
      " [-0.0279 -0.0234  0.958  -0.1748 -0.154  -0.0089]\n",
      " [-1.4343 -1.2056  0.958  -0.2899 -0.017   0.1817]\n",
      " [-2.3945 -2.0127  0.958  -0.217  -0.1037  0.4682]\n",
      " [-1.577  -2.9853  1.0921 -0.0366  0.0465  0.4585]\n",
      " [-1.4011 -2.8451  1.0363 -0.0694  0.0665  0.4055]]\n"
     ]
    }
   ],
   "source": [
    "with np.printoptions(precision=4, suppress=True):\n",
    "    print(mjxdata.cvel)"
   ]
  },
  {
   "cell_type": "code",
   "execution_count": 13,
   "metadata": {},
   "outputs": [
    {
     "name": "stdout",
     "output_type": "stream",
     "text": [
      "[[  0.       0.       0.       0.       0.       9.81  ]\n",
      " [  0.       0.       0.       0.       0.       9.81  ]\n",
      " [  0.       0.       0.       0.       0.       9.81  ]\n",
      " [ -0.3425   0.4075   0.       0.0204   0.0171   9.814 ]\n",
      " [ -0.0728   0.0866   0.      -0.0144  -0.0049   9.8101]\n",
      " [  7.6103  -9.054   -0.      -1.1641   3.0386  14.0812]\n",
      " [  2.7813 -17.1085 -28.992   -3.4752  -1.0579  11.8998]\n",
      " [  1.2405 -29.0586 -63.8849 -11.4691   3.6247  28.2652]]\n"
     ]
    }
   ],
   "source": [
    "with np.printoptions(precision=4, suppress=True, linewidth=500):\n",
    "    print(com_acc(mjxmodel, mjxdata))"
   ]
  },
  {
   "cell_type": "code",
   "execution_count": null,
   "metadata": {},
   "outputs": [
    {
     "name": "stdout",
     "output_type": "stream",
     "text": [
      "bodyid: 2, v: [0. 0. 0.], w: [0.         0.         0.95800805]\n"
     ]
    },
    {
     "ename": "NameError",
     "evalue": "name 'object_acceleration' is not defined",
     "output_type": "error",
     "traceback": [
      "\u001b[0;31m---------------------------------------------------------------------------\u001b[0m",
      "\u001b[0;31mNameError\u001b[0m                                 Traceback (most recent call last)",
      "Cell \u001b[0;32mIn[9], line 6\u001b[0m\n\u001b[1;32m      2\u001b[0m velocity \u001b[38;5;241m=\u001b[39m object_velocity(mjxmodel, mjxdata, bodyid)\n\u001b[1;32m      4\u001b[0m \u001b[38;5;28mprint\u001b[39m(\u001b[38;5;124mf\u001b[39m\u001b[38;5;124m\"\u001b[39m\u001b[38;5;124mbodyid: \u001b[39m\u001b[38;5;132;01m{\u001b[39;00mbodyid\u001b[38;5;132;01m}\u001b[39;00m\u001b[38;5;124m, v: \u001b[39m\u001b[38;5;132;01m{\u001b[39;00mvelocity[\u001b[38;5;241m3\u001b[39m:]\u001b[38;5;132;01m}\u001b[39;00m\u001b[38;5;124m, w: \u001b[39m\u001b[38;5;132;01m{\u001b[39;00mvelocity[:\u001b[38;5;241m3\u001b[39m]\u001b[38;5;132;01m}\u001b[39;00m\u001b[38;5;124m\"\u001b[39m)\n\u001b[0;32m----> 6\u001b[0m acceleration \u001b[38;5;241m=\u001b[39m \u001b[43mobject_acceleration\u001b[49m(mjxmodel, mjxdata, bodyid)\n\u001b[1;32m      8\u001b[0m \u001b[38;5;28mprint\u001b[39m(\u001b[38;5;124mf\u001b[39m\u001b[38;5;124m\"\u001b[39m\u001b[38;5;124mbodyid: \u001b[39m\u001b[38;5;132;01m{\u001b[39;00mbodyid\u001b[38;5;132;01m}\u001b[39;00m\u001b[38;5;124m, a_lin: \u001b[39m\u001b[38;5;132;01m{\u001b[39;00macceleration[\u001b[38;5;241m3\u001b[39m:]\u001b[38;5;132;01m}\u001b[39;00m\u001b[38;5;124m, a_ang: \u001b[39m\u001b[38;5;132;01m{\u001b[39;00macceleration[:\u001b[38;5;241m3\u001b[39m]\u001b[38;5;132;01m}\u001b[39;00m\u001b[38;5;124m\"\u001b[39m)\n",
      "\u001b[0;31mNameError\u001b[0m: name 'object_acceleration' is not defined"
     ]
    }
   ],
   "source": [
    "for bodyid in mjmodel.jnt_bodyid:\n",
    "    velocity = object_velocity(mjxmodel, mjxdata, bodyid)\n",
    "\n",
    "    print(f\"bodyid: {bodyid}, v: {velocity[3:]}, w: {velocity[:3]}\")\n",
    "\n",
    "    acceleration = object_acceleration(mjxmodel, mjxdata, bodyid)\n",
    "\n",
    "    print(f\"bodyid: {bodyid}, a_lin: {acceleration[3:]}, a_ang: {acceleration[:3]}\")"
   ]
  }
 ],
 "metadata": {
  "kernelspec": {
   "display_name": "venv",
   "language": "python",
   "name": "python3"
  },
  "language_info": {
   "codemirror_mode": {
    "name": "ipython",
    "version": 3
   },
   "file_extension": ".py",
   "mimetype": "text/x-python",
   "name": "python",
   "nbconvert_exporter": "python",
   "pygments_lexer": "ipython3",
   "version": "3.10.12"
  }
 },
 "nbformat": 4,
 "nbformat_minor": 2
}
