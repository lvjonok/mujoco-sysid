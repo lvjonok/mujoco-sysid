{
 "cells": [
  {
   "cell_type": "code",
   "execution_count": 1,
   "metadata": {},
   "outputs": [],
   "source": [
    "import numpy as np\n",
    "import mujoco\n",
    "from mujoco_sysid import regressors\n",
    "from mujoco_sysid.utils import muj2pin\n",
    "import pinocchio as pin\n",
    "from mujoco_sysid.parameters import get_dynamic_parameters\n",
    "\n",
    "np.random.seed(0)"
   ]
  },
  {
   "cell_type": "code",
   "execution_count": 2,
   "metadata": {},
   "outputs": [],
   "source": [
    "from robot_descriptions.skydio_x2_description import URDF_PATH\n",
    "from robot_descriptions.skydio_x2_mj_description import MJCF_PATH"
   ]
  },
  {
   "cell_type": "code",
   "execution_count": 3,
   "metadata": {},
   "outputs": [],
   "source": [
    "pinmodel = pin.buildModelFromUrdf(URDF_PATH)\n",
    "pindata = pinmodel.createData()\n",
    "\n",
    "mjmodel = mujoco.MjModel.from_xml_path(MJCF_PATH)\n",
    "mjmodel.opt.gravity = np.zeros(3)\n",
    "for act_id in range(4):\n",
    "    mjmodel.actuator(act_id).ctrlrange = np.array([-1e4, 1e4])\n",
    "mjdata = mujoco.MjData(mjmodel)\n",
    "theta = get_dynamic_parameters(mjmodel, 1)"
   ]
  },
  {
   "cell_type": "code",
   "execution_count": 4,
   "metadata": {},
   "outputs": [
    {
     "name": "stdout",
     "output_type": "stream",
     "text": [
      "Configuration\n",
      "Pinocchio: [0.5488135  0.71518937 0.60276338 0.40671359 0.62006595 0.42008887\n",
      " 0.52309427], [0.68314008 0.72550602 0.93695947 0.79172504 0.52889492 0.56804456], [0.92559664 0.07103606 0.0871293  0.0202184  0.83261985 0.77815675]\n",
      "Mujoco: [0.5488135  0.71518937 0.60276338 0.52309427 0.40671359 0.62006595\n",
      " 0.42008887], [0.891773   0.96366276 0.38344152 0.79172504 0.52889492 0.56804456], [0.92559664 0.07103606 0.0871293  0.0202184  0.83261985 0.77815675]\n"
     ]
    }
   ],
   "source": [
    "q = np.random.rand(pinmodel.nq)\n",
    "# normalize the quaternion\n",
    "q[3:7] /= np.linalg.norm(q[3:7])\n",
    "# q = np.array([0, 0, 1, 1, 0, 0, 0])\n",
    "v, dv = np.random.rand(pinmodel.nv), np.random.rand(pinmodel.nv)\n",
    "\n",
    "# v[:3] *= 0  # FIXME: occasionally when we set the linear velocity to zero, the test works\n",
    "# otherwise the inverse dynamics does not match\n",
    "\n",
    "pinq, pinv = muj2pin(q, v)\n",
    "\n",
    "print(\"Configuration\")\n",
    "print(f\"Pinocchio: {pinq}, {pinv}, {dv}\")\n",
    "print(f\"Mujoco: {q}, {v}, {dv}\")\n",
    "\n",
    "# Selector matrix for actuators\n",
    "selector = np.array(\n",
    "    [\n",
    "        [0.0, 0.0, 0.0, 0.0],\n",
    "        [0.0, 0.0, 0.0, 0.0],\n",
    "        [1.0, 1.0, 1.0, 1.0],\n",
    "        [-0.18, 0.18, 0.18, -0.18],\n",
    "        [0.14, 0.14, -0.14, -0.14],\n",
    "        [-0.0201, 0.0201, 0.0201, -0.0201],\n",
    "    ]\n",
    ")\n",
    "\n",
    "# Random control input\n",
    "ctrl = np.zeros(4)  # np.random.randn(4)\n",
    "\n",
    "# compute with pinocchio all terms\n",
    "tau = selector @ ctrl\n",
    "dv = pin.aba(pinmodel, pindata, pinq, pinv, tau)\n",
    "result = pin.rnea(pinmodel, pindata, pinq, pinv, dv)\n",
    "\n",
    "# compute with mujoco all terms\n",
    "mjdata.qpos[:] = q\n",
    "mjdata.qvel[:] = v\n",
    "mjdata.qacc[:] = dv\n",
    "mjdata.ctrl[:] = ctrl\n",
    "\n",
    "mujoco.mj_step(mjmodel, mjdata)\n",
    "# mujoco.mj_inverse(mjmodel, mjdata)"
   ]
  },
  {
   "cell_type": "code",
   "execution_count": 5,
   "metadata": {},
   "outputs": [
    {
     "name": "stdout",
     "output_type": "stream",
     "text": [
      "[[-0.04571 -0.6024   0.36044  0.84716  0.       0.       0.       0.       0.       0.     ]\n",
      " [-0.03027  0.47704 -0.9495   0.56095  0.       0.       0.       0.       0.       0.     ]\n",
      " [ 0.04892  0.05231  0.03992 -0.90656  0.       0.       0.       0.       0.       0.     ]\n",
      " [ 0.       0.       0.04892  0.03027 -0.26052 -0.05231 -0.30044  0.47704 -0.04294  0.30044]\n",
      " [ 0.      -0.04892  0.      -0.04571  0.44974  0.03992  0.39743 -0.30415 -0.36044 -0.44974]\n",
      " [ 0.      -0.03027  0.04571  0.      -0.41874  0.3471   0.41874 -0.56095  0.84716  0.0583 ]]\n"
     ]
    }
   ],
   "source": [
    "pinY = pin.jointBodyRegressor(pinmodel, pindata, 1)\n",
    "\n",
    "with np.printoptions(precision=5, suppress=True, linewidth=400):\n",
    "    print(pinY)"
   ]
  },
  {
   "cell_type": "code",
   "execution_count": 6,
   "metadata": {},
   "outputs": [
    {
     "data": {
      "text/plain": [
       "  v = -0.129148   0.32349 -0.164172\n",
       "  w = -0.260518  0.397427 0.0582974"
      ]
     },
     "execution_count": 6,
     "metadata": {},
     "output_type": "execute_result"
    }
   ],
   "source": [
    "# pin.forwardKinematics(pinmodel, pindata, pinq, pinv)\n",
    "# pin.computeAllTerms(pinmodel, pindata, pinq, pinv)\n",
    "# pin.aba(pinmodel, pindata, pinq, pinv, tau)\n",
    "# pin.getVelocity(pinmodel, pindata, 1), pin.getClassicalAcceleration(pinmodel, pindata, 1)\n",
    "\n",
    "pindata.a_gf[1]"
   ]
  },
  {
   "cell_type": "code",
   "execution_count": 7,
   "metadata": {},
   "outputs": [
    {
     "data": {
      "text/plain": [
       "  v = -0.129148   0.32349 -0.164172\n",
       "  w = -0.260518  0.397427 0.0582974"
      ]
     },
     "execution_count": 7,
     "metadata": {},
     "output_type": "execute_result"
    }
   ],
   "source": [
    "pindata.a_gf[1]"
   ]
  },
  {
   "cell_type": "code",
   "execution_count": 8,
   "metadata": {},
   "outputs": [
    {
     "data": {
      "text/plain": [
       "  v =  -3.01161   9.28482 -0.978993\n",
       "  w =  0 -0  0"
      ]
     },
     "execution_count": 8,
     "metadata": {},
     "output_type": "execute_result"
    }
   ],
   "source": [
    "pindata.liMi[1].actInv(pindata.a_gf[0])"
   ]
  },
  {
   "cell_type": "code",
   "execution_count": 9,
   "metadata": {},
   "outputs": [
    {
     "data": {
      "text/plain": [
       "array([0.5488135 , 0.71518937, 0.60276338, 0.40671359, 0.62006595,\n",
       "       0.42008887, 0.52309427])"
      ]
     },
     "execution_count": 9,
     "metadata": {},
     "output_type": "execute_result"
    }
   ],
   "source": [
    "pinq"
   ]
  },
  {
   "cell_type": "code",
   "execution_count": 10,
   "metadata": {},
   "outputs": [
    {
     "data": {
      "text/plain": [
       "array([[-0.12191288,  0.06488634,  0.99041759],\n",
       "       [ 0.94387066,  0.31621879,  0.09546651],\n",
       "       [-0.30699418,  0.94646471, -0.09979545]])"
      ]
     },
     "execution_count": 10,
     "metadata": {},
     "output_type": "execute_result"
    }
   ],
   "source": [
    "mjdata.xmat[1].reshape(3, 3)"
   ]
  },
  {
   "cell_type": "code",
   "execution_count": 11,
   "metadata": {},
   "outputs": [
    {
     "data": {
      "text/plain": [
       "  R =\n",
       "1 0 0\n",
       "0 1 0\n",
       "0 0 1\n",
       "  p = 0 0 0"
      ]
     },
     "execution_count": 11,
     "metadata": {},
     "output_type": "execute_result"
    }
   ],
   "source": [
    "pindata.oMi[1]"
   ]
  },
  {
   "cell_type": "code",
   "execution_count": 12,
   "metadata": {},
   "outputs": [
    {
     "data": {
      "text/plain": [
       "  R =\n",
       " -0.121913  0.0648863   0.990418\n",
       "  0.943871   0.316219  0.0954665\n",
       " -0.306994   0.946465 -0.0997955\n",
       "  p = 0.548814 0.715189 0.602763"
      ]
     },
     "execution_count": 12,
     "metadata": {},
     "output_type": "execute_result"
    }
   ],
   "source": [
    "pindata.liMi[1]"
   ]
  },
  {
   "cell_type": "code",
   "execution_count": 13,
   "metadata": {},
   "outputs": [
    {
     "data": {
      "text/plain": [
       "array([-0.04280117, -0.06304948, -0.01692062, -0.27890477,  0.39128987,\n",
       "        0.05578023])"
      ]
     },
     "execution_count": 13,
     "metadata": {},
     "output_type": "execute_result"
    }
   ],
   "source": [
    "# compute with mujoco all terms\n",
    "mjdata.qpos[:] = q\n",
    "mjdata.qvel[:] = v\n",
    "mjdata.qacc[:] = dv\n",
    "mjdata.ctrl[:] = ctrl\n",
    "\n",
    "# position\n",
    "mujoco.mj_kinematics(mjmodel, mjdata)\n",
    "mujoco.mj_comPos(mjmodel, mjdata)\n",
    "mujoco.mj_crb(mjmodel, mjdata)\n",
    "mujoco.mj_factorM(mjmodel, mjdata)\n",
    "\n",
    "# velocity\n",
    "mujoco.mj_fwdVelocity(mjmodel, mjdata)\n",
    "mujoco.mj_comVel(mjmodel, mjdata)\n",
    "mujoco.mj_referenceConstraint(mjmodel, mjdata)\n",
    "# mujoco.mj_rne(mjmodel, mjdata)\n",
    "\n",
    "mujoco.mj_fwdActuation(mjmodel, mjdata)\n",
    "mujoco.mj_fwdAcceleration(mjmodel, mjdata)\n",
    "\n",
    "mjdata.qacc_smooth"
   ]
  },
  {
   "cell_type": "code",
   "execution_count": 14,
   "metadata": {},
   "outputs": [
    {
     "data": {
      "text/plain": [
       "array([-0.2605178 ,  0.39742672,  0.05829744, -9.05989038, -1.87550827,\n",
       "        1.91802153])"
      ]
     },
     "execution_count": 14,
     "metadata": {},
     "output_type": "execute_result"
    }
   ],
   "source": [
    "accel = np.zeros(6)\n",
    "\n",
    "mujoco.mj_rnePostConstraint(mjmodel, mjdata)\n",
    "mujoco.mj_objectAcceleration(mjmodel, mjdata, 2, 1, accel, 1)\n",
    "\n",
    "accel"
   ]
  },
  {
   "cell_type": "code",
   "execution_count": 15,
   "metadata": {},
   "outputs": [
    {
     "data": {
      "text/plain": [
       "  v = -0.129148   0.32349 -0.164172\n",
       "  w = -0.260518  0.397427 0.0582974"
      ]
     },
     "execution_count": 15,
     "metadata": {},
     "output_type": "execute_result"
    }
   ],
   "source": [
    "pindata.a_gf[1]"
   ]
  },
  {
   "cell_type": "code",
   "execution_count": 16,
   "metadata": {},
   "outputs": [
    {
     "data": {
      "text/plain": [
       "array([-0.2605178 ,  0.39742672,  0.05829744, -9.05989038, -1.87550827,\n",
       "        1.91802153])"
      ]
     },
     "execution_count": 16,
     "metadata": {},
     "output_type": "execute_result"
    }
   ],
   "source": [
    "velocity = np.zeros(6)\n",
    "\n",
    "mujoco.mj_objectVelocity(mjmodel, mjdata, 2, 1, velocity, 1)\n",
    "\n",
    "v, w = velocity[3:], velocity[:3]\n",
    "\n",
    "# accel[3:] -= np.cross(w, v)\n",
    "\n",
    "accel"
   ]
  },
  {
   "cell_type": "code",
   "execution_count": 17,
   "metadata": {},
   "outputs": [
    {
     "data": {
      "text/plain": [
       "  v =  2.88246 -8.96133 0.814821\n",
       "  w = -0.260518  0.397427 0.0582974"
      ]
     },
     "execution_count": 17,
     "metadata": {},
     "output_type": "execute_result"
    }
   ],
   "source": [
    "# try to reverse all the values\n",
    "pindata.a_gf[1] - pindata.liMi[1].actInv(pindata.a_gf[0])"
   ]
  },
  {
   "cell_type": "code",
   "execution_count": 18,
   "metadata": {},
   "outputs": [
    {
     "data": {
      "text/plain": [
       "  v =  0.68314 0.725506 0.936959\n",
       "  w = 0.791725 0.528895 0.568045"
      ]
     },
     "execution_count": 18,
     "metadata": {},
     "output_type": "execute_result"
    }
   ],
   "source": [
    "pindata.v[1]"
   ]
  },
  {
   "cell_type": "code",
   "execution_count": 19,
   "metadata": {},
   "outputs": [
    {
     "data": {
      "text/plain": [
       "(array([-0.2605178 ,  0.39742672,  0.05829744]),\n",
       " array([-0.2605178 ,  0.39742672,  0.05829744]))"
      ]
     },
     "execution_count": 19,
     "metadata": {},
     "output_type": "execute_result"
    }
   ],
   "source": [
    "# check that angular part matches\n",
    "accel[:3], pindata.a_gf[1].angular"
   ]
  },
  {
   "cell_type": "code",
   "execution_count": 20,
   "metadata": {},
   "outputs": [
    {
     "name": "stdout",
     "output_type": "stream",
     "text": [
      "[-9.05989 -1.87551  1.91802]\n",
      "[-0.12915  0.32349 -0.16417]\n",
      "[-0.0428  -0.06305 -0.01692 -0.2789   0.39129  0.05578]\n",
      "[-0.05883 -0.05083 -0.01213 -0.00865  0.00794  0.00396]\n"
     ]
    }
   ],
   "source": [
    "# check that linear part matches\n",
    "with np.printoptions(precision=5, suppress=True, linewidth=400):\n",
    "    print(accel[3:])\n",
    "    print(pindata.a_gf[1].linear)\n",
    "    print(mjdata.qacc_smooth)\n",
    "    print(mjdata.qfrc_smooth)"
   ]
  },
  {
   "cell_type": "code",
   "execution_count": 21,
   "metadata": {},
   "outputs": [
    {
     "name": "stdout",
     "output_type": "stream",
     "text": [
      "[[-9.05989 -0.6024   0.36044  0.84716  0.       0.       0.       0.       0.       0.     ]\n",
      " [-1.87551  0.47704 -0.9495   0.56095  0.       0.       0.       0.       0.       0.     ]\n",
      " [ 1.91802  0.05231  0.03992 -0.90656  0.       0.       0.       0.       0.       0.     ]\n",
      " [ 0.       0.       1.91802  1.87551 -0.26052 -0.05231 -0.30044  0.47704 -0.04294  0.30044]\n",
      " [ 0.      -1.91802  0.      -9.05989  0.44974  0.03992  0.39743 -0.30415 -0.36044 -0.44974]\n",
      " [ 0.      -1.87551  9.05989  0.      -0.41874  0.3471   0.41874 -0.56095  0.84716  0.0583 ]]\n"
     ]
    }
   ],
   "source": [
    "with np.printoptions(precision=5, suppress=True, linewidth=400):\n",
    "    print(regressors.joint_body_regressor(mjmodel, mjdata, 1))"
   ]
  },
  {
   "cell_type": "code",
   "execution_count": null,
   "metadata": {},
   "outputs": [],
   "source": []
  },
  {
   "cell_type": "code",
   "execution_count": 22,
   "metadata": {},
   "outputs": [
    {
     "data": {
      "text/plain": [
       "(False, 16.262269739443305)"
      ]
     },
     "execution_count": 22,
     "metadata": {},
     "output_type": "execute_result"
    }
   ],
   "source": [
    "(\n",
    "    np.allclose(regressors.joint_body_regressor(mjmodel, mjdata, 1), pinY),\n",
    "    np.linalg.norm(regressors.joint_body_regressor(mjmodel, mjdata, 1) - pinY),\n",
    ")"
   ]
  },
  {
   "cell_type": "code",
   "execution_count": 23,
   "metadata": {},
   "outputs": [
    {
     "data": {
      "text/plain": [
       "(array([0.68314008, 0.72550602, 0.93695947]),\n",
       " array([0.79172504, 0.52889492, 0.56804456]),\n",
       " array([-9.05989038, -1.87550827,  1.91802153]),\n",
       " array([-0.2605178 ,  0.39742672,  0.05829744]))"
      ]
     },
     "execution_count": 23,
     "metadata": {},
     "output_type": "execute_result"
    }
   ],
   "source": [
    "velocity = np.zeros(6)\n",
    "accel = np.zeros(6)\n",
    "_cross = np.zeros(3)\n",
    "\n",
    "mujoco.mj_objectVelocity(mjmodel, mjdata, 2, 1, velocity, 1)\n",
    "mujoco.mj_rnePostConstraint(mjmodel, mjdata)\n",
    "mujoco.mj_objectAcceleration(mjmodel, mjdata, 2, 1, accel, 1)\n",
    "\n",
    "v, w = velocity[3:], velocity[:3]\n",
    "# dv - classical acceleration, already contains g\n",
    "dv, dw = accel[3:], accel[:3]\n",
    "mujoco.mju_cross(_cross, w, v)\n",
    "\n",
    "# dv -= _cross\n",
    "\n",
    "v, w, dv, dw"
   ]
  },
  {
   "cell_type": "code",
   "execution_count": 24,
   "metadata": {},
   "outputs": [
    {
     "name": "stdout",
     "output_type": "stream",
     "text": [
      "Joint space forces\n",
      "Pinocchio:   f =  2.77556e-16  6.66134e-16 -8.32667e-17\n",
      "tau = -3.46945e-17 -8.67362e-18  -4.0766e-17\n",
      " [ 2.77555756e-16  6.66133815e-16 -8.32667268e-17 -3.46944695e-17\n",
      " -8.67361738e-18 -4.07660017e-17]\n",
      "rotation [[-0.12191288  0.06488634  0.99041759]\n",
      " [ 0.94387066  0.31621879  0.09546651]\n",
      " [-0.30699418  0.94646471 -0.09979545]]\n",
      "Mujoco: [0. 0. 0. 0. 0. 0.] [0. 0. 0. 0. 0. 0.] [0. 0. 0. 0. 0. 0.]\n"
     ]
    }
   ],
   "source": [
    "print(\"Joint space forces\")\n",
    "print(f\"Pinocchio: {pindata.f[1]} {result}\")\n",
    "\n",
    "rot = mjdata.xmat[1].reshape(3, 3)\n",
    "print(\"rotation\", rot)\n",
    "mujtau = mjdata.qfrc_actuator.copy()\n",
    "\n",
    "mujtau[:3] = rot.T @ mujtau[:3]\n",
    "print(f\"Mujoco: {mjdata.qfrc_actuator} {mujtau} {mjdata.qfrc_inverse}\")"
   ]
  },
  {
   "cell_type": "code",
   "execution_count": null,
   "metadata": {},
   "outputs": [],
   "source": []
  }
 ],
 "metadata": {
  "kernelspec": {
   "display_name": "venv",
   "language": "python",
   "name": "python3"
  },
  "language_info": {
   "codemirror_mode": {
    "name": "ipython",
    "version": 3
   },
   "file_extension": ".py",
   "mimetype": "text/x-python",
   "name": "python",
   "nbconvert_exporter": "python",
   "pygments_lexer": "ipython3",
   "version": "3.10.12"
  }
 },
 "nbformat": 4,
 "nbformat_minor": 2
}
