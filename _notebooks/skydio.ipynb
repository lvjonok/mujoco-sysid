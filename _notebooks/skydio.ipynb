{
 "cells": [
  {
   "cell_type": "code",
   "execution_count": 1,
   "metadata": {},
   "outputs": [],
   "source": [
    "import mujoco\n",
    "import numpy as np\n",
    "import pinocchio as pin\n",
    "from robot_descriptions.skydio_x2_description import URDF_PATH\n",
    "from robot_descriptions.skydio_x2_mj_description import MJCF_PATH\n",
    "\n",
    "from mujoco_sysid import parameters\n",
    "from mujoco_sysid.utils import muj2pin\n",
    "\n",
    "model = mujoco.MjModel.from_xml_path(MJCF_PATH)\n",
    "mjdata = mujoco.MjData(model)\n",
    "\n",
    "for act_id in range(4):\n",
    "    model.actuator(act_id).ctrlrange = np.array([-1e4, 1e4])\n",
    "\n",
    "model.opt.timestep = 1e-3"
   ]
  },
  {
   "cell_type": "code",
   "execution_count": 2,
   "metadata": {},
   "outputs": [
    {
     "name": "stdout",
     "output_type": "stream",
     "text": [
      "[ 1.325    0.       0.       0.0715   0.04051  0.       0.02927 -0.0021\n",
      "  0.       0.06053]\n"
     ]
    }
   ],
   "source": [
    "sparceM = np.zeros((6, 6))\n",
    "\n",
    "mujoco.mj_step(model, mjdata)\n",
    "mujoco.mj_fullM(model, sparceM, mjdata.qM)\n",
    "\n",
    "mSrc = sparceM[3:6, :3]\n",
    "mrc = np.array([mSrc[2, 1], mSrc[0, 2], mSrc[1, 0]])\n",
    "Ib = sparceM[3:6, 3:6]\n",
    "vechIb = np.array([Ib[0, 0], Ib[0, 1], Ib[1, 1], Ib[0, 2], Ib[1, 2], Ib[2, 2]])\n",
    "skydio_parameters = np.array([sparceM[0, 0], *mrc, *vechIb])\n",
    "\n",
    "with np.printoptions(precision=5, suppress=True):\n",
    "    print(skydio_parameters)"
   ]
  },
  {
   "cell_type": "code",
   "execution_count": 3,
   "metadata": {},
   "outputs": [
    {
     "name": "stdout",
     "output_type": "stream",
     "text": [
      "[ 1.325    0.       0.       0.0715   0.04051  0.       0.02927 -0.0021\n",
      "  0.       0.06053]\n"
     ]
    }
   ],
   "source": [
    "with np.printoptions(precision=5, suppress=True):\n",
    "    print(parameters.get_dynamic_parameters(model, 1))"
   ]
  },
  {
   "cell_type": "code",
   "execution_count": 4,
   "metadata": {},
   "outputs": [
    {
     "name": "stdout",
     "output_type": "stream",
     "text": [
      "[ 1.325    0.       0.       0.0715   0.04051  0.       0.02927 -0.0021\n",
      "  0.       0.06053]\n"
     ]
    }
   ],
   "source": [
    "pinmodel = pin.buildModelFromUrdf(URDF_PATH)\n",
    "\n",
    "with np.printoptions(precision=5, suppress=True):\n",
    "    print(pinmodel.inertias[1].toDynamicParameters())"
   ]
  },
  {
   "cell_type": "code",
   "execution_count": 5,
   "metadata": {},
   "outputs": [],
   "source": [
    "def mj_bodyRegressor(mj_model: mujoco.MjModel, mj_data: mujoco.MjData, body_id: int) -> np.ndarray:\n",
    "    \"\"\"\n",
    "    Computes the body regressor matrix for a specific body in a MuJoCo model.\n",
    "\n",
    "    Args:\n",
    "        mj_model (mujoco.MjModel): MuJoCo model.\n",
    "        mj_data (mujoco.MjData): MuJoCo data.\n",
    "        body_id (int): ID of the body for which to compute the regressor matrix.\n",
    "\n",
    "    Returns:\n",
    "        np.ndarray: Body regressor matrix of shape (6, 10).\n",
    "    \"\"\"\n",
    "    velocity = np.zeros(6)\n",
    "    accel = np.zeros(6)\n",
    "    _cross = np.zeros(3)\n",
    "\n",
    "    mujoco.mj_objectVelocity(mj_model, mj_data, 2, body_id, velocity, 1)\n",
    "    mujoco.mj_rnePostConstraint(mj_model, mj_data)\n",
    "    mujoco.mj_objectAcceleration(mj_model, mj_data, 2, body_id, accel, 1)\n",
    "\n",
    "    v, w = velocity[3:], velocity[:3]\n",
    "    dv, dw = accel[3:], accel[:3]  # dv - classical acceleration, already contains g\n",
    "    mujoco.mju_cross(_cross, w, v)\n",
    "    # dv -= _cross\n",
    "    print(f\"regressor dv: {dv} dw: {dw}\")\n",
    "\n",
    "    v1, v2, v3 = v\n",
    "    v4, v5, v6 = w\n",
    "\n",
    "    a1, a2, a3 = dv\n",
    "    a4, a5, a6 = dw\n",
    "\n",
    "    # fmt: off\n",
    "    Y = np.array(\n",
    "        [\n",
    "            [a1 - v2 * v6 + v3 * v5, -(v5**2) - v6**2, -a6 + v4 * v5, a5 + v4 * v6, 0, 0, 0, 0, 0, 0],\n",
    "            [a2 + v1 * v6 - v3 * v4, a6 + v4 * v5, -(v4**2) - v6**2, -a4 + v5 * v6, 0, 0, 0, 0, 0, 0],\n",
    "            [a3 - v1 * v5 + v2 * v4, -a5 + v4 * v6, a4 + v5 * v6, -(v4**2) - v5**2, 0, 0, 0, 0, 0, 0],\n",
    "            [0, 0, a3 - v1 * v5 + v2 * v4, -a2 - v1 * v6 + v3 * v4, a4, a5 - v4 * v6, -v5 * v6, a6 + v4 * v5, v5**2 - v6**2, v5 * v6],\n",
    "            [0, -a3 + v1 * v5 - v2 * v4, 0, a1 - v2 * v6 + v3 * v5, v4 * v6, a4 + v5 * v6, a5, -(v4**2) + v6**2, a6 - v4 * v5, -v4 * v6],\n",
    "            [0, a2 + v1 * v6 - v3 * v4, -a1 + v2 * v6 - v3 * v5, 0, -v4 * v5, v4**2 - v5**2, v4 * v5, a4 - v5 * v6, a5 + v4 * v6, a6],\n",
    "        ]\n",
    "    )\n",
    "    # fmt: on\n",
    "\n",
    "    return Y"
   ]
  },
  {
   "cell_type": "code",
   "execution_count": 6,
   "metadata": {},
   "outputs": [],
   "source": [
    "import json\n",
    "\n",
    "with open(\"../data/ltv_lqr_traj.json\") as f:\n",
    "    data = json.load(f)"
   ]
  },
  {
   "cell_type": "code",
   "execution_count": 7,
   "metadata": {},
   "outputs": [],
   "source": [
    "np.random.seed(0)\n",
    "\n",
    "# traj_idx = 2\n",
    "\n",
    "# q = data[\"q\"][traj_idx]\n",
    "# v = data[\"v\"][traj_idx]\n",
    "# a = data[\"dv\"][traj_idx]\n",
    "# ctrl = data[\"u\"][traj_idx]\n",
    "\n",
    "q = np.random.randn(model.nq)\n",
    "q[3:7] = q[3:7] / np.linalg.norm(q[3:7])\n",
    "v = np.random.randn(model.nv)\n",
    "a = np.random.randn(model.nv)\n",
    "ctrl = np.random.randn(model.nu)\n",
    "\n",
    "mjdata = mujoco.MjData(model)\n",
    "mjdata.qpos[:] = q\n",
    "mjdata.qvel[:] = v\n",
    "mjdata.qacc[:] = a\n",
    "# mjdata.ctrl[:] = ctrl\n",
    "\n",
    "# mujoco.mj_step(model, mjdata)\n",
    "# mujoco.mj_forward(model, mjdata)\n",
    "mujoco.mj_inverse(model, mjdata)"
   ]
  },
  {
   "cell_type": "code",
   "execution_count": 8,
   "metadata": {},
   "outputs": [
    {
     "name": "stdout",
     "output_type": "stream",
     "text": [
      "regressor dv: [7.86184879 6.34771817 1.00187616] dw: [ 1.49407907 -0.20515826  0.3130677 ]\n",
      "[[ 7.84074 -2.69409 -0.10359 -0.09554  0.       0.       0.       0.       0.       0.     ]\n",
      " [ 6.48332  0.52255 -0.59993 -0.38732  0.       0.       0.       0.       0.       0.     ]\n",
      " [ 0.74675  0.31478  2.60084 -2.13566  0.       0.       0.       0.       0.       0.     ]\n",
      " [ 0.       0.       0.74675 -6.48332  1.49408 -0.31478 -1.10676  0.52255  1.53573  1.10676]\n",
      " [ 0.      -0.74675  0.       7.84074  0.10962  2.60084 -0.20516  0.55843  0.10359 -0.10962]\n",
      " [ 0.       6.48332 -7.84074  0.      -0.20948 -2.09416  0.20948  0.38732 -0.09554  0.31307]]\n"
     ]
    }
   ],
   "source": [
    "regressor = mj_bodyRegressor(model, mjdata, 1)\n",
    "\n",
    "with np.printoptions(precision=5, suppress=True, linewidth=400):\n",
    "    print(regressor)"
   ]
  },
  {
   "cell_type": "code",
   "execution_count": 9,
   "metadata": {},
   "outputs": [
    {
     "name": "stdout",
     "output_type": "stream",
     "text": [
      "[[ 7.86185 -2.69409 -0.10359 -0.09554  0.       0.       0.       0.       0.       0.     ]\n",
      " [ 6.34772  0.52255 -0.59993 -0.38732  0.       0.       0.       0.       0.       0.     ]\n",
      " [ 1.00188  0.31478  2.60084 -2.13566  0.       0.       0.       0.       0.       0.     ]\n",
      " [ 0.       0.       1.00188 -6.34772  1.49408 -0.31478 -1.10676  0.52255  1.53573  1.10676]\n",
      " [ 0.      -1.00188  0.       7.86185  0.10962  2.60084 -0.20516  0.55843  0.10359 -0.10962]\n",
      " [ 0.       6.34772 -7.86185  0.      -0.20948 -2.09416  0.20948  0.38732 -0.09554  0.31307]]\n"
     ]
    }
   ],
   "source": [
    "from mujoco_sysid.regressors import joint_body_regressor\n",
    "\n",
    "with np.printoptions(precision=5, suppress=True, linewidth=400):\n",
    "    print(joint_body_regressor(model, mjdata, 1))"
   ]
  },
  {
   "cell_type": "code",
   "execution_count": 10,
   "metadata": {},
   "outputs": [
    {
     "name": "stdout",
     "output_type": "stream",
     "text": [
      "[0. 0. 0. 0. 0. 0.]\n"
     ]
    }
   ],
   "source": [
    "force = mjdata.qfrc_actuator.copy()\n",
    "force[:3] = mjdata.xmat[1].reshape(3, 3).T @ force[:3]\n",
    "\n",
    "with np.printoptions(precision=5, suppress=True):\n",
    "    print(force)"
   ]
  },
  {
   "cell_type": "code",
   "execution_count": 11,
   "metadata": {},
   "outputs": [
    {
     "name": "stdout",
     "output_type": "stream",
     "text": [
      "[10.38215  8.56271  0.83674 -0.36953  0.55124  0.01578]\n"
     ]
    }
   ],
   "source": [
    "with np.printoptions(precision=5, suppress=True):\n",
    "    print(regressor @ skydio_parameters)"
   ]
  },
  {
   "cell_type": "code",
   "execution_count": 12,
   "metadata": {},
   "outputs": [
    {
     "data": {
      "text/plain": [
       "0.0"
      ]
     },
     "execution_count": 12,
     "metadata": {},
     "output_type": "execute_result"
    }
   ],
   "source": [
    "np.linalg.norm(force)"
   ]
  },
  {
   "cell_type": "markdown",
   "metadata": {},
   "source": [
    "### Set same values for pinocchio and compare"
   ]
  },
  {
   "cell_type": "code",
   "execution_count": 13,
   "metadata": {},
   "outputs": [
    {
     "data": {
      "text/plain": [
       "(array([ 1.76405235,  0.40015721,  0.97873798,  0.58002289, -0.30352125,\n",
       "         0.2950768 ,  0.69597269]),\n",
       " array([0.21085653, 0.35761936, 0.17263309, 0.14404357, 1.45427351,\n",
       "        0.76103773]),\n",
       " array([ 0.35928247,  0.18472281, -0.3999394 ,  1.49407907, -0.20515826,\n",
       "         0.3130677 ]))"
      ]
     },
     "execution_count": 13,
     "metadata": {},
     "output_type": "execute_result"
    }
   ],
   "source": [
    "pinq, pinv = muj2pin(mjdata.qpos, mjdata.qvel)\n",
    "\n",
    "_, pindv = muj2pin(mjdata.qpos, mjdata.qacc)\n",
    "\n",
    "pinq, pinv, pindv"
   ]
  },
  {
   "cell_type": "code",
   "execution_count": 14,
   "metadata": {},
   "outputs": [
    {
     "name": "stdout",
     "output_type": "stream",
     "text": [
      "[[ 7.84074 -2.69409 -0.10359 -0.09554  0.       0.       0.       0.       0.       0.     ]\n",
      " [ 6.48332  0.52255 -0.59993 -0.38732  0.       0.       0.       0.       0.       0.     ]\n",
      " [ 0.74675  0.31478  2.60084 -2.13566  0.       0.       0.       0.       0.       0.     ]\n",
      " [ 0.       0.       0.74675 -6.48332  1.49408 -0.31478 -1.10676  0.52255  1.53573  1.10676]\n",
      " [ 0.      -0.74675  0.       7.84074  0.10962  2.60084 -0.20516  0.55843  0.10359 -0.10962]\n",
      " [ 0.       6.48332 -7.84074  0.      -0.20948 -2.09416  0.20948  0.38732 -0.09554  0.31307]]\n"
     ]
    }
   ],
   "source": [
    "pindata = pin.Data(pinmodel)\n",
    "tau = pin.rnea(pinmodel, pindata, pinq, pinv, pindv)\n",
    "\n",
    "with np.printoptions(precision=5, suppress=True, linewidth=400):\n",
    "    print(pin.jointBodyRegressor(pinmodel, pindata, 1))"
   ]
  },
  {
   "cell_type": "code",
   "execution_count": 15,
   "metadata": {},
   "outputs": [
    {
     "data": {
      "text/plain": [
       "(  v = 7.86185 6.34772 1.00188\n",
       "   w =   1.49408 -0.205158  0.313068,\n",
       "   v = 0.210857 0.357619 0.172633\n",
       "   w = 0.144044  1.45427 0.761038)"
      ]
     },
     "execution_count": 15,
     "metadata": {},
     "output_type": "execute_result"
    }
   ],
   "source": [
    "pindata.a_gf[1], pindata.v[1]"
   ]
  },
  {
   "cell_type": "code",
   "execution_count": 16,
   "metadata": {},
   "outputs": [
    {
     "name": "stdout",
     "output_type": "stream",
     "text": [
      "regressor dv: [7.86184879 6.34771817 1.00187616] dw: [ 1.49407907 -0.20515826  0.3130677 ]\n",
      "[[ 7.84074 -2.69409 -0.10359 -0.09554  0.       0.       0.       0.       0.       0.     ]\n",
      " [ 6.48332  0.52255 -0.59993 -0.38732  0.       0.       0.       0.       0.       0.     ]\n",
      " [ 0.74675  0.31478  2.60084 -2.13566  0.       0.       0.       0.       0.       0.     ]\n",
      " [ 0.       0.       0.74675 -6.48332  1.49408 -0.31478 -1.10676  0.52255  1.53573  1.10676]\n",
      " [ 0.      -0.74675  0.       7.84074  0.10962  2.60084 -0.20516  0.55843  0.10359 -0.10962]\n",
      " [ 0.       6.48332 -7.84074  0.      -0.20948 -2.09416  0.20948  0.38732 -0.09554  0.31307]]\n"
     ]
    }
   ],
   "source": [
    "regressor = mj_bodyRegressor(model, mjdata, 1)\n",
    "\n",
    "with np.printoptions(precision=5, suppress=True, linewidth=400):\n",
    "    print(regressor)"
   ]
  },
  {
   "cell_type": "code",
   "execution_count": 17,
   "metadata": {},
   "outputs": [
    {
     "name": "stdout",
     "output_type": "stream",
     "text": [
      "regressor [10.38215  8.56271  0.83674 -0.36953  0.55124  0.01578]\n",
      "rnea [10.38215  8.56271  0.83674 -0.36953  0.55124  0.01578]\n"
     ]
    }
   ],
   "source": [
    "with np.printoptions(precision=5, suppress=True, linewidth=400):\n",
    "    print(\"regressor\", pin.jointBodyRegressor(pinmodel, pindata, 1) @ pinmodel.inertias[1].toDynamicParameters())\n",
    "    print(\"rnea\", tau)"
   ]
  },
  {
   "cell_type": "code",
   "execution_count": 18,
   "metadata": {},
   "outputs": [
    {
     "data": {
      "text/plain": [
       "13.499994938181835"
      ]
     },
     "execution_count": 18,
     "metadata": {},
     "output_type": "execute_result"
    }
   ],
   "source": [
    "np.linalg.norm(tau)"
   ]
  }
 ],
 "metadata": {
  "kernelspec": {
   "display_name": "venv",
   "language": "python",
   "name": "python3"
  },
  "language_info": {
   "codemirror_mode": {
    "name": "ipython",
    "version": 3
   },
   "file_extension": ".py",
   "mimetype": "text/x-python",
   "name": "python",
   "nbconvert_exporter": "python",
   "pygments_lexer": "ipython3",
   "version": "3.10.12"
  }
 },
 "nbformat": 4,
 "nbformat_minor": 2
}
