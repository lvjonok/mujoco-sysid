{
 "cells": [
  {
   "cell_type": "code",
   "execution_count": 1,
   "metadata": {},
   "outputs": [],
   "source": [
    "import numpy as np\n",
    "import pinocchio as pin"
   ]
  },
  {
   "cell_type": "code",
   "execution_count": 2,
   "metadata": {},
   "outputs": [],
   "source": [
    "%%capture\n",
    "!pip3 install robot_descriptions\n",
    "from robot_descriptions import z1_mj_description, z1_description, skydio_x2_mj_description, skydio_x2_description"
   ]
  },
  {
   "cell_type": "code",
   "execution_count": 3,
   "metadata": {},
   "outputs": [],
   "source": [
    "ROBOT_URDF = skydio_x2_description.URDF_PATH\n",
    "ROBOT_URDF = z1_description.URDF_PATH"
   ]
  },
  {
   "cell_type": "code",
   "execution_count": 4,
   "metadata": {},
   "outputs": [],
   "source": [
    "model = pin.buildModelFromUrdf(ROBOT_URDF)\n",
    "data = model.createData()\n"
   ]
  },
  {
   "cell_type": "code",
   "execution_count": 5,
   "metadata": {},
   "outputs": [],
   "source": [
    "q = np.random.randn(model.nq)\n",
    "if model.nq != model.nv:\n",
    "    q[3:7]/=np.linalg.norm(q[3:7])\n",
    "dq = np.random.randn(model.nv)\n",
    "ddq  = np.random.randn(model.nv)\n",
    "data.q = q.copy()\n",
    "data.dq = dq.copy()\n",
    "data.ddq = ddq.copy()\n"
   ]
  },
  {
   "cell_type": "markdown",
   "metadata": {},
   "source": [
    "### Custom Regressor"
   ]
  },
  {
   "cell_type": "code",
   "execution_count": 6,
   "metadata": {},
   "outputs": [],
   "source": [
    "from time import perf_counter"
   ]
  },
  {
   "cell_type": "code",
   "execution_count": 17,
   "metadata": {},
   "outputs": [
    {
     "name": "stdout",
     "output_type": "stream",
     "text": [
      "0.1952880047610961\n"
     ]
    }
   ],
   "source": [
    "pin.computeAllTerms(model, data, q, dq)\n",
    "pin.forwardKinematics(model, data, q, dq, ddq)\n",
    "\n",
    "def Y_body(v, a_g):\n",
    "    a1, a2, a3, a4, a5, a6 = a_g\n",
    "    v1, v2, v3, v4, v5, v6 = v\n",
    "\n",
    "    Y = np.array([\n",
    "    [a1 - v2*v6 + v3*v5, -v5**2 - v6**2, -a6 + v4*v5, a5 + v4*v6, 0, 0, 0, 0, 0, 0],\n",
    "    [a2 + v1*v6 - v3*v4, a6 + v4*v5, -v4**2 - v6**2, -a4 + v5*v6, 0, 0, 0, 0, 0, 0],\n",
    "    [a3 - v1*v5 + v2*v4, -a5 + v4*v6, a4 + v5*v6, -v4**2 - v5**2, 0, 0, 0, 0, 0, 0],\n",
    "    [0, 0, a3 - v1*v5 + v2*v4, -a2 - v1*v6 + v3*v4, a4, a5 - v4*v6, -v5*v6, a6 + v4*v5, v5**2 - v6**2, v5*v6],\n",
    "    [0, -a3 + v1*v5 - v2*v4, 0, a1 - v2*v6 + v3*v5, v4*v6, a4 + v5*v6, a5, -v4**2 + v6**2, a6 - v4*v5, -v4*v6],\n",
    "    [0, a2 + v1*v6 - v3*v4, -a1 + v2*v6 - v3*v5, 0, -v4*v5, v4**2 - v5**2, v4*v5, a4 - v5*v6, a5 + v4*v6, a6]\n",
    "])\n",
    "\n",
    "    return Y\n",
    "\n",
    "def bodyRegressor(ind):\n",
    "    \"\"\"Body regressor\n",
    "    Derivation of body regressor is accordingly to the paper: https://arxiv.org/pdf/1610.08703.pdf\n",
    "    link: https://colab.research.google.com/drive/1xFte2FT0nQ0ePs02BoOx4CmLLw5U-OUZ#scrollTo=FfkIBpi1wLXz\n",
    "    \"\"\"\n",
    "    vel = pin.getVelocity(model,\n",
    "                    data,\n",
    "                    ind,\n",
    "                    pin.LOCAL) \n",
    "    \n",
    "    accel = pin.getAcceleration(model,\n",
    "                    data,\n",
    "                    ind,\n",
    "                    pin.LOCAL)  \n",
    "    \n",
    "    rotation = data.oMi[ind].rotation\n",
    "\n",
    "    v = np.array(vel)\n",
    "    a = np.array(accel)\n",
    "    a_g = a \n",
    "    a_g[:3] +=  rotation.T @ np.array([0,0,9.81])\n",
    "\n",
    "\n",
    "\n",
    "\n",
    "    return Y_body(v, a_g)\n",
    "\n",
    "njoints = model.njoints - 1\n",
    "force_Y = np.zeros((6*njoints, njoints*10))\n",
    "col_jac = np.zeros((6*njoints, model.nv))\n",
    "\n",
    "t1 = perf_counter()\n",
    "for i in range(njoints):\n",
    "    \n",
    "    jacobian = pin.getJointJacobian(model, \n",
    "                                    data, \n",
    "                                    i+1, \n",
    "                                    pin.LOCAL)\n",
    "    col_jac[6*i:6*(i+1),:] = jacobian  \n",
    "    force_Y[6*i:6*(i+1),10*i:10*(i+1)] = bodyRegressor(i+1) #regressor_body(i+1)\n",
    "    \n",
    "Ycustom = col_jac.T @force_Y\n",
    "t2 = perf_counter()\n",
    "print(1000*(t2-t1))"
   ]
  },
  {
   "cell_type": "code",
   "execution_count": 8,
   "metadata": {},
   "outputs": [],
   "source": [
    "Ypin = pin.computeJointTorqueRegressor(model,  data, q, dq, ddq)\n",
    "# Ypin"
   ]
  },
  {
   "cell_type": "code",
   "execution_count": 9,
   "metadata": {},
   "outputs": [
    {
     "data": {
      "text/plain": [
       "True"
      ]
     },
     "execution_count": 9,
     "metadata": {},
     "output_type": "execute_result"
    }
   ],
   "source": [
    "np.allclose(Ycustom,Ypin)"
   ]
  }
 ],
 "metadata": {
  "kernelspec": {
   "display_name": "venv",
   "language": "python",
   "name": "python3"
  },
  "language_info": {
   "codemirror_mode": {
    "name": "ipython",
    "version": 3
   },
   "file_extension": ".py",
   "mimetype": "text/x-python",
   "name": "python",
   "nbconvert_exporter": "python",
   "pygments_lexer": "ipython3",
   "version": "3.11.8"
  },
  "orig_nbformat": 4
 },
 "nbformat": 4,
 "nbformat_minor": 2
}
