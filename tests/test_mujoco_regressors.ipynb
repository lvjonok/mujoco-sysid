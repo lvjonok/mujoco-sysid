{
 "cells": [
  {
   "cell_type": "code",
   "execution_count": 1,
   "metadata": {},
   "outputs": [],
   "source": [
    "import numpy as np\n",
    "import pinocchio as pin"
   ]
  },
  {
   "cell_type": "code",
   "execution_count": 2,
   "metadata": {},
   "outputs": [],
   "source": [
    "%%capture\n",
    "!pip3 install robot_descriptions\n",
    "from robot_descriptions import (\n",
    "    z1_mj_description,\n",
    "    z1_description,\n",
    "    skydio_x2_mj_description,\n",
    "    skydio_x2_description,\n",
    "    panda_description,\n",
    "    panda_mj_description\n",
    ")"
   ]
  },
  {
   "cell_type": "code",
   "execution_count": 3,
   "metadata": {},
   "outputs": [],
   "source": [
    "ROBOT_URDF = skydio_x2_description.URDF_PATH\n",
    "ROBOT_XML = skydio_x2_mj_description.MJCF_PATH\n",
    "\n",
    "ROBOT_URDF = z1_description.URDF_PATH\n",
    "ROBOT_XML = z1_mj_description.MJCF_PATH\n",
    "\n",
    "# ROBOT_URDF = panda_description.URDF_PATH\n",
    "# ROBOT_XML = panda_mj_description.MJCF_PATH"
   ]
  },
  {
   "cell_type": "code",
   "execution_count": 4,
   "metadata": {},
   "outputs": [],
   "source": [
    "pin_model = pin.buildModelFromUrdf(ROBOT_URDF)\n",
    "pin_data = pin_model.createData()"
   ]
  },
  {
   "cell_type": "code",
   "execution_count": 5,
   "metadata": {},
   "outputs": [],
   "source": [
    "q = np.random.randn(pin_model.nq)\n",
    "dq = np.random.randn(pin_model.nv)\n",
    "ddq = np.random.randn(pin_model.nv)\n",
    "# q[:3] = np.zeros(3)\n",
    "# dq[:3] = np.zeros(3)\n",
    "# ddq[:3] = np.zeros(3)\n",
    "\n",
    "if pin_model.nq != pin_model.nv:\n",
    "    q[3:7] /= np.linalg.norm(q[3:7])\n",
    "    \n",
    "pin_data.q = q.copy()\n",
    "pin_data.dq = dq.copy()\n",
    "pin_data.ddq = ddq.copy()"
   ]
  },
  {
   "cell_type": "markdown",
   "metadata": {},
   "source": [
    "### Regressor in Mujoco"
   ]
  },
  {
   "cell_type": "code",
   "execution_count": 6,
   "metadata": {},
   "outputs": [],
   "source": [
    "import mujoco"
   ]
  },
  {
   "cell_type": "code",
   "execution_count": 7,
   "metadata": {},
   "outputs": [],
   "source": [
    "0# Load model, make data\n",
    "mj_model = mujoco.MjModel.from_xml_path(ROBOT_XML)\n",
    "mj_data = mujoco.MjData(mj_model)\n",
    "mj_model.opt.enableflags |= mujoco.mjtEnableBit.mjENBL_ENERGY\n",
    "body_offset = np.where(mj_model.body_dofadr == 0)[0][0]\n",
    "# model.energy.setflags(enable=True)\n",
    "\n",
    "# Set the state to the \"squat\" keyframe, call mj_forward.\n",
    "# key = model.key('hover').id\n",
    "# mujoco.mj_resetDataKeyframe(model, data, key)\n",
    "\n",
    "q_muj = q.copy()\n",
    "dq_muj = dq.copy()\n",
    "ddq_muj = ddq.copy()\n",
    "\n",
    "if mj_model.nq != mj_model.nv:\n",
    "    q_muj[[3, 4, 5, 6]] = q[[6, 3, 4, 5]]\n",
    "    mj_data.qpos = q_muj\n",
    "    mujoco.mj_kinematics(mj_model, mj_data)\n",
    "    rotation = mj_data.xmat[1].reshape(3, 3).copy()\n",
    "    dq_muj[:3] = rotation@dq_muj[:3]\n",
    "    ddq_muj[:3] = rotation@ddq_muj[:3]# + np.cross(dq_muj[:3], dq_muj[3:]))\n",
    "\n",
    "mj_data.qpos = q_muj\n",
    "mj_data.qvel = dq_muj\n",
    "mj_data.qacc = ddq_muj "
   ]
  },
  {
   "cell_type": "code",
   "execution_count": 8,
   "metadata": {},
   "outputs": [],
   "source": [
    "mujoco.mj_inverse(mj_model, mj_data)"
   ]
  },
  {
   "cell_type": "code",
   "execution_count": 9,
   "metadata": {},
   "outputs": [],
   "source": [
    "def Y_body(v_lin, v_ang, a_lin, a_ang):\n",
    "    # this is identical to the pinnochio: pin.bodyRegressor(*[v_lin, v_ang], *[a_lin, a_ang])\n",
    "    v1, v2, v3 = v_lin\n",
    "    v4, v5, v6 = v_ang\n",
    "\n",
    "    a1, a2, a3 = a_lin\n",
    "    a4, a5, a6 = a_ang\n",
    "\n",
    "    # fmt: off\n",
    "    Y = np.array([\n",
    "        [a1 - v2*v6 + v3*v5, -v5**2 - v6**2, -a6 + v4*v5, a5 + v4*v6, 0, 0, 0, 0, 0, 0],\n",
    "        [a2 + v1*v6 - v3*v4, a6 + v4*v5, -v4**2 - v6**2, -a4 + v5*v6, 0, 0, 0, 0, 0, 0],\n",
    "        [a3 - v1*v5 + v2*v4, -a5 + v4*v6, a4 + v5*v6, -v4**2 - v5**2, 0, 0, 0, 0, 0, 0],\n",
    "        [0, 0, a3 - v1*v5 + v2*v4, -a2 - v1*v6 + v3*v4, a4, a5 - v4*v6, -v5*v6, a6 + v4*v5, v5**2 - v6**2, v5*v6],\n",
    "        [0, -a3 + v1*v5 - v2*v4, 0, a1 - v2*v6 + v3*v5, v4*v6, a4 + v5*v6, a5, -v4**2 + v6**2, a6 - v4*v5, -v4*v6],\n",
    "        [0, a2 + v1*v6 - v3*v4, -a1 + v2*v6 - v3*v5, 0, -v4*v5, v4**2 - v5**2, v4*v5, a4 - v5*v6, a5 + v4*v6, a6]\n",
    "    ])\n",
    "    # fmt: on\n",
    "\n",
    "    return Y\n",
    "\n",
    "\n",
    "def mj_bodyRegressor(mj_model, mj_data, body_id):\n",
    "    # TODO:\n",
    "    # Clarify more about transformations:\n",
    "    # not working properly with floating joint\n",
    "    # https://mujoco.readthedocs.io/en/stable/programming/simulation.html#coordinate-frames-and-transformations\n",
    "    # https://royfeatherstone.org/teaching/index.html\n",
    "    # https://royfeatherstone.org/teaching/2008/slides.pdf\n",
    "\n",
    "    velocity = np.zeros(6)\n",
    "    accel = np.zeros(6)\n",
    "    _cross = np.zeros(3)\n",
    "\n",
    "    mujoco.mj_objectVelocity(mj_model, mj_data, 2, body_id, velocity, 1)\n",
    "    mujoco.mj_rnePostConstraint(mj_model, mj_data)\n",
    "    mujoco.mj_objectAcceleration(mj_model, mj_data, 2, body_id, accel, 1)\n",
    "    # rotation = mj_data.xmat[body_id].reshape(3, 3).copy()\n",
    "\n",
    "    v, w = velocity[3:], velocity[:3]\n",
    "    dv, dw = accel[3:], accel[:3]  # dv - classical acceleration, already containt g\n",
    "    mujoco.mju_cross(_cross, w, v)\n",
    "    \n",
    "    # in floating body, should be canceled?\n",
    "    dv -= _cross\n",
    "    # print(v, w)\n",
    "    # print(dv, dw)\n",
    "    \n",
    "    Y = Y_body(v, w, dv, dw)\n",
    "    return Y\n",
    "\n",
    "\n",
    "def mj_jointRegressor(mj_model, mj_data, body_offset = 0):\n",
    "    # TODO:\n",
    "    # Investigate spatial tranfromation mju_transformSpatial t\n",
    "    # not working properly with floating joint\n",
    "    \n",
    "    njoints = mj_model.njnt\n",
    "    body_regressors = np.zeros((6 * njoints, njoints * 10))\n",
    "    col_jac = np.zeros((6 * njoints, mj_model.nv))\n",
    "    jac_lin = np.zeros((3, mj_model.nv))\n",
    "    jac_rot = np.zeros((3, mj_model.nv))\n",
    "\n",
    "    for i in range(njoints):\n",
    "        # calculate cody regressors\n",
    "        body_regressors[6 * i : 6 * (i + 1), 10 * i : 10 * (i + 1)] = mj_bodyRegressor(\n",
    "            mj_model, mj_data, i + body_offset\n",
    "        )  \n",
    "        \n",
    "        mujoco.mj_jacBody(mj_model, mj_data, jac_lin, jac_rot, i + body_offset)\n",
    "\n",
    "\n",
    "        # Calculate jacobians\n",
    "        rotation = mj_data.xmat[i + body_offset].reshape(3, 3).copy()\n",
    "        col_jac[6 * i : 6 * i + 3, :] = rotation.T @ jac_lin.copy()\n",
    "        col_jac[6 * i + 3 : 6 * i + 6, :] = rotation.T @ jac_rot.copy()\n",
    "\n",
    "    joint_regressor = col_jac.T @ body_regressors\n",
    "    return joint_regressor\n"
   ]
  },
  {
   "cell_type": "markdown",
   "metadata": {},
   "source": [
    "### Compare Joint regressors"
   ]
  },
  {
   "cell_type": "code",
   "execution_count": 10,
   "metadata": {},
   "outputs": [],
   "source": [
    "joint_regressor_muj = mj_jointRegressor(mj_model, mj_data, body_offset=body_offset)"
   ]
  },
  {
   "cell_type": "code",
   "execution_count": 11,
   "metadata": {},
   "outputs": [],
   "source": [
    "pin.computeAllTerms(pin_model, pin_data, q, dq)\n",
    "pin.forwardKinematics(pin_model, pin_data, q, dq, ddq)\n",
    "joint_regressor_pin = pin.computeJointTorqueRegressor(pin_model, pin_data, q, dq, ddq)"
   ]
  },
  {
   "cell_type": "code",
   "execution_count": 12,
   "metadata": {},
   "outputs": [
    {
     "data": {
      "text/plain": [
       "array([[ 0.00000000e+00,  0.00000000e+00,  0.00000000e+00,\n",
       "         0.00000000e+00,  0.00000000e+00,  0.00000000e+00,\n",
       "         0.00000000e+00,  0.00000000e+00,  0.00000000e+00,\n",
       "        -5.21671700e-01,  0.00000000e+00, -5.25172798e-18,\n",
       "        -6.65914944e-16, -4.92938390e-18, -2.23830248e+00,\n",
       "         2.23452948e+00, -1.55751492e-16,  7.73404117e-01,\n",
       "         3.27713934e+00,  1.71663078e+00,  2.10287271e-01,\n",
       "        -1.16679047e+00,  7.82085319e-01,  5.36948504e-01,\n",
       "        -2.08298129e+00,  3.61544720e+00, -1.75035649e-17,\n",
       "         2.23457320e+00,  2.44871668e+00,  1.56130959e+00,\n",
       "         2.61982777e-02, -6.17889208e-01, -1.45659022e-01,\n",
       "        -4.59719050e-02, -2.08224122e-01,  4.40293675e-01,\n",
       "        -1.06641307e-16,  1.35911099e+00, -3.19629471e-01,\n",
       "        -3.13447578e-01, -1.85898601e-02, -5.16147797e-01,\n",
       "        -4.46538439e-01, -1.41109674e-01, -3.36886073e-01,\n",
       "         1.24820639e-01,  1.28661951e-01,  1.38250401e+00,\n",
       "         2.77113970e-01, -2.99788910e-01, -4.43985684e-02,\n",
       "        -5.32986690e-01, -2.84370482e-01, -2.17397966e-01,\n",
       "         5.83910397e-01, -1.79084315e+00, -3.29162022e-01,\n",
       "         1.81024591e+00, -4.11781976e+00,  1.58035063e-01],\n",
       "       [ 0.00000000e+00,  0.00000000e+00,  0.00000000e+00,\n",
       "         0.00000000e+00,  0.00000000e+00,  0.00000000e+00,\n",
       "         0.00000000e+00,  0.00000000e+00,  0.00000000e+00,\n",
       "         0.00000000e+00,  0.00000000e+00,  7.15275674e+00,\n",
       "        -1.32832290e-16,  6.71373004e+00, -5.14440110e-01,\n",
       "        -3.57019670e-01, -8.60199061e-01,  6.52161075e-02,\n",
       "         3.80366032e-01,  5.14440110e-01, -2.54582033e+00,\n",
       "         8.20139268e+00, -1.24956885e-01,  5.16327310e+00,\n",
       "        -4.69037824e-01, -2.82188293e-01, -1.03828266e-01,\n",
       "         4.27623346e-01,  4.38760903e-01,  4.69037824e-01,\n",
       "        -4.53428831e-01,  1.02531819e+01, -8.84492082e-02,\n",
       "         1.57607518e+00, -1.59916130e-01, -8.19366409e-02,\n",
       "         3.84817247e-01,  9.80079065e-01,  5.15196807e-01,\n",
       "         1.59916130e-01,  2.66963098e-01,  9.21356416e+00,\n",
       "         4.54575917e+00,  1.50746965e+00, -1.12074824e-01,\n",
       "        -4.08963945e-01,  3.36975941e-01,  9.53412573e-01,\n",
       "         1.05915069e+00,  1.85523776e-01,  7.21535238e-01,\n",
       "         9.26497813e+00,  4.57218871e+00,  2.49489532e+00,\n",
       "         2.07828693e+00, -9.66434942e-01,  2.24179244e+00,\n",
       "        -6.91861362e-01, -5.65369325e-03, -1.71929273e+00],\n",
       "       [ 0.00000000e+00,  0.00000000e+00,  0.00000000e+00,\n",
       "         0.00000000e+00,  0.00000000e+00,  0.00000000e+00,\n",
       "         0.00000000e+00,  0.00000000e+00,  0.00000000e+00,\n",
       "         0.00000000e+00,  0.00000000e+00,  0.00000000e+00,\n",
       "         0.00000000e+00,  0.00000000e+00,  0.00000000e+00,\n",
       "         0.00000000e+00,  0.00000000e+00,  0.00000000e+00,\n",
       "         0.00000000e+00,  0.00000000e+00,  0.00000000e+00,\n",
       "         8.65020244e+00,  9.98261296e-16,  6.80604260e+00,\n",
       "        -4.69037824e-01, -2.82188293e-01, -1.03828266e-01,\n",
       "         4.27623346e-01,  4.38760903e-01,  4.69037824e-01,\n",
       "         2.28386989e+00,  1.06840931e+01,  3.65076763e-02,\n",
       "         1.65066102e+00, -1.59916130e-01, -8.19366409e-02,\n",
       "         3.84817247e-01,  9.80079065e-01,  5.15196807e-01,\n",
       "         1.59916130e-01,  3.03442560e+00,  9.64229176e+00,\n",
       "         4.83739527e+00,  1.58205549e+00, -1.12074824e-01,\n",
       "        -4.08963945e-01,  3.36975941e-01,  9.53412573e-01,\n",
       "         1.05915069e+00,  1.85523776e-01,  3.51009113e+00,\n",
       "         9.69370573e+00,  4.92002279e+00,  2.30297269e+00,\n",
       "         2.07828693e+00, -9.66434942e-01,  2.24179244e+00,\n",
       "        -6.91861362e-01, -5.65369325e-03, -1.71929273e+00],\n",
       "       [ 0.00000000e+00,  0.00000000e+00,  0.00000000e+00,\n",
       "         0.00000000e+00,  0.00000000e+00,  0.00000000e+00,\n",
       "         0.00000000e+00,  0.00000000e+00,  0.00000000e+00,\n",
       "         0.00000000e+00,  0.00000000e+00,  0.00000000e+00,\n",
       "         0.00000000e+00,  0.00000000e+00,  0.00000000e+00,\n",
       "         0.00000000e+00,  0.00000000e+00,  0.00000000e+00,\n",
       "         0.00000000e+00,  0.00000000e+00,  0.00000000e+00,\n",
       "         0.00000000e+00,  0.00000000e+00,  0.00000000e+00,\n",
       "         0.00000000e+00,  0.00000000e+00,  0.00000000e+00,\n",
       "         0.00000000e+00,  0.00000000e+00,  0.00000000e+00,\n",
       "         0.00000000e+00,  1.05135681e+01, -1.21743132e-15,\n",
       "         1.56739285e+00, -1.59916130e-01, -8.19366409e-02,\n",
       "         3.84817247e-01,  9.80079065e-01,  5.15196807e-01,\n",
       "         1.59916130e-01,  7.38618962e-01,  9.46530646e+00,\n",
       "         4.75694236e+00,  1.49878731e+00, -1.12074824e-01,\n",
       "        -4.08963945e-01,  3.36975941e-01,  9.53412573e-01,\n",
       "         1.05915069e+00,  1.85523776e-01,  1.20557682e+00,\n",
       "         9.51672043e+00,  4.73900938e+00,  1.95793410e+00,\n",
       "         2.07828693e+00, -9.66434942e-01,  2.24179244e+00,\n",
       "        -6.91861362e-01, -5.65369325e-03, -1.71929273e+00],\n",
       "       [ 0.00000000e+00,  0.00000000e+00,  0.00000000e+00,\n",
       "         0.00000000e+00,  0.00000000e+00,  0.00000000e+00,\n",
       "         0.00000000e+00,  0.00000000e+00,  0.00000000e+00,\n",
       "         0.00000000e+00,  0.00000000e+00,  0.00000000e+00,\n",
       "         0.00000000e+00,  0.00000000e+00,  0.00000000e+00,\n",
       "         0.00000000e+00,  0.00000000e+00,  0.00000000e+00,\n",
       "         0.00000000e+00,  0.00000000e+00,  0.00000000e+00,\n",
       "         0.00000000e+00,  0.00000000e+00,  0.00000000e+00,\n",
       "         0.00000000e+00,  0.00000000e+00,  0.00000000e+00,\n",
       "         0.00000000e+00,  0.00000000e+00,  0.00000000e+00,\n",
       "         0.00000000e+00,  0.00000000e+00,  0.00000000e+00,\n",
       "         0.00000000e+00,  0.00000000e+00,  0.00000000e+00,\n",
       "         0.00000000e+00,  0.00000000e+00,  0.00000000e+00,\n",
       "         0.00000000e+00,  0.00000000e+00,  1.25157826e+00,\n",
       "        -1.01571905e+00, -1.03075553e-17,  2.03178760e-01,\n",
       "        -5.49725527e-02, -2.03178760e-01, -1.28522244e+00,\n",
       "        -3.95352982e-01,  4.18299359e-01,  6.20983800e-02,\n",
       "         1.27274613e+00, -1.10408323e+00,  2.63580434e-02,\n",
       "        -6.73271591e-01,  1.83748753e+00,  4.26360478e-01,\n",
       "        -1.84357526e+00,  3.94588519e+00, -2.11239880e-01],\n",
       "       [ 0.00000000e+00,  0.00000000e+00,  0.00000000e+00,\n",
       "         0.00000000e+00,  0.00000000e+00,  0.00000000e+00,\n",
       "         0.00000000e+00,  0.00000000e+00,  0.00000000e+00,\n",
       "         0.00000000e+00,  0.00000000e+00,  0.00000000e+00,\n",
       "         0.00000000e+00,  0.00000000e+00,  0.00000000e+00,\n",
       "         0.00000000e+00,  0.00000000e+00,  0.00000000e+00,\n",
       "         0.00000000e+00,  0.00000000e+00,  0.00000000e+00,\n",
       "         0.00000000e+00,  0.00000000e+00,  0.00000000e+00,\n",
       "         0.00000000e+00,  0.00000000e+00,  0.00000000e+00,\n",
       "         0.00000000e+00,  0.00000000e+00,  0.00000000e+00,\n",
       "         0.00000000e+00,  0.00000000e+00,  0.00000000e+00,\n",
       "         0.00000000e+00,  0.00000000e+00,  0.00000000e+00,\n",
       "         0.00000000e+00,  0.00000000e+00,  0.00000000e+00,\n",
       "         0.00000000e+00,  0.00000000e+00,  0.00000000e+00,\n",
       "         0.00000000e+00,  0.00000000e+00,  0.00000000e+00,\n",
       "         0.00000000e+00,  0.00000000e+00,  0.00000000e+00,\n",
       "         0.00000000e+00,  0.00000000e+00,  0.00000000e+00,\n",
       "        -1.30462776e-16, -1.04792712e+01, -1.92990108e+00,\n",
       "        -1.39532323e+00,  5.70198266e-01, -4.85590767e-01,\n",
       "         2.51748361e-01, -1.25367273e+00,  4.85590767e-01]])"
      ]
     },
     "execution_count": 12,
     "metadata": {},
     "output_type": "execute_result"
    }
   ],
   "source": [
    "joint_regressor_muj"
   ]
  },
  {
   "cell_type": "code",
   "execution_count": 13,
   "metadata": {},
   "outputs": [
    {
     "data": {
      "text/plain": [
       "True"
      ]
     },
     "execution_count": 13,
     "metadata": {},
     "output_type": "execute_result"
    }
   ],
   "source": [
    "np.allclose(joint_regressor_muj, joint_regressor_pin)"
   ]
  },
  {
   "cell_type": "code",
   "execution_count": 14,
   "metadata": {},
   "outputs": [
    {
     "data": {
      "text/plain": [
       "True"
      ]
     },
     "execution_count": 14,
     "metadata": {},
     "output_type": "execute_result"
    }
   ],
   "source": [
    "np.allclose(joint_regressor_muj[:7, :70],joint_regressor_pin[:7,:70])"
   ]
  },
  {
   "cell_type": "markdown",
   "metadata": {},
   "source": [
    "### Compare Body regressors"
   ]
  },
  {
   "cell_type": "code",
   "execution_count": 15,
   "metadata": {},
   "outputs": [],
   "source": [
    "body_id = 3"
   ]
  },
  {
   "cell_type": "code",
   "execution_count": 16,
   "metadata": {},
   "outputs": [],
   "source": [
    "body_regressor_muj = mj_bodyRegressor(mj_model, mj_data, body_id+1)"
   ]
  },
  {
   "cell_type": "code",
   "execution_count": 17,
   "metadata": {},
   "outputs": [
    {
     "name": "stdout",
     "output_type": "stream",
     "text": [
      "  v = -0.124793  0.259114 -0.677313\n",
      "  w =  0.549237  -2.08936 -0.853981\n",
      " [ 5.16961361  0.34544854 -8.53177874 -2.06646174 -0.10382827 -0.70879139]\n"
     ]
    }
   ],
   "source": [
    "v_spatial = pin.getVelocity(pin_model, pin_data, body_id, pin.LOCAL)\n",
    "a_spatial = np.array(pin.getAcceleration(pin_model, pin_data, body_id, pin.LOCAL))\n",
    "rotation = pin_data.oMi[body_id].rotation\n",
    "a_spatial[:3] -= rotation.T @ pin_model.gravity.linear\n",
    "print(v_spatial, a_spatial)"
   ]
  },
  {
   "cell_type": "code",
   "execution_count": 18,
   "metadata": {},
   "outputs": [],
   "source": [
    "body_regressor_pin = pin.bodyRegressor(pin.Motion(v_spatial), pin.Motion(a_spatial))"
   ]
  },
  {
   "cell_type": "code",
   "execution_count": 19,
   "metadata": {},
   "outputs": [
    {
     "data": {
      "text/plain": [
       "8"
      ]
     },
     "execution_count": 19,
     "metadata": {},
     "output_type": "execute_result"
    }
   ],
   "source": [
    "mj_model.nbody"
   ]
  },
  {
   "cell_type": "code",
   "execution_count": 20,
   "metadata": {},
   "outputs": [
    {
     "data": {
      "text/plain": [
       "array([[ 6.8060426 , -5.09470416, -0.4387609 , -0.57286609,  0.        ,\n",
       "         0.        ,  0.        ,  0.        ,  0.        ,  0.        ],\n",
       "       [ 0.8240252 , -1.85634367, -1.03094503,  3.8507352 ,  0.        ,\n",
       "         0.        ,  0.        ,  0.        ,  0.        ,  0.        ],\n",
       "       [-8.65020244, -0.36520956, -0.28218829, -4.66708081,  0.        ,\n",
       "         0.        ,  0.        ,  0.        ,  0.        ,  0.        ],\n",
       "       [ 0.        ,  0.        , -8.65020244, -0.8240252 , -2.06646174,\n",
       "         0.36520956, -1.78427345, -1.85634367,  3.63613578,  1.78427345],\n",
       "       [ 0.        ,  8.65020244,  0.        ,  6.8060426 , -0.46903782,\n",
       "        -0.28218829, -0.10382827,  0.42762335,  0.4387609 ,  0.46903782],\n",
       "       [ 0.        ,  0.8240252 , -6.8060426 ,  0.        ,  1.14755229,\n",
       "        -4.06375913, -1.14755229, -3.8507352 , -0.57286609, -0.70879139]])"
      ]
     },
     "execution_count": 20,
     "metadata": {},
     "output_type": "execute_result"
    }
   ],
   "source": [
    "body_regressor_pin"
   ]
  },
  {
   "cell_type": "code",
   "execution_count": 21,
   "metadata": {},
   "outputs": [
    {
     "data": {
      "text/plain": [
       "True"
      ]
     },
     "execution_count": 21,
     "metadata": {},
     "output_type": "execute_result"
    }
   ],
   "source": [
    "np.allclose(body_regressor_muj, body_regressor_pin)"
   ]
  }
 ],
 "metadata": {
  "kernelspec": {
   "display_name": "venv",
   "language": "python",
   "name": "python3"
  },
  "language_info": {
   "codemirror_mode": {
    "name": "ipython",
    "version": 3
   },
   "file_extension": ".py",
   "mimetype": "text/x-python",
   "name": "python",
   "nbconvert_exporter": "python",
   "pygments_lexer": "ipython3",
   "version": "3.11.8"
  },
  "orig_nbformat": 4
 },
 "nbformat": 4,
 "nbformat_minor": 2
}
