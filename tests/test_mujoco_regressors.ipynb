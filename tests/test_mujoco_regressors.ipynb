{
 "cells": [
  {
   "cell_type": "code",
   "execution_count": 1,
   "metadata": {},
   "outputs": [],
   "source": [
    "import numpy as np\n",
    "import pinocchio as pin"
   ]
  },
  {
   "cell_type": "code",
   "execution_count": 2,
   "metadata": {},
   "outputs": [],
   "source": [
    "%%capture\n",
    "!pip3 install robot_descriptions\n",
    "from robot_descriptions import (\n",
    "    z1_mj_description,\n",
    "    z1_description,\n",
    "    skydio_x2_mj_description,\n",
    "    skydio_x2_description,\n",
    ")"
   ]
  },
  {
   "cell_type": "code",
   "execution_count": 3,
   "metadata": {},
   "outputs": [],
   "source": [
    "# ROBOT_URDF = skydio_x2_description.URDF_PATH\n",
    "# ROBOT_XML = skydio_x2_mj_description.MJCF_PATH\n",
    "ROBOT_URDF = z1_description.URDF_PATH\n",
    "ROBOT_XML = z1_mj_description.MJCF_PATH"
   ]
  },
  {
   "cell_type": "code",
   "execution_count": 4,
   "metadata": {},
   "outputs": [],
   "source": [
    "model = pin.buildModelFromUrdf(ROBOT_URDF)\n",
    "data = model.createData()"
   ]
  },
  {
   "cell_type": "code",
   "execution_count": 5,
   "metadata": {},
   "outputs": [],
   "source": [
    "q = np.random.randn(model.nq)\n",
    "if model.nq != model.nv:\n",
    "    q[3:7] /= np.linalg.norm(q[3:7])\n",
    "dq = np.random.randn(model.nv)\n",
    "ddq = np.random.randn(model.nv)\n",
    "data.q = q.copy()\n",
    "data.dq = dq.copy()\n",
    "data.ddq = ddq.copy()"
   ]
  },
  {
   "cell_type": "markdown",
   "metadata": {},
   "source": [
    "### Regressor in Mujoco"
   ]
  },
  {
   "cell_type": "code",
   "execution_count": 6,
   "metadata": {},
   "outputs": [],
   "source": [
    "import mujoco"
   ]
  },
  {
   "cell_type": "code",
   "execution_count": 7,
   "metadata": {},
   "outputs": [],
   "source": [
    "# Load model, make data\n",
    "mj_model = mujoco.MjModel.from_xml_path(ROBOT_XML)\n",
    "mj_data = mujoco.MjData(mj_model)\n",
    "mj_model.opt.enableflags |= mujoco.mjtEnableBit.mjENBL_ENERGY\n",
    "\n",
    "# model.energy.setflags(enable=True)\n",
    "\n",
    "# Set the state to the \"squat\" keyframe, call mj_forward.\n",
    "# key = model.key('hover').id\n",
    "# mujoco.mj_resetDataKeyframe(model, data, key)\n",
    "\n",
    "q_muj = q.copy()\n",
    "if mj_model.nq != mj_model.nv:\n",
    "    q_muj[[3, 4, 5, 6]] = q[[6, 3, 4, 5]]\n",
    "\n",
    "mj_data.qpos = q_muj\n",
    "mj_data.qvel = dq.copy()\n",
    "mj_data.qacc = ddq.copy()"
   ]
  },
  {
   "cell_type": "code",
   "execution_count": 8,
   "metadata": {},
   "outputs": [],
   "source": [
    "mujoco.mj_inverse(mj_model, mj_data)"
   ]
  },
  {
   "cell_type": "code",
   "execution_count": 9,
   "metadata": {},
   "outputs": [],
   "source": [
    "def Y_body(v_lin, v_ang, a_lin, a_ang):\n",
    "    # this is identical to the pinnochio: pin.bodyRegressor(*[v_lin, v_ang], *[a_lin, a_ang])\n",
    "    v1, v2, v3 = v_lin\n",
    "    v4, v5, v6 = v_ang\n",
    "\n",
    "    a1, a2, a3 = a_lin\n",
    "    a4, a5, a6 = a_ang\n",
    "\n",
    "    # fmt: off\n",
    "    Y = np.array([\n",
    "        [a1 - v2*v6 + v3*v5, -v5**2 - v6**2, -a6 + v4*v5, a5 + v4*v6, 0, 0, 0, 0, 0, 0],\n",
    "        [a2 + v1*v6 - v3*v4, a6 + v4*v5, -v4**2 - v6**2, -a4 + v5*v6, 0, 0, 0, 0, 0, 0],\n",
    "        [a3 - v1*v5 + v2*v4, -a5 + v4*v6, a4 + v5*v6, -v4**2 - v5**2, 0, 0, 0, 0, 0, 0],\n",
    "        [0, 0, a3 - v1*v5 + v2*v4, -a2 - v1*v6 + v3*v4, a4, a5 - v4*v6, -v5*v6, a6 + v4*v5, v5**2 - v6**2, v5*v6],\n",
    "        [0, -a3 + v1*v5 - v2*v4, 0, a1 - v2*v6 + v3*v5, v4*v6, a4 + v5*v6, a5, -v4**2 + v6**2, a6 - v4*v5, -v4*v6],\n",
    "        [0, a2 + v1*v6 - v3*v4, -a1 + v2*v6 - v3*v5, 0, -v4*v5, v4**2 - v5**2, v4*v5, a4 - v5*v6, a5 + v4*v6, a6]\n",
    "    ])\n",
    "    # fmt: on\n",
    "\n",
    "    return Y\n",
    "\n",
    "\n",
    "def mj_bodyRegressor(mj_model, mj_data, body):\n",
    "    # TODO:\n",
    "    # Clarify more about transformations:\n",
    "    # https://mujoco.readthedocs.io/en/stable/programming/simulation.html#coordinate-frames-and-transformations\n",
    "    # https://royfeatherstone.org/teaching/index.html\n",
    "    # https://royfeatherstone.org/teaching/2008/slides.pdf\n",
    "\n",
    "    body_id = body + 1\n",
    "    velocity = np.zeros(6)\n",
    "    accel = np.zeros(6)\n",
    "    _cross = np.zeros(3)\n",
    "\n",
    "    mujoco.mj_objectVelocity(mj_model, mj_data, 2, body_id, velocity, 1)\n",
    "    mujoco.mj_rnePostConstraint(mj_model, mj_data)\n",
    "    mujoco.mj_objectAcceleration(mj_model, mj_data, 2, body_id, accel, 1)\n",
    "    # rotation = mj_data.xmat[body_id].reshape(3, 3).copy()\n",
    "\n",
    "    v, w = velocity[3:], velocity[:3]\n",
    "    dv, dw = accel[3:], accel[:3]  # dv - classical acceleration, already containt g\n",
    "\n",
    "    mujoco.mju_cross(_cross, w, v)\n",
    "\n",
    "    dv -= _cross\n",
    "\n",
    "    Y = Y_body(v, w, dv, dw)\n",
    "    return Y\n",
    "\n",
    "\n",
    "def mj_jointRegressor(mj_model, mj_data):\n",
    "    # TODO:\n",
    "    # what the hell is going on with indeces?\n",
    "    # increase time in computation of multiplication between rotation\n",
    "    # Investigate spatial tranfromation mju_transformSpatial t\n",
    "\n",
    "    njoints = mj_model.njnt\n",
    "    body_regressors = np.zeros((6 * njoints, njoints * 10))\n",
    "    col_jac = np.zeros((6 * njoints, mj_model.nv))\n",
    "    jac_lin = np.zeros((3, mj_model.nv))\n",
    "    jac_rot = np.zeros((3, mj_model.nv))\n",
    "\n",
    "    for i in range(njoints):\n",
    "        # calculate cody regressors\n",
    "        body_regressors[6 * i : 6 * (i + 1), 10 * i : 10 * (i + 1)] = mj_bodyRegressor(\n",
    "            mj_model, mj_data, i + 1\n",
    "        )  # regressor_body(i+1)\n",
    "\n",
    "        mujoco.mj_jacPointAxis(\n",
    "            mj_model,\n",
    "            mj_data,\n",
    "            jac_lin,\n",
    "            None,\n",
    "            mj_data.xanchor[i],\n",
    "            mj_data.xaxis[i],\n",
    "            i + 1,\n",
    "        )\n",
    "        mujoco.mj_jacBody(mj_model, mj_data, None, jac_rot, i + 2)\n",
    "\n",
    "        # Calculate jacobians\n",
    "        rotation = mj_data.xmat[i + 2].reshape(3, 3).copy()\n",
    "        col_jac[6 * i : 6 * i + 3, :] = rotation.T @ jac_lin.copy()\n",
    "        col_jac[6 * i + 3 : 6 * i + 6, :] = rotation.T @ jac_rot.copy()\n",
    "\n",
    "    joint_regressor = col_jac.T @ body_regressors\n",
    "    return joint_regressor"
   ]
  },
  {
   "cell_type": "markdown",
   "metadata": {},
   "source": [
    "### Compare Joint regressors"
   ]
  },
  {
   "cell_type": "code",
   "execution_count": 10,
   "metadata": {},
   "outputs": [],
   "source": [
    "joint_regressor_muj = mj_jointRegressor(mj_model, mj_data)"
   ]
  },
  {
   "cell_type": "code",
   "execution_count": 11,
   "metadata": {},
   "outputs": [],
   "source": [
    "pin.computeAllTerms(model, data, q, dq)\n",
    "pin.forwardKinematics(model, data, q, dq, ddq)\n",
    "joint_regressor_pin = pin.computeJointTorqueRegressor(model, data, q, dq, ddq)"
   ]
  },
  {
   "cell_type": "code",
   "execution_count": 12,
   "metadata": {},
   "outputs": [
    {
     "data": {
      "text/plain": [
       "True"
      ]
     },
     "execution_count": 12,
     "metadata": {},
     "output_type": "execute_result"
    }
   ],
   "source": [
    "np.allclose(joint_regressor_muj, joint_regressor_pin)"
   ]
  },
  {
   "cell_type": "markdown",
   "metadata": {},
   "source": [
    "### Compare Body regressors"
   ]
  },
  {
   "cell_type": "code",
   "execution_count": 13,
   "metadata": {},
   "outputs": [],
   "source": [
    "body_id = 3"
   ]
  },
  {
   "cell_type": "code",
   "execution_count": 14,
   "metadata": {},
   "outputs": [],
   "source": [
    "body_regressor_muj = mj_bodyRegressor(mj_model, mj_data, body_id)"
   ]
  },
  {
   "cell_type": "code",
   "execution_count": 15,
   "metadata": {},
   "outputs": [],
   "source": [
    "v_spatial = pin.getVelocity(model, data, body_id, pin.LOCAL)\n",
    "a_spatial = np.array(pin.getAcceleration(model, data, body_id, pin.LOCAL))\n",
    "rotation = data.oMi[body_id].rotation\n",
    "a_spatial[:3] -= rotation.T @ model.gravity.linear"
   ]
  },
  {
   "cell_type": "code",
   "execution_count": 16,
   "metadata": {},
   "outputs": [],
   "source": [
    "body_regressor_pin = pin.bodyRegressor(pin.Motion(v_spatial), pin.Motion(a_spatial))"
   ]
  },
  {
   "cell_type": "code",
   "execution_count": 17,
   "metadata": {},
   "outputs": [
    {
     "data": {
      "text/plain": [
       "True"
      ]
     },
     "execution_count": 17,
     "metadata": {},
     "output_type": "execute_result"
    }
   ],
   "source": [
    "np.allclose(body_regressor_muj, body_regressor_pin)"
   ]
  }
 ],
 "metadata": {
  "kernelspec": {
   "display_name": "venv",
   "language": "python",
   "name": "python3"
  },
  "language_info": {
   "codemirror_mode": {
    "name": "ipython",
    "version": 3
   },
   "file_extension": ".py",
   "mimetype": "text/x-python",
   "name": "python",
   "nbconvert_exporter": "python",
   "pygments_lexer": "ipython3",
   "version": "3.11.8"
  },
  "orig_nbformat": 4
 },
 "nbformat": 4,
 "nbformat_minor": 2
}
