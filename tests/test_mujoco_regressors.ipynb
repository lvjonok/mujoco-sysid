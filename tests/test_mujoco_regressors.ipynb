{
 "cells": [
  {
   "cell_type": "code",
   "execution_count": 1,
   "metadata": {},
   "outputs": [],
   "source": [
    "import numpy as np\n",
    "import pinocchio as pin\n",
    "\n"
   ]
  },
  {
   "cell_type": "code",
   "execution_count": 2,
   "metadata": {},
   "outputs": [],
   "source": [
    "%%capture\n",
    "!pip3 install robot_descriptions\n",
    "from robot_descriptions import z1_mj_description, z1_description, skydio_x2_mj_description, skydio_x2_description"
   ]
  },
  {
   "cell_type": "code",
   "execution_count": 3,
   "metadata": {},
   "outputs": [],
   "source": [
    "# ROBOT_URDF = skydio_x2_description.URDF_PATH\n",
    "# ROBOT_XML = skydio_x2_mj_description.MJCF_PATH\n",
    "ROBOT_URDF = z1_description.URDF_PATH\n",
    "ROBOT_XML =  z1_mj_description.MJCF_PATH\n"
   ]
  },
  {
   "cell_type": "code",
   "execution_count": 4,
   "metadata": {},
   "outputs": [],
   "source": [
    "model = pin.buildModelFromUrdf(ROBOT_URDF)\n",
    "data = model.createData()\n"
   ]
  },
  {
   "cell_type": "code",
   "execution_count": 5,
   "metadata": {},
   "outputs": [],
   "source": [
    "q = np.random.randn(model.nq)\n",
    "if model.nq != model.nv:\n",
    "    q[3:7]/=np.linalg.norm(q[3:7])\n",
    "dq = np.random.randn(model.nv)\n",
    "ddq  = np.random.randn(model.nv)\n",
    "data.q = q.copy()\n",
    "data.dq = dq.copy()\n",
    "data.ddq = ddq.copy()\n"
   ]
  },
  {
   "cell_type": "markdown",
   "metadata": {},
   "source": [
    "### Custom Regressor"
   ]
  },
  {
   "cell_type": "code",
   "execution_count": 6,
   "metadata": {},
   "outputs": [],
   "source": [
    "pin.computeAllTerms(model, data, q, dq)\n",
    "pin.forwardKinematics(model, data, q, dq, ddq)\n",
    "\n",
    "def Y_body(v, a_g):\n",
    "    a1, a2, a3, a4, a5, a6 = a_g\n",
    "    v1, v2, v3, v4, v5, v6 = v\n",
    "\n",
    "    Y = np.array([\n",
    "    [a1 - v2*v6 + v3*v5, -v5**2 - v6**2, -a6 + v4*v5, a5 + v4*v6, 0, 0, 0, 0, 0, 0],\n",
    "    [a2 + v1*v6 - v3*v4, a6 + v4*v5, -v4**2 - v6**2, -a4 + v5*v6, 0, 0, 0, 0, 0, 0],\n",
    "    [a3 - v1*v5 + v2*v4, -a5 + v4*v6, a4 + v5*v6, -v4**2 - v5**2, 0, 0, 0, 0, 0, 0],\n",
    "    [0, 0, a3 - v1*v5 + v2*v4, -a2 - v1*v6 + v3*v4, a4, a5 - v4*v6, -v5*v6, a6 + v4*v5, v5**2 - v6**2, v5*v6],\n",
    "    [0, -a3 + v1*v5 - v2*v4, 0, a1 - v2*v6 + v3*v5, v4*v6, a4 + v5*v6, a5, -v4**2 + v6**2, a6 - v4*v5, -v4*v6],\n",
    "    [0, a2 + v1*v6 - v3*v4, -a1 + v2*v6 - v3*v5, 0, -v4*v5, v4**2 - v5**2, v4*v5, a4 - v5*v6, a5 + v4*v6, a6]\n",
    "])\n",
    "\n",
    "    return Y\n",
    "\n",
    "\n",
    "def bodyRegressor(ind):\n",
    "    \"\"\"Body regressor\n",
    "    Derivation is accordingly to the paper: https://arxiv.org/pdf/1610.08703.pdf\n",
    "    link: https://colab.research.google.com/drive/1xFte2FT0nQ0ePs02BoOx4CmLLw5U-OUZ#scrollTo=FfkIBpi1wLXz\n",
    "    \"\"\"\n",
    "    vel = pin.getVelocity(model,\n",
    "                    data,\n",
    "                    ind,\n",
    "                    pin.LOCAL) \n",
    "    \n",
    "    accel = pin.getAcceleration(model,\n",
    "                    data,\n",
    "                    ind,\n",
    "                    pin.LOCAL)  \n",
    "    \n",
    "    rotation = data.oMi[ind].rotation\n",
    "\n",
    "    v = np.array(vel)\n",
    "    a = np.array(accel)\n",
    "    a_g = a \n",
    "    a_g[:3] +=  rotation.T @ np.array([0,0,9.81])\n",
    "\n",
    "\n",
    "    return Y_body(v, a_g)\n",
    "\n",
    "njoints = model.njoints - 1\n",
    "force_Y = np.zeros((6*njoints, njoints*10))\n",
    "col_jac = np.zeros((6*njoints, model.nv))\n",
    "\n",
    "\n",
    "for i in range(njoints):\n",
    "    \n",
    "    jacobian = pin.getJointJacobian(model, \n",
    "                                    data, \n",
    "                                    i+1, \n",
    "                                    pin.LOCAL)\n",
    "    col_jac[6*i:6*(i+1),:] = jacobian  \n",
    "    force_Y[6*i:6*(i+1),10*i:10*(i+1)] = bodyRegressor(i+1)#regressor_body(i+1)\n",
    "    \n",
    "Ycustom = col_jac.T @force_Y"
   ]
  },
  {
   "cell_type": "code",
   "execution_count": 7,
   "metadata": {},
   "outputs": [
    {
     "data": {
      "text/plain": [
       "array([[ 6.20672584, -0.51388771, -1.35270205,  0.88693304,  0.        ,\n",
       "         0.        ,  0.        ,  0.        ,  0.        ,  0.        ],\n",
       "       [-2.12654381,  0.86615216, -0.84845807, -1.36658705,  0.        ,\n",
       "         0.        ,  0.        ,  0.        ,  0.        ,  0.        ],\n",
       "       [-3.99701793, -0.04193924,  0.92214522, -0.59048126,  0.        ,\n",
       "         0.        ,  0.        ,  0.        ,  0.        ,  0.        ],\n",
       "       [ 0.        ,  0.        , -3.99701793,  2.12654381,  1.14436614,\n",
       "         0.04193924,  0.22222092,  0.86615216, -0.25797681, -0.22222092],\n",
       "       [ 0.        ,  3.99701793,  0.        ,  6.20672584,  0.4224969 ,\n",
       "         0.92214522,  0.46443614, -0.07659354,  1.35270205, -0.4224969 ],\n",
       "       [ 0.        , -2.12654381, -6.20672584,  0.        ,  0.24327494,\n",
       "         0.33457035, -0.24327494,  1.36658705,  0.88693304,  1.1094271 ]])"
      ]
     },
     "execution_count": 7,
     "metadata": {},
     "output_type": "execute_result"
    }
   ],
   "source": [
    "Ypin = pin.computeJointTorqueRegressor(model,  data, q, dq, ddq)\n",
    "Ypin"
   ]
  },
  {
   "cell_type": "code",
   "execution_count": 8,
   "metadata": {},
   "outputs": [
    {
     "data": {
      "text/plain": [
       "True"
      ]
     },
     "execution_count": 8,
     "metadata": {},
     "output_type": "execute_result"
    }
   ],
   "source": [
    "np.allclose(Ycustom,Ypin)"
   ]
  },
  {
   "cell_type": "markdown",
   "metadata": {},
   "source": [
    "### Regressor in Mujoco"
   ]
  },
  {
   "cell_type": "code",
   "execution_count": 9,
   "metadata": {},
   "outputs": [],
   "source": [
    "import mujoco"
   ]
  },
  {
   "cell_type": "code",
   "execution_count": 10,
   "metadata": {},
   "outputs": [],
   "source": []
  },
  {
   "cell_type": "code",
   "execution_count": 11,
   "metadata": {},
   "outputs": [
    {
     "name": "stdout",
     "output_type": "stream",
     "text": [
      "/home/simeon/.cache/robot_descriptions/mujoco_menagerie/skydio_x2/x2.xml\n"
     ]
    }
   ],
   "source": [
    "print(ROBOT_XML)"
   ]
  },
  {
   "cell_type": "code",
   "execution_count": 12,
   "metadata": {},
   "outputs": [],
   "source": [
    "# Load model, make data\n",
    "mj_model = mujoco.MjModel.from_xml_path(ROBOT_XML)\n",
    "mj_data = mujoco.MjData(mj_model)\n",
    "mj_model.opt.enableflags |= mujoco.mjtEnableBit.mjENBL_ENERGY\n",
    "\n",
    "# model.energy.setflags(enable=True)\n",
    "\n",
    "# Set the state to the \"squat\" keyframe, call mj_forward.\n",
    "# key = model.key('hover').id\n",
    "# mujoco.mj_resetDataKeyframe(model, data, key)\n",
    "q_muj = q.copy()\n",
    "q_muj[[3,4,5,6]] = q[[6,3,4,5]]\n",
    "\n",
    "mj_data.qpos = q_muj \n",
    "mujoco.mj_forward(mj_model, mj_data)\n",
    "\n"
   ]
  },
  {
   "cell_type": "code",
   "execution_count": 13,
   "metadata": {},
   "outputs": [
    {
     "data": {
      "text/plain": [
       "array([-0.05734004,  0.54043218,  1.69709864,  0.48406141, -0.06219627,\n",
       "       -0.8678923 ,  0.09262357])"
      ]
     },
     "execution_count": 13,
     "metadata": {},
     "output_type": "execute_result"
    }
   ],
   "source": [
    "q_muj"
   ]
  },
  {
   "cell_type": "code",
   "execution_count": 14,
   "metadata": {},
   "outputs": [
    {
     "data": {
      "text/plain": [
       "1"
      ]
     },
     "execution_count": 14,
     "metadata": {},
     "output_type": "execute_result"
    }
   ],
   "source": [
    "mj_model.nbody -1"
   ]
  },
  {
   "cell_type": "code",
   "execution_count": 15,
   "metadata": {},
   "outputs": [
    {
     "data": {
      "text/plain": [
       "array([0.        , 0.        , 0.05396226])"
      ]
     },
     "execution_count": 15,
     "metadata": {},
     "output_type": "execute_result"
    }
   ],
   "source": [
    "mj_model.body_ipos[1]"
   ]
  },
  {
   "cell_type": "code",
   "execution_count": 16,
   "metadata": {},
   "outputs": [
    {
     "data": {
      "text/plain": [
       "<_MjDataBodyViews\n",
       "  cacc: array([ 2.37095592e-16, -1.96884091e-16, -3.25049142e-16, -8.36729246e-17,\n",
       "        2.99193270e-17,  0.00000000e+00])\n",
       "  cfrc_ext: array([0., 0., 0., 0., 0., 0.])\n",
       "  cfrc_int: array([ 8.22889964e-18, -5.99585846e-18, -1.24579242e-17, -1.10866625e-16,\n",
       "        3.96431083e-17,  0.00000000e+00])\n",
       "  cinert: array([0.05209638, 0.02628929, 0.04420573, 0.00208754, 0.01141956,\n",
       "       0.00404512, 0.        , 0.        , 0.        , 1.325     ])\n",
       "  crb: array([0.05209638, 0.02628929, 0.04420573, 0.00208754, 0.01141956,\n",
       "       0.00404512, 0.        , 0.        , 0.        , 1.325     ])\n",
       "  cvel: array([0., 0., 0., 0., 0., 0.])\n",
       "  id: 1\n",
       "  name: 'x2'\n",
       "  subtree_angmom: array([0., 0., 0.])\n",
       "  subtree_com: array([-0.1033023 ,  0.53500568,  1.66935066])\n",
       "  subtree_linvel: array([0., 0., 0.])\n",
       "  xfrc_applied: array([0., 0., 0., 0., 0., 0.])\n",
       "  ximat: array([-0.80299075,  0.59571083, -0.01828832, -0.11736455, -0.18813774,\n",
       "       -0.975105  , -0.58432133, -0.78085389,  0.2209882 ])\n",
       "  xipos: array([-0.1033023 ,  0.53500568,  1.66935066])\n",
       "  xmat: array([-0.52363235,  0.01828832, -0.85174803,  0.19763032,  0.975105  ,\n",
       "       -0.10056095,  0.82870466, -0.2209882 , -0.51421085])\n",
       "  xpos: array([-0.05734004,  0.54043218,  1.69709864])\n",
       "  xquat: array([ 0.48406141, -0.06219627, -0.8678923 ,  0.09262357])\n",
       ">"
      ]
     },
     "execution_count": 16,
     "metadata": {},
     "output_type": "execute_result"
    }
   ],
   "source": [
    "mj_data.body('x2')"
   ]
  },
  {
   "cell_type": "code",
   "execution_count": 17,
   "metadata": {},
   "outputs": [
    {
     "data": {
      "text/plain": [
       "array([21.69863719,  0.        ])"
      ]
     },
     "execution_count": 17,
     "metadata": {},
     "output_type": "execute_result"
    }
   ],
   "source": [
    "mj_data.energy"
   ]
  },
  {
   "cell_type": "code",
   "execution_count": 29,
   "metadata": {},
   "outputs": [],
   "source": [
    "pot_energy = 0 \n",
    "for i in range(2):\n",
    "    pot_energy += -mj_model.body_mass[i]*mj_data.xipos[i]@mj_model.opt.gravity\n",
    "    "
   ]
  },
  {
   "cell_type": "code",
   "execution_count": 30,
   "metadata": {},
   "outputs": [
    {
     "data": {
      "text/plain": [
       "21.698637187527698"
      ]
     },
     "execution_count": 30,
     "metadata": {},
     "output_type": "execute_result"
    }
   ],
   "source": [
    "pot_energy"
   ]
  },
  {
   "cell_type": "code",
   "execution_count": 20,
   "metadata": {},
   "outputs": [
    {
     "data": {
      "text/plain": [
       "array([21.69863719,  0.        ])"
      ]
     },
     "execution_count": 20,
     "metadata": {},
     "output_type": "execute_result"
    }
   ],
   "source": [
    "mj_data.energy"
   ]
  },
  {
   "cell_type": "code",
   "execution_count": 21,
   "metadata": {},
   "outputs": [
    {
     "data": {
      "text/plain": [
       "array([[ 0.        ,  0.        ,  0.        ],\n",
       "       [-0.05734004,  0.54043218,  1.69709864]])"
      ]
     },
     "execution_count": 21,
     "metadata": {},
     "output_type": "execute_result"
    }
   ],
   "source": [
    "mj_data.xpos"
   ]
  },
  {
   "cell_type": "code",
   "execution_count": 22,
   "metadata": {},
   "outputs": [
    {
     "data": {
      "text/plain": [
       "array([ 0.  ,  0.  , -9.81])"
      ]
     },
     "execution_count": 22,
     "metadata": {},
     "output_type": "execute_result"
    }
   ],
   "source": [
    "mj_model.opt.gravity"
   ]
  },
  {
   "cell_type": "code",
   "execution_count": 23,
   "metadata": {},
   "outputs": [],
   "source": [
    "mujoco.mj_energyPos(mj_model,mj_data)"
   ]
  },
  {
   "cell_type": "code",
   "execution_count": null,
   "metadata": {},
   "outputs": [],
   "source": []
  },
  {
   "cell_type": "code",
   "execution_count": 24,
   "metadata": {},
   "outputs": [
    {
     "data": {
      "text/plain": [
       "array([[ 1.        ,  0.        ,  0.        ,  0.        ],\n",
       "       [ 0.47776755,  0.47776755, -0.52128511,  0.52128511]])"
      ]
     },
     "execution_count": 24,
     "metadata": {},
     "output_type": "execute_result"
    }
   ],
   "source": [
    "mj_model.body_iquat"
   ]
  },
  {
   "cell_type": "code",
   "execution_count": 25,
   "metadata": {},
   "outputs": [
    {
     "data": {
      "text/plain": [
       "array([0.06071129, 0.0364684 , 0.0254117 ])"
      ]
     },
     "execution_count": 25,
     "metadata": {},
     "output_type": "execute_result"
    }
   ],
   "source": [
    "mj_model.body_inertia[1]"
   ]
  },
  {
   "cell_type": "code",
   "execution_count": 26,
   "metadata": {},
   "outputs": [
    {
     "data": {
      "text/plain": [
       "array([[ 0.        ,  0.        ,  0.        ],\n",
       "       [-0.05734004,  0.54043218,  1.69709864]])"
      ]
     },
     "execution_count": 26,
     "metadata": {},
     "output_type": "execute_result"
    }
   ],
   "source": [
    "mj_data.xpos"
   ]
  },
  {
   "cell_type": "code",
   "execution_count": 27,
   "metadata": {},
   "outputs": [
    {
     "data": {
      "text/plain": [
       "array([-0.05734004,  0.54043218,  1.69709864,  0.48406141, -0.06219627,\n",
       "       -0.8678923 ,  0.09262357])"
      ]
     },
     "execution_count": 27,
     "metadata": {},
     "output_type": "execute_result"
    }
   ],
   "source": [
    "mj_data.qpos"
   ]
  },
  {
   "cell_type": "code",
   "execution_count": 28,
   "metadata": {},
   "outputs": [
    {
     "data": {
      "text/plain": [
       "<function mujoco._functions.PyCapsule.mj_objectVelocity>"
      ]
     },
     "execution_count": 28,
     "metadata": {},
     "output_type": "execute_result"
    }
   ],
   "source": [
    "mujoco.mj_objectVelocity"
   ]
  },
  {
   "cell_type": "code",
   "execution_count": null,
   "metadata": {},
   "outputs": [],
   "source": []
  },
  {
   "cell_type": "code",
   "execution_count": null,
   "metadata": {},
   "outputs": [],
   "source": []
  },
  {
   "cell_type": "code",
   "execution_count": null,
   "metadata": {},
   "outputs": [],
   "source": []
  }
 ],
 "metadata": {
  "kernelspec": {
   "display_name": "venv",
   "language": "python",
   "name": "python3"
  },
  "language_info": {
   "codemirror_mode": {
    "name": "ipython",
    "version": 3
   },
   "file_extension": ".py",
   "mimetype": "text/x-python",
   "name": "python",
   "nbconvert_exporter": "python",
   "pygments_lexer": "ipython3",
   "version": "3.11.8"
  },
  "orig_nbformat": 4
 },
 "nbformat": 4,
 "nbformat_minor": 2
}
