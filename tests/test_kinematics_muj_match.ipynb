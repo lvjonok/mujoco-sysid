{
 "cells": [
  {
   "cell_type": "code",
   "execution_count": 1,
   "metadata": {},
   "outputs": [],
   "source": [
    "from robot_descriptions.z1_description import URDF_PATH\n",
    "from robot_descriptions.z1_mj_description import MJCF_PATH\n",
    "\n",
    "\n",
    "import mujoco\n",
    "import pinocchio as pin\n",
    "import numpy as np\n",
    "\n",
    "np.random.seed(0)"
   ]
  },
  {
   "cell_type": "code",
   "execution_count": 2,
   "metadata": {},
   "outputs": [],
   "source": [
    "pinmodel = pin.buildModelFromUrdf(URDF_PATH)\n",
    "pindata = pinmodel.createData()\n",
    "\n",
    "mjmodel = mujoco.MjModel.from_xml_path(MJCF_PATH)\n",
    "mjdata = mujoco.MjData(mjmodel)"
   ]
  },
  {
   "cell_type": "code",
   "execution_count": 3,
   "metadata": {},
   "outputs": [],
   "source": [
    "q = np.random.randn(mjmodel.nq)\n",
    "v = np.random.randn(mjmodel.nv)\n",
    "dv = np.random.randn(mjmodel.nv)\n",
    "\n",
    "# tau = pin.rnea(pinmodel, pindata, q, v, dv)\n",
    "\n",
    "mjdata.qpos = q.copy()\n",
    "mjdata.qvel = v.copy()\n",
    "mjdata.qacc = dv.copy()\n",
    "# mjdata.ctrl = tau.copy()"
   ]
  },
  {
   "cell_type": "code",
   "execution_count": 4,
   "metadata": {},
   "outputs": [],
   "source": [
    "body_idx = 3"
   ]
  },
  {
   "cell_type": "code",
   "execution_count": 5,
   "metadata": {},
   "outputs": [],
   "source": [
    "pin.computeAllTerms(pinmodel, pindata, q, v)\n",
    "pin.forwardKinematics(pinmodel, pindata, q, v, dv)\n",
    "# pin.framesForwardKinematics(pinmodel, pindata, q)"
   ]
  },
  {
   "cell_type": "code",
   "execution_count": 6,
   "metadata": {},
   "outputs": [
    {
     "data": {
      "text/plain": [
       "(  v =  0.0439583  -0.306261 -0.0295638\n",
       "   w = -0.932648 -0.254576  0.181206,\n",
       "   v = -0.0383893  -0.264928  0.0192288\n",
       "   w = -0.700937  0.565538  0.382579,\n",
       " array([[-0.03662984, -0.9813841 , -0.18852983],\n",
       "        [ 0.18717495, -0.19205531,  0.96336924],\n",
       "        [-0.98164341,  0.        ,  0.19072547]]))"
      ]
     },
     "execution_count": 6,
     "metadata": {},
     "output_type": "execute_result"
    }
   ],
   "source": [
    "def pin_body(idx):\n",
    "    vel = pin.getVelocity(pinmodel, pindata, idx, pin.LOCAL)\n",
    "\n",
    "    accel = pin.getAcceleration(pinmodel, pindata, idx, pin.LOCAL)\n",
    "\n",
    "    rotation = pindata.oMi[idx].rotation\n",
    "\n",
    "    return vel, accel, rotation\n",
    "\n",
    "\n",
    "vel, acc, rotation = pin_body(body_idx)\n",
    "\n",
    "vel, acc, rotation"
   ]
  },
  {
   "cell_type": "code",
   "execution_count": 7,
   "metadata": {},
   "outputs": [
    {
     "data": {
      "text/plain": [
       "  v = 0.0246332 -0.284535  0.316053\n",
       "  w = -0.700937  0.565538  0.382579"
      ]
     },
     "execution_count": 7,
     "metadata": {},
     "output_type": "execute_result"
    }
   ],
   "source": [
    "pin.getClassicalAcceleration(pinmodel, pindata, body_idx, pin.LOCAL)"
   ]
  },
  {
   "cell_type": "code",
   "execution_count": 8,
   "metadata": {},
   "outputs": [],
   "source": [
    "# mujoco.mj_step(mjmodel, mjdata)\n",
    "# mujoco.mj_kinematics(mjmodel, mjdata)\n",
    "mujoco.mj_inverse(mjmodel, mjdata)"
   ]
  },
  {
   "cell_type": "code",
   "execution_count": 9,
   "metadata": {},
   "outputs": [
    {
     "data": {
      "text/plain": [
       "(array([ 0.04395834, -0.30626092, -0.02956378]),\n",
       " array([-0.93264804, -0.25457606,  0.18120606]),\n",
       " array([ 0.02463322, -0.28453462,  0.31605318]),\n",
       " array([-0.70093695,  0.56553825,  0.38257914]),\n",
       " array([[-3.66298407e-02, -9.81384103e-01, -1.88529833e-01],\n",
       "        [ 1.87174949e-01, -1.92055313e-01,  9.63369241e-01],\n",
       "        [-9.81643415e-01,  1.11022302e-16,  1.90725475e-01]]))"
      ]
     },
     "execution_count": 9,
     "metadata": {},
     "output_type": "execute_result"
    }
   ],
   "source": [
    "# TODO: Read more about transformations here:\n",
    "# https://mujoco.readthedocs.io/en/stable/programming/simulation.html#coordinate-frames-and-transformations\n",
    "# velocity computation 2 - xbody\n",
    "rotlin_vel = np.zeros(6)\n",
    "mujoco.mj_objectVelocity(mjmodel, mjdata, 2, body_idx + 1, rotlin_vel, 1)\n",
    "\n",
    "# acceleration computation\n",
    "rotlin_acc = np.zeros(6)\n",
    "mujoco.mj_rnePostConstraint(mjmodel, mjdata)\n",
    "mujoco.mj_objectAcceleration(mjmodel, mjdata, 2, body_idx + 1, rotlin_acc, 1)\n",
    "\n",
    "# rotation matrix\n",
    "rotation = mjdata.xmat[body_idx + 1].reshape(3, 3).copy()\n",
    "rotlin_vel, rotlin_acc, rotation\n",
    "vel_lin_muj = rotlin_vel[3:]\n",
    "vel_ang_muj = rotlin_vel[:3]\n",
    "acc_lin_muj_g = rotlin_acc[3:]\n",
    "acc_lin_muj_class = rotlin_acc[3:] + rotation.T @ mjmodel.opt.gravity\n",
    "acc_ang_muj = rotlin_acc[:3]\n",
    "vel_lin_muj, vel_ang_muj, acc_lin_muj_class, acc_ang_muj, rotation"
   ]
  },
  {
   "cell_type": "code",
   "execution_count": 10,
   "metadata": {},
   "outputs": [
    {
     "data": {
      "text/plain": [
       "array([-0.03838935, -0.26492753,  0.01922879])"
      ]
     },
     "execution_count": 10,
     "metadata": {},
     "output_type": "execute_result"
    }
   ],
   "source": [
    "acc_muj_lin_spatial = acc_lin_muj_class - pin.skew(vel_ang_muj) @ vel_lin_muj\n",
    "acc_muj_lin_spatial"
   ]
  },
  {
   "cell_type": "code",
   "execution_count": 11,
   "metadata": {},
   "outputs": [
    {
     "data": {
      "text/plain": [
       "(array([[-1.73472348e-18, -2.90427808e-01,  0.00000000e+00,\n",
       "          0.00000000e+00,  0.00000000e+00,  0.00000000e+00],\n",
       "        [-3.22349917e-01,  6.93889390e-18,  0.00000000e+00,\n",
       "          0.00000000e+00,  0.00000000e+00,  0.00000000e+00],\n",
       "        [ 6.93889390e-18,  1.95324571e-01,  0.00000000e+00,\n",
       "          0.00000000e+00,  0.00000000e+00,  0.00000000e+00]]),\n",
       " array([[-0.98164341,  0.        ,  0.        ,  0.        ,  0.        ,\n",
       "          0.        ],\n",
       "        [ 0.        ,  1.        ,  1.        ,  0.        ,  0.        ,\n",
       "          0.        ],\n",
       "        [ 0.19072547,  0.        ,  0.        ,  0.        ,  0.        ,\n",
       "          0.        ]]))"
      ]
     },
     "execution_count": 11,
     "metadata": {},
     "output_type": "execute_result"
    }
   ],
   "source": [
    "jacobian_pin = pin.getJointJacobian(pinmodel, pindata, body_idx, pin.LOCAL)\n",
    "jacobian_pin[:3], jacobian_pin[3:]"
   ]
  },
  {
   "cell_type": "code",
   "execution_count": 12,
   "metadata": {},
   "outputs": [],
   "source": [
    "jacobian_muj_lin = np.zeros((3, mjmodel.nv))\n",
    "jacobian_muj_rot = np.zeros((3, mjmodel.nv))"
   ]
  },
  {
   "cell_type": "code",
   "execution_count": 13,
   "metadata": {},
   "outputs": [],
   "source": [
    "mujoco.mj_jacPointAxis(\n",
    "    mjmodel,\n",
    "    mjdata,\n",
    "    jacobian_muj_lin,\n",
    "    None,\n",
    "    mjdata.xanchor[body_idx],\n",
    "    mjdata.xaxis[body_idx],\n",
    "    body_idx,\n",
    ")\n",
    "jac_lin = np.zeros((3, mjmodel.nv))\n",
    "mujoco.mj_jacBody(mjmodel, mjdata, jac_lin, jacobian_muj_rot, body_idx + 1)\n",
    "rotation = mjdata.xmat[body_idx + 1].reshape(3, 3).copy()"
   ]
  },
  {
   "cell_type": "code",
   "execution_count": 14,
   "metadata": {},
   "outputs": [
    {
     "data": {
      "text/plain": [
       "(array([[-3.67587661e-17, -2.33427808e-01,  0.00000000e+00,\n",
       "          0.00000000e+00,  0.00000000e+00,  0.00000000e+00],\n",
       "        [-2.24818089e-01,  3.57384914e-17,  0.00000000e+00,\n",
       "          0.00000000e+00,  0.00000000e+00,  0.00000000e+00],\n",
       "        [-6.52424616e-17, -2.26754287e-02,  0.00000000e+00,\n",
       "          0.00000000e+00,  0.00000000e+00,  0.00000000e+00]]),\n",
       " array([[-9.81643415e-01,  1.34321680e-16,  1.34321680e-16,\n",
       "          0.00000000e+00,  0.00000000e+00,  0.00000000e+00],\n",
       "        [ 1.11022302e-16,  1.00000000e+00,  1.00000000e+00,\n",
       "          0.00000000e+00,  0.00000000e+00,  0.00000000e+00],\n",
       "        [ 1.90725475e-01,  1.62847693e-16,  1.62847693e-16,\n",
       "          0.00000000e+00,  0.00000000e+00,  0.00000000e+00]]))"
      ]
     },
     "execution_count": 14,
     "metadata": {},
     "output_type": "execute_result"
    }
   ],
   "source": [
    "rotation.T @ jacobian_muj_lin, rotation.T @ jacobian_muj_rot"
   ]
  },
  {
   "cell_type": "code",
   "execution_count": 15,
   "metadata": {},
   "outputs": [
    {
     "data": {
      "text/plain": [
       "array([[-4.18136891e-17, -2.90427808e-01,  0.00000000e+00,\n",
       "         0.00000000e+00,  0.00000000e+00,  0.00000000e+00],\n",
       "       [-3.22349917e-01,  1.72110774e-17,  0.00000000e+00,\n",
       "         0.00000000e+00,  0.00000000e+00,  0.00000000e+00],\n",
       "       [-4.44107565e-17,  1.95324571e-01,  0.00000000e+00,\n",
       "         0.00000000e+00,  0.00000000e+00,  0.00000000e+00]])"
      ]
     },
     "execution_count": 15,
     "metadata": {},
     "output_type": "execute_result"
    }
   ],
   "source": [
    "rotation.T @ jac_lin"
   ]
  },
  {
   "cell_type": "code",
   "execution_count": 16,
   "metadata": {},
   "outputs": [
    {
     "data": {
      "text/plain": [
       "(False, True, True)"
      ]
     },
     "execution_count": 16,
     "metadata": {},
     "output_type": "execute_result"
    }
   ],
   "source": [
    "(\n",
    "    np.allclose(jacobian_pin[:3], rotation.T @ jacobian_muj_lin),\n",
    "    np.allclose(jacobian_pin[:3], rotation.T @ jac_lin),\n",
    "    np.allclose(jacobian_pin[3:], rotation.T @ jacobian_muj_rot),\n",
    ")"
   ]
  },
  {
   "cell_type": "code",
   "execution_count": null,
   "metadata": {},
   "outputs": [],
   "source": [
    "# mju_crossMotion\n",
    "# subtree_com\n",
    "# mju_transformSpatial"
   ]
  }
 ],
 "metadata": {
  "kernelspec": {
   "display_name": "venv",
   "language": "python",
   "name": "python3"
  },
  "language_info": {
   "codemirror_mode": {
    "name": "ipython",
    "version": 3
   },
   "file_extension": ".py",
   "mimetype": "text/x-python",
   "name": "python",
   "nbconvert_exporter": "python",
   "pygments_lexer": "ipython3",
   "version": "3.11.8"
  }
 },
 "nbformat": 4,
 "nbformat_minor": 2
}
