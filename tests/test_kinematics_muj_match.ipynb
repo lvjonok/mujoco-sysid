{
 "cells": [
  {
   "cell_type": "code",
   "execution_count": 1,
   "metadata": {},
   "outputs": [],
   "source": [
    "from robot_descriptions.z1_description import URDF_PATH\n",
    "from robot_descriptions.z1_mj_description import MJCF_PATH\n",
    "\n",
    "\n",
    "import mujoco\n",
    "import pinocchio as pin\n",
    "import numpy as np\n",
    "\n",
    "np.random.seed(0)"
   ]
  },
  {
   "cell_type": "code",
   "execution_count": 2,
   "metadata": {},
   "outputs": [],
   "source": [
    "pinmodel = pin.buildModelFromUrdf(URDF_PATH)\n",
    "pindata = pinmodel.createData()\n",
    "\n",
    "mjmodel = mujoco.MjModel.from_xml_path(MJCF_PATH)\n",
    "mjdata = mujoco.MjData(mjmodel)"
   ]
  },
  {
   "cell_type": "code",
   "execution_count": 3,
   "metadata": {},
   "outputs": [],
   "source": [
    "q = np.random.randn(mjmodel.nq)\n",
    "v = np.random.randn(mjmodel.nv)\n",
    "dv = np.random.randn(mjmodel.nv)\n",
    "\n",
    "# tau = pin.rnea(pinmodel, pindata, q, v, dv)\n",
    "\n",
    "mjdata.qpos = q.copy()\n",
    "mjdata.qvel = v.copy()\n",
    "mjdata.qacc = dv.copy()\n",
    "# mjdata.ctrl = tau.copy()"
   ]
  },
  {
   "cell_type": "code",
   "execution_count": 4,
   "metadata": {},
   "outputs": [],
   "source": [
    "\n",
    "body_idx = 4"
   ]
  },
  {
   "cell_type": "code",
   "execution_count": 5,
   "metadata": {},
   "outputs": [],
   "source": [
    "pin.computeAllTerms(pinmodel, pindata, q, v)\n",
    "pin.forwardKinematics(pinmodel, pindata, q, v, dv)\n",
    "# pin.framesForwardKinematics(pinmodel, pindata, q)"
   ]
  },
  {
   "cell_type": "code",
   "execution_count": 6,
   "metadata": {},
   "outputs": [
    {
     "data": {
      "text/plain": [
       "(  v = -0.0386146  -0.213597 0.00697333\n",
       "   w =   0.43721  0.156022 -0.843514,\n",
       "   v = 0.0825157 -0.141572 0.0439487\n",
       "   w =   0.48182  0.899213 -0.607455,\n",
       " array([[ 0.17051182, -0.9813841 ,  0.08837964],\n",
       "        [-0.87129896, -0.19205531, -0.45161143],\n",
       "        [ 0.46017805,  0.        , -0.88782665]]))"
      ]
     },
     "execution_count": 6,
     "metadata": {},
     "output_type": "execute_result"
    }
   ],
   "source": [
    "def pin_body(idx):\n",
    "    vel = pin.getVelocity(pinmodel, pindata, idx, pin.LOCAL)\n",
    "\n",
    "    accel = pin.getAcceleration(pinmodel, pindata, idx, pin.LOCAL)\n",
    "\n",
    "    rotation = pindata.oMi[idx].rotation\n",
    "\n",
    "    return vel, accel, rotation\n",
    "\n",
    "\n",
    "\n",
    "vel, acc, rotation = pin_body(body_idx)\n",
    "\n",
    "vel, acc, rotation"
   ]
  },
  {
   "cell_type": "code",
   "execution_count": 7,
   "metadata": {},
   "outputs": [
    {
     "data": {
      "text/plain": [
       "  v = -0.0965684  -0.112049 -0.0434133\n",
       "  w =   0.48182  0.899213 -0.607455"
      ]
     },
     "execution_count": 7,
     "metadata": {},
     "output_type": "execute_result"
    }
   ],
   "source": [
    "pin.getClassicalAcceleration(pinmodel, pindata, body_idx, pin.LOCAL)"
   ]
  },
  {
   "cell_type": "code",
   "execution_count": 8,
   "metadata": {},
   "outputs": [],
   "source": [
    "# mujoco.mj_step(mjmodel, mjdata)\n",
    "# mujoco.mj_kinematics(mjmodel, mjdata)\n",
    "mujoco.mj_inverse(mjmodel, mjdata)"
   ]
  },
  {
   "cell_type": "code",
   "execution_count": 9,
   "metadata": {},
   "outputs": [
    {
     "data": {
      "text/plain": [
       "(array([-0.03861464, -0.21359706,  0.00697333]),\n",
       " array([ 0.43720984,  0.15602244, -0.84351382]),\n",
       " array([-0.09656842, -0.1120487 , -0.04341331]),\n",
       " array([ 0.48181994,  0.89921258, -0.60745503]),\n",
       " array([[ 1.70511825e-01, -9.81384103e-01,  8.83796400e-02],\n",
       "        [-8.71298959e-01, -1.92055313e-01, -4.51611426e-01],\n",
       "        [ 4.60178054e-01,  8.32667268e-17, -8.87826649e-01]]))"
      ]
     },
     "execution_count": 9,
     "metadata": {},
     "output_type": "execute_result"
    }
   ],
   "source": [
    "# TODO: Read more about transformations here:\n",
    "# https://mujoco.readthedocs.io/en/stable/programming/simulation.html#coordinate-frames-and-transformations\n",
    "# velocity computation 2 - xbody\n",
    "rotlin_vel = np.zeros(6)\n",
    "mujoco.mj_objectVelocity(mjmodel, mjdata, 2, body_idx + 1, rotlin_vel, 1)\n",
    "\n",
    "# acceleration computation\n",
    "rotlin_acc = np.zeros(6)\n",
    "mujoco.mj_rnePostConstraint(mjmodel, mjdata)\n",
    "mujoco.mj_objectAcceleration(mjmodel, mjdata, 2, body_idx + 1, rotlin_acc, 1)\n",
    "\n",
    "# rotation matrix\n",
    "rotation = mjdata.xmat[body_idx + 1].reshape(3, 3).copy()\n",
    "rotlin_vel, rotlin_acc, rotation\n",
    "vel_lin_muj = rotlin_vel[3:]\n",
    "vel_ang_muj = rotlin_vel[:3]\n",
    "acc_lin_muj_g = rotlin_acc[3:]\n",
    "acc_lin_muj_class = rotlin_acc[3:] + rotation.T @ mjmodel.opt.gravity\n",
    "acc_ang_muj = rotlin_acc[:3] \n",
    "vel_lin_muj, vel_ang_muj, acc_lin_muj_class, acc_ang_muj, rotation"
   ]
  },
  {
   "cell_type": "code",
   "execution_count": 10,
   "metadata": {},
   "outputs": [
    {
     "data": {
      "text/plain": [
       "array([ 0.08251565, -0.14157187,  0.04394868])"
      ]
     },
     "execution_count": 10,
     "metadata": {},
     "output_type": "execute_result"
    }
   ],
   "source": [
    "acc_muj_lin_spatial = acc_lin_muj_class - pin.skew(vel_ang_muj)@vel_lin_muj \n",
    "acc_muj_lin_spatial"
   ]
  },
  {
   "cell_type": "code",
   "execution_count": 11,
   "metadata": {},
   "outputs": [
    {
     "data": {
      "text/plain": [
       "(array([[-6.93889390e-18,  1.62745250e-01,  1.35459479e-01,\n",
       "          0.00000000e+00,  0.00000000e+00,  0.00000000e+00],\n",
       "        [-2.24818089e-01,  0.00000000e+00, -6.93889390e-18,\n",
       "          0.00000000e+00,  0.00000000e+00,  0.00000000e+00],\n",
       "        [-3.46944695e-18, -1.68868885e-01,  1.80065903e-01,\n",
       "          0.00000000e+00,  0.00000000e+00,  0.00000000e+00]]),\n",
       " array([[ 4.60178054e-01,  2.77555756e-17,  2.77555756e-17,\n",
       "          2.77555756e-17,  0.00000000e+00,  0.00000000e+00],\n",
       "        [ 0.00000000e+00,  1.00000000e+00,  1.00000000e+00,\n",
       "          1.00000000e+00,  0.00000000e+00,  0.00000000e+00],\n",
       "        [-8.87826649e-01,  0.00000000e+00,  0.00000000e+00,\n",
       "          0.00000000e+00,  0.00000000e+00,  0.00000000e+00]]))"
      ]
     },
     "execution_count": 11,
     "metadata": {},
     "output_type": "execute_result"
    }
   ],
   "source": [
    "jacobian_pin = pin.getJointJacobian(pinmodel, \n",
    "                                pindata, \n",
    "                                body_idx, \n",
    "                                pin.LOCAL)\n",
    "jacobian_pin[:3], jacobian_pin[3:]"
   ]
  },
  {
   "cell_type": "code",
   "execution_count": 12,
   "metadata": {},
   "outputs": [],
   "source": [
    "jacobian_muj_lin = np.zeros((3, mjmodel.nv))\n",
    "jacobian_muj_rot = np.zeros((3, mjmodel.nv))"
   ]
  },
  {
   "cell_type": "code",
   "execution_count": 13,
   "metadata": {},
   "outputs": [],
   "source": [
    "mujoco.mj_jacPointAxis(mjmodel, mjdata, jacobian_muj_lin, None, mjdata.xanchor[body_idx], mjdata.xaxis[body_idx], body_idx)\n",
    "mujoco.mj_jacBody(mjmodel, mjdata, None, jacobian_muj_rot,  body_idx+1)\n",
    "rotation = mjdata.xmat[body_idx+1].reshape(3, 3).copy()"
   ]
  },
  {
   "cell_type": "code",
   "execution_count": 14,
   "metadata": {},
   "outputs": [
    {
     "data": {
      "text/plain": [
       "(array([[ 7.57055331e-17,  1.62745250e-01,  1.35459479e-01,\n",
       "          0.00000000e+00,  0.00000000e+00,  0.00000000e+00],\n",
       "        [-2.86965954e-01,  3.14020881e-17,  3.53047835e-17,\n",
       "          0.00000000e+00,  0.00000000e+00,  0.00000000e+00],\n",
       "        [ 2.08373163e-17, -2.38868885e-01,  1.10065903e-01,\n",
       "          0.00000000e+00,  0.00000000e+00,  0.00000000e+00]]),\n",
       " array([[ 4.60178054e-01, -2.35287741e-16, -2.35287741e-16,\n",
       "         -1.84197714e-16,  0.00000000e+00,  0.00000000e+00],\n",
       "        [ 8.32667268e-17,  1.00000000e+00,  1.00000000e+00,\n",
       "          1.00000000e+00,  0.00000000e+00,  0.00000000e+00],\n",
       "        [-8.87826649e-01, -5.63852024e-17, -5.63852024e-17,\n",
       "         -1.54953761e-16,  0.00000000e+00,  0.00000000e+00]]))"
      ]
     },
     "execution_count": 14,
     "metadata": {},
     "output_type": "execute_result"
    }
   ],
   "source": [
    "rotation.T@jacobian_muj_lin, rotation.T@jacobian_muj_rot"
   ]
  }
 ],
 "metadata": {
  "kernelspec": {
   "display_name": "venv",
   "language": "python",
   "name": "python3"
  },
  "language_info": {
   "codemirror_mode": {
    "name": "ipython",
    "version": 3
   },
   "file_extension": ".py",
   "mimetype": "text/x-python",
   "name": "python",
   "nbconvert_exporter": "python",
   "pygments_lexer": "ipython3",
   "version": "3.11.8"
  }
 },
 "nbformat": 4,
 "nbformat_minor": 2
}
